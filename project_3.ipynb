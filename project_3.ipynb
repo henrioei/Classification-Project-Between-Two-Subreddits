{
 "cells": [
  {
   "cell_type": "markdown",
   "id": "cea2bc0f",
   "metadata": {},
   "source": [
    "# Project 3 - Web APIs & Classification"
   ]
  },
  {
   "cell_type": "markdown",
   "id": "dda2c7a0",
   "metadata": {},
   "source": [
    "----------"
   ]
  },
  {
   "cell_type": "markdown",
   "id": "a7255d71",
   "metadata": {},
   "source": [
    "# Problem Statement\n",
    "\n",
    "\n",
    "In this project we will be creating a model that can differentiate between a two subreddits, [/r/dota2](https://www.reddit.com/r/DotA2/) and [/r/leagueoflegends](https://www.reddit.com/r/leagueoflegends/).\n",
    "\n",
    "Both subreddits are similar in a sense that both shares under the same genre umbrella called \"MOBA\" or \"Multiplayer Online Battle Arena.\""
   ]
  },
  {
   "cell_type": "markdown",
   "id": "279654bc",
   "metadata": {},
   "source": [
    "# Table of Contents"
   ]
  },
  {
   "cell_type": "markdown",
   "id": "dd6df0b8",
   "metadata": {},
   "source": [
    "1. [Data and Library Import & Creating Data Frames](#1.-Data-and-Library-Import-&-Creating-Data-Frames)\n",
    "    - [Import Libraries](#Import-Libraries)\n",
    "    - [Import Data from Reddit API](#Import-Data-from-Reddit-API)\n",
    "    - [Collect Data from Dota2 Subreddit](#Collect-Data-from-Dota2-Subreddit)\n",
    "    - [Collect Data from League of Legends Subreddit](#Collect-Data-from-League-of-Legends-Subreddit)\n",
    "    - [Combined the column \"Selfttext\" and \"Title\"](#Combined-the-column-\"Selfttext\"-and-\"Title\")\n",
    "\n",
    "---\n",
    "\n",
    "2. [Exploratory Data Analysis](#2.-Exploratory-Data-Analysis)\n",
    "    - [Identifying stopwords](#Identifying-stopwords)\n",
    "    - [Pre-Processing](#Pre-Processing)\n",
    "    - [Visualizations - Top words that are not Stop Words](#Visualizations---Top-words-that-are-not-Stop-Words)\n",
    "    - [Visualizations - WordCloud](#Visualizations---WordCloud)\n",
    "    - [Visualizations - WordCloud (Removed Unhelpful Words)](#Visualizations---WordCloud-(Removed-Unhelpful-Words))\n",
    "    - [Visualizations - Top 20 of NGrams (1,2 and 1,3)](#Visualizations---Top-20-of-NGrams-(1,2-and-1,3))\n",
    "\n",
    "---\n",
    "\n",
    "3. [Modelling](#3.-Modelling)\n",
    "    - [Model 1 - CountVectorization and Random Forest Classifier](#Model-1---CountVectorization-and-Random-Forest-Classifier)\n",
    "    - [Model 2 - TFIDF and Multinomial Naive Bayes](#Model-2---TFIDF-and-Multinomial-Naive-Bayes)\n",
    "    \n",
    "---\n",
    "\n",
    "4. [Evaluation and Conceptual Understanding](#4.-Evaluation-and-Conceptual-Understanding)\n",
    "\n",
    "---\n",
    "\n",
    "5. [Conclusion and Recommendations](#5.-Conclusion-and-Recommendations)"
   ]
  },
  {
   "cell_type": "markdown",
   "id": "10676460",
   "metadata": {},
   "source": [
    "# 1. Data and Library Import & Creating Data Frames"
   ]
  },
  {
   "cell_type": "markdown",
   "id": "4c7ad4a4",
   "metadata": {},
   "source": [
    "## Import Libraries"
   ]
  },
  {
   "cell_type": "code",
   "execution_count": 1,
   "id": "3dbe691e",
   "metadata": {},
   "outputs": [],
   "source": [
    "import pandas as pd\n",
    "import requests\n",
    "import matplotlib.pyplot as plt\n",
    "import numpy as np\n",
    "import re\n",
    "import nltk\n",
    "import seaborn as sns\n",
    "import string\n",
    "\n",
    "from collections import  Counter\n",
    "from sklearn.model_selection import train_test_split, GridSearchCV\n",
    "from sklearn.pipeline import Pipeline\n",
    "from sklearn.naive_bayes import MultinomialNB\n",
    "from sklearn.metrics import confusion_matrix, plot_confusion_matrix,classification_report\n",
    "from sklearn.ensemble import RandomForestClassifier\n",
    "from sklearn import metrics  \n",
    "from nltk.stem.porter import PorterStemmer\n",
    "from nltk.corpus import stopwords\n",
    "from nltk.stem import WordNetLemmatizer\n",
    "from wordcloud import WordCloud, STOPWORDS\n",
    "from sklearn.metrics import f1_score\n",
    "from sklearn.feature_extraction.text import CountVectorizer, TfidfVectorizer"
   ]
  },
  {
   "cell_type": "markdown",
   "id": "8119ac78",
   "metadata": {},
   "source": [
    "## Import Data from Reddit API"
   ]
  },
  {
   "cell_type": "code",
   "execution_count": 2,
   "id": "d7268b8d",
   "metadata": {},
   "outputs": [],
   "source": [
    "url = 'https://api.pushshift.io/reddit/search/submission'"
   ]
  },
  {
   "cell_type": "markdown",
   "id": "cb0dd2f6",
   "metadata": {},
   "source": [
    "## Collect Data from Dota2 Subreddit"
   ]
  },
  {
   "cell_type": "code",
   "execution_count": 3,
   "id": "b7942f38",
   "metadata": {},
   "outputs": [],
   "source": [
    "p1 = {\n",
    "    'subreddit': 'DotA2',\n",
    "    'size': 100,\n",
    "    'before': 1630454400,\n",
    "    'after': 1625097600\n",
    "}\n",
    "\n",
    "r1 = requests.get(url,p1)\n",
    "d1 = r1.json()\n",
    "i1 = d1['data']\n",
    "ddf1 = pd.DataFrame(i1)"
   ]
  },
  {
   "cell_type": "code",
   "execution_count": 4,
   "id": "2e2da464",
   "metadata": {},
   "outputs": [],
   "source": [
    "p2 = {\n",
    "    'subreddit': 'DotA2',\n",
    "    'size': 100,\n",
    "    'before': 1625097600,\n",
    "    'after': 1619827200\n",
    "}\n",
    "\n",
    "r2 = requests.get(url,p2)\n",
    "d2 = r2.json()\n",
    "i2 = d2['data']\n",
    "ddf2 = pd.DataFrame(i2)"
   ]
  },
  {
   "cell_type": "code",
   "execution_count": 5,
   "id": "558841fe",
   "metadata": {},
   "outputs": [],
   "source": [
    "p3 = {\n",
    "    'subreddit': 'DotA2',\n",
    "    'size': 100,\n",
    "    'before': 1619827200,\n",
    "    'after': 1614556800\n",
    "}\n",
    "\n",
    "r3 = requests.get(url,p3)\n",
    "d3 = r3.json()\n",
    "i3 = d3['data']\n",
    "ddf3 = pd.DataFrame(i3)"
   ]
  },
  {
   "cell_type": "code",
   "execution_count": 6,
   "id": "16a21c2e",
   "metadata": {},
   "outputs": [],
   "source": [
    "p4 = {\n",
    "    'subreddit': 'DotA2',\n",
    "    'size': 100,\n",
    "    'before': 1625097600,\n",
    "    'after': 1609459200\n",
    "}\n",
    "\n",
    "r4 = requests.get(url,p4)\n",
    "d4 = r4.json()\n",
    "i4 = d4['data']\n",
    "ddf4 = pd.DataFrame(i4)"
   ]
  },
  {
   "cell_type": "code",
   "execution_count": 7,
   "id": "4c3c902c",
   "metadata": {},
   "outputs": [],
   "source": [
    "p5 = {\n",
    "    'subreddit': 'DotA2',\n",
    "    'size': 100,\n",
    "    'before': 1619827200,\n",
    "    'after': 1604188800\n",
    "}\n",
    "\n",
    "r5 = requests.get(url,p5)\n",
    "d5 = r5.json()\n",
    "i5 = d5['data']\n",
    "ddf5 = pd.DataFrame(i5)"
   ]
  },
  {
   "cell_type": "code",
   "execution_count": 8,
   "id": "023c1324",
   "metadata": {},
   "outputs": [],
   "source": [
    "p6 = {\n",
    "    'subreddit': 'DotA2',\n",
    "    'size': 100,\n",
    "    'before': 1614556800,\n",
    "    'after': 1598918400\n",
    "}\n",
    "\n",
    "r6 = requests.get(url,p6)\n",
    "d6 = r6.json()\n",
    "i6 = d6['data']\n",
    "ddf6 = pd.DataFrame(i6)"
   ]
  },
  {
   "cell_type": "code",
   "execution_count": 9,
   "id": "b5820ed1",
   "metadata": {},
   "outputs": [],
   "source": [
    "p7 = {\n",
    "    'subreddit': 'DotA2',\n",
    "    'size': 100,\n",
    "    'before': 1598918400,\n",
    "    'after': 1593561600\n",
    "}\n",
    "\n",
    "r7 = requests.get(url,p7)\n",
    "d7 = r7.json()\n",
    "i7 = d7['data']\n",
    "ddf7 = pd.DataFrame(i7)"
   ]
  },
  {
   "cell_type": "code",
   "execution_count": 10,
   "id": "2e0d717c",
   "metadata": {},
   "outputs": [],
   "source": [
    "p8 = {\n",
    "    'subreddit': 'DotA2',\n",
    "    'size': 100,\n",
    "    'before': 1593561600,\n",
    "    'after': 1588291200\n",
    "}\n",
    "\n",
    "r8 = requests.get(url,p8)\n",
    "d8 = r8.json()\n",
    "i8 = d8['data']\n",
    "ddf8 = pd.DataFrame(i8)"
   ]
  },
  {
   "cell_type": "code",
   "execution_count": 11,
   "id": "ca1d026d",
   "metadata": {},
   "outputs": [],
   "source": [
    "p9 = {\n",
    "    'subreddit': 'DotA2',\n",
    "    'size': 100,\n",
    "    'before': 1588291200,\n",
    "    'after': 1583020800\n",
    "}\n",
    "\n",
    "r9 = requests.get(url,p9)\n",
    "d9 = r9.json()\n",
    "i9 = d9['data']\n",
    "ddf9 = pd.DataFrame(i9)"
   ]
  },
  {
   "cell_type": "code",
   "execution_count": 12,
   "id": "7cb23cb5",
   "metadata": {},
   "outputs": [],
   "source": [
    "p10 = {\n",
    "    'subreddit': 'DotA2',\n",
    "    'size': 100,\n",
    "    'before': 1583020800,\n",
    "    'after': 1577836800\n",
    "}\n",
    "\n",
    "r10 = requests.get(url,p10)\n",
    "d10 = r10.json()\n",
    "i10 = d10['data']\n",
    "ddf10 = pd.DataFrame(i10)"
   ]
  },
  {
   "cell_type": "code",
   "execution_count": 13,
   "id": "8bdf74c9",
   "metadata": {
    "scrolled": false
   },
   "outputs": [],
   "source": [
    "ddf1 = ddf1[['subreddit', 'title', 'selftext']]\n",
    "ddf2 = ddf2[['subreddit', 'title', 'selftext']]\n",
    "ddf3 = ddf3[['subreddit', 'title', 'selftext']]\n",
    "ddf4 = ddf4[['subreddit', 'title', 'selftext']]\n",
    "ddf5 = ddf5[['subreddit', 'title', 'selftext']]\n",
    "ddf6 = ddf6[['subreddit', 'title', 'selftext']]\n",
    "ddf7 = ddf7[['subreddit', 'title', 'selftext']]\n",
    "ddf8 = ddf8[['subreddit', 'title', 'selftext']]\n",
    "ddf9 = ddf9[['subreddit', 'title', 'selftext']]\n",
    "ddf10 = ddf10[['subreddit', 'title', 'selftext']]\n",
    "\n",
    "ddf = pd.concat([ddf1,ddf2,ddf3,ddf4,ddf5,ddf6,ddf7,ddf8,ddf9,ddf10], axis=0)"
   ]
  },
  {
   "cell_type": "code",
   "execution_count": 14,
   "id": "7ca3bf7e",
   "metadata": {
    "scrolled": true
   },
   "outputs": [
    {
     "data": {
      "text/html": [
       "<div>\n",
       "<style scoped>\n",
       "    .dataframe tbody tr th:only-of-type {\n",
       "        vertical-align: middle;\n",
       "    }\n",
       "\n",
       "    .dataframe tbody tr th {\n",
       "        vertical-align: top;\n",
       "    }\n",
       "\n",
       "    .dataframe thead th {\n",
       "        text-align: right;\n",
       "    }\n",
       "</style>\n",
       "<table border=\"1\" class=\"dataframe\">\n",
       "  <thead>\n",
       "    <tr style=\"text-align: right;\">\n",
       "      <th></th>\n",
       "      <th>subreddit</th>\n",
       "      <th>title</th>\n",
       "      <th>selftext</th>\n",
       "    </tr>\n",
       "  </thead>\n",
       "  <tbody>\n",
       "    <tr>\n",
       "      <th>0</th>\n",
       "      <td>DotA2</td>\n",
       "      <td>Weird blink bug on PA</td>\n",
       "      <td></td>\n",
       "    </tr>\n",
       "    <tr>\n",
       "      <th>1</th>\n",
       "      <td>DotA2</td>\n",
       "      <td>Ability Draft Appreciation Thread!</td>\n",
       "      <td>Yeah title, talk about why this is the best ga...</td>\n",
       "    </tr>\n",
       "    <tr>\n",
       "      <th>2</th>\n",
       "      <td>DotA2</td>\n",
       "      <td>Weird bug on PA</td>\n",
       "      <td></td>\n",
       "    </tr>\n",
       "    <tr>\n",
       "      <th>3</th>\n",
       "      <td>DotA2</td>\n",
       "      <td>Battlepass situation after the reveal of secon...</td>\n",
       "      <td></td>\n",
       "    </tr>\n",
       "    <tr>\n",
       "      <th>4</th>\n",
       "      <td>DotA2</td>\n",
       "      <td>Weird interaction between Winter's Curse and S...</td>\n",
       "      <td></td>\n",
       "    </tr>\n",
       "    <tr>\n",
       "      <th>...</th>\n",
       "      <td>...</td>\n",
       "      <td>...</td>\n",
       "      <td>...</td>\n",
       "    </tr>\n",
       "    <tr>\n",
       "      <th>95</th>\n",
       "      <td>DotA2</td>\n",
       "      <td>Urgent feature addition: language-strict match...</td>\n",
       "      <td>DotA gameplay is undeniably more efficient whe...</td>\n",
       "    </tr>\n",
       "    <tr>\n",
       "      <th>96</th>\n",
       "      <td>DotA2</td>\n",
       "      <td>please add an option to disable taunts, tips, ...</td>\n",
       "      <td>i get mood swings and mental breakdowns but i ...</td>\n",
       "    </tr>\n",
       "    <tr>\n",
       "      <th>97</th>\n",
       "      <td>DotA2</td>\n",
       "      <td>Epic matchmaking algorithms</td>\n",
       "      <td>Hey Valve, thanks for putting 2 double stacks ...</td>\n",
       "    </tr>\n",
       "    <tr>\n",
       "      <th>98</th>\n",
       "      <td>DotA2</td>\n",
       "      <td>The good old days</td>\n",
       "      <td>Who else played dota 2 before reborn beta?Dota...</td>\n",
       "    </tr>\n",
       "    <tr>\n",
       "      <th>99</th>\n",
       "      <td>DotA2</td>\n",
       "      <td>Literally Unplayable.</td>\n",
       "      <td></td>\n",
       "    </tr>\n",
       "  </tbody>\n",
       "</table>\n",
       "<p>1000 rows × 3 columns</p>\n",
       "</div>"
      ],
      "text/plain": [
       "   subreddit                                              title  \\\n",
       "0      DotA2                              Weird blink bug on PA   \n",
       "1      DotA2                 Ability Draft Appreciation Thread!   \n",
       "2      DotA2                                    Weird bug on PA   \n",
       "3      DotA2  Battlepass situation after the reveal of secon...   \n",
       "4      DotA2  Weird interaction between Winter's Curse and S...   \n",
       "..       ...                                                ...   \n",
       "95     DotA2  Urgent feature addition: language-strict match...   \n",
       "96     DotA2  please add an option to disable taunts, tips, ...   \n",
       "97     DotA2                        Epic matchmaking algorithms   \n",
       "98     DotA2                                  The good old days   \n",
       "99     DotA2                              Literally Unplayable.   \n",
       "\n",
       "                                             selftext  \n",
       "0                                                      \n",
       "1   Yeah title, talk about why this is the best ga...  \n",
       "2                                                      \n",
       "3                                                      \n",
       "4                                                      \n",
       "..                                                ...  \n",
       "95  DotA gameplay is undeniably more efficient whe...  \n",
       "96  i get mood swings and mental breakdowns but i ...  \n",
       "97  Hey Valve, thanks for putting 2 double stacks ...  \n",
       "98  Who else played dota 2 before reborn beta?Dota...  \n",
       "99                                                     \n",
       "\n",
       "[1000 rows x 3 columns]"
      ]
     },
     "execution_count": 14,
     "metadata": {},
     "output_type": "execute_result"
    }
   ],
   "source": [
    "ddf"
   ]
  },
  {
   "cell_type": "markdown",
   "id": "1ecadb13",
   "metadata": {},
   "source": [
    "## Collect Data from League of Legends Subreddit"
   ]
  },
  {
   "cell_type": "code",
   "execution_count": 15,
   "id": "dc885341",
   "metadata": {},
   "outputs": [],
   "source": [
    "p1 = {\n",
    "    'subreddit': 'leagueoflegends',\n",
    "    'size': 100,\n",
    "    'before': 1630454400,\n",
    "    'after': 1625097600\n",
    "}\n",
    "\n",
    "r1 = requests.get(url,p1)\n",
    "d1 = r1.json()\n",
    "i1 = d1['data']\n",
    "ddf1 = pd.DataFrame(i1)"
   ]
  },
  {
   "cell_type": "code",
   "execution_count": 16,
   "id": "412415ae",
   "metadata": {},
   "outputs": [],
   "source": [
    "p2 = {\n",
    "    'subreddit': 'leagueoflegends',\n",
    "    'size': 100,\n",
    "    'before': 1625097600,\n",
    "    'after': 1619827200\n",
    "}\n",
    "\n",
    "r2 = requests.get(url,p2)\n",
    "d2 = r2.json()\n",
    "i2 = d2['data']\n",
    "ddf2 = pd.DataFrame(i2)"
   ]
  },
  {
   "cell_type": "code",
   "execution_count": 17,
   "id": "557bd571",
   "metadata": {},
   "outputs": [],
   "source": [
    "p3 = {\n",
    "    'subreddit': 'leagueoflegends',\n",
    "    'size': 100,\n",
    "    'before': 1619827200,\n",
    "    'after': 1614556800\n",
    "}\n",
    "\n",
    "r3 = requests.get(url,p3)\n",
    "d3 = r3.json()\n",
    "i3 = d3['data']\n",
    "ddf3 = pd.DataFrame(i3)"
   ]
  },
  {
   "cell_type": "code",
   "execution_count": 18,
   "id": "e0e52c24",
   "metadata": {},
   "outputs": [],
   "source": [
    "p4 = {\n",
    "    'subreddit': 'leagueoflegends',\n",
    "    'size': 100,\n",
    "    'before': 1625097600,\n",
    "    'after': 1609459200\n",
    "}\n",
    "\n",
    "r4 = requests.get(url,p4)\n",
    "d4 = r4.json()\n",
    "i4 = d4['data']\n",
    "ddf4 = pd.DataFrame(i4)"
   ]
  },
  {
   "cell_type": "code",
   "execution_count": 19,
   "id": "5472a4e4",
   "metadata": {},
   "outputs": [],
   "source": [
    "p5 = {\n",
    "    'subreddit': 'leagueoflegends',\n",
    "    'size': 100,\n",
    "    'before': 1619827200,\n",
    "    'after': 1604188800\n",
    "}\n",
    "\n",
    "r5 = requests.get(url,p5)\n",
    "d5 = r5.json()\n",
    "i5 = d5['data']\n",
    "ddf5 = pd.DataFrame(i5)"
   ]
  },
  {
   "cell_type": "code",
   "execution_count": 20,
   "id": "6926cd8f",
   "metadata": {},
   "outputs": [],
   "source": [
    "p6 = {\n",
    "    'subreddit': 'leagueoflegends',\n",
    "    'size': 100,\n",
    "    'before': 1614556800,\n",
    "    'after': 1598918400\n",
    "}\n",
    "\n",
    "r6 = requests.get(url,p6)\n",
    "d6 = r6.json()\n",
    "i6 = d6['data']\n",
    "ddf6 = pd.DataFrame(i6)"
   ]
  },
  {
   "cell_type": "code",
   "execution_count": 21,
   "id": "b2999ddb",
   "metadata": {},
   "outputs": [],
   "source": [
    "p7 = {\n",
    "    'subreddit': 'leagueoflegends',\n",
    "    'size': 100,\n",
    "    'before': 1598918400,\n",
    "    'after': 1593561600\n",
    "}\n",
    "\n",
    "r7 = requests.get(url,p7)\n",
    "d7 = r7.json()\n",
    "i7 = d7['data']\n",
    "ddf7 = pd.DataFrame(i7)"
   ]
  },
  {
   "cell_type": "code",
   "execution_count": 22,
   "id": "753d94f0",
   "metadata": {},
   "outputs": [],
   "source": [
    "p8 = {\n",
    "    'subreddit': 'leagueoflegends',\n",
    "    'size': 100,\n",
    "    'before': 1593561600,\n",
    "    'after': 1588291200\n",
    "}\n",
    "\n",
    "r8 = requests.get(url,p8)\n",
    "d8 = r8.json()\n",
    "i8 = d8['data']\n",
    "ddf8 = pd.DataFrame(i8)"
   ]
  },
  {
   "cell_type": "code",
   "execution_count": 23,
   "id": "3e2e8761",
   "metadata": {},
   "outputs": [],
   "source": [
    "p9 = {\n",
    "    'subreddit': 'leagueoflegends',\n",
    "    'size': 100,\n",
    "    'before': 1588291200,\n",
    "    'after': 1583020800\n",
    "}\n",
    "\n",
    "r9 = requests.get(url,p9)\n",
    "d9 = r9.json()\n",
    "i9 = d9['data']\n",
    "ddf9 = pd.DataFrame(i9)"
   ]
  },
  {
   "cell_type": "code",
   "execution_count": 24,
   "id": "e1227d4e",
   "metadata": {},
   "outputs": [],
   "source": [
    "p10 = {\n",
    "    'subreddit': 'leagueoflegends',\n",
    "    'size': 100,\n",
    "    'before': 1583020800,\n",
    "    'after': 1577836800\n",
    "}\n",
    "\n",
    "r10 = requests.get(url,p10)\n",
    "d10 = r10.json()\n",
    "i10 = d10['data']\n",
    "ddf10 = pd.DataFrame(i10)"
   ]
  },
  {
   "cell_type": "code",
   "execution_count": 25,
   "id": "5836c5b9",
   "metadata": {},
   "outputs": [],
   "source": [
    "ddf1 = ddf1[['subreddit', 'title', 'selftext']]\n",
    "ddf2 = ddf2[['subreddit', 'title', 'selftext']]\n",
    "ddf3 = ddf3[['subreddit', 'title', 'selftext']]\n",
    "ddf4 = ddf4[['subreddit', 'title', 'selftext']]\n",
    "ddf5 = ddf5[['subreddit', 'title', 'selftext']]\n",
    "ddf6 = ddf6[['subreddit', 'title', 'selftext']]\n",
    "ddf7 = ddf7[['subreddit', 'title', 'selftext']]\n",
    "ddf8 = ddf8[['subreddit', 'title', 'selftext']]\n",
    "ddf9 = ddf9[['subreddit', 'title', 'selftext']]\n",
    "ddf10 = ddf10[['subreddit', 'title', 'selftext']]\n",
    "\n",
    "lolf = pd.concat([ddf1,ddf2,ddf3,ddf4,ddf5,ddf6,ddf7,ddf8,ddf9,ddf10], axis=0)"
   ]
  },
  {
   "cell_type": "code",
   "execution_count": 26,
   "id": "3c944019",
   "metadata": {
    "scrolled": true
   },
   "outputs": [
    {
     "data": {
      "text/html": [
       "<div>\n",
       "<style scoped>\n",
       "    .dataframe tbody tr th:only-of-type {\n",
       "        vertical-align: middle;\n",
       "    }\n",
       "\n",
       "    .dataframe tbody tr th {\n",
       "        vertical-align: top;\n",
       "    }\n",
       "\n",
       "    .dataframe thead th {\n",
       "        text-align: right;\n",
       "    }\n",
       "</style>\n",
       "<table border=\"1\" class=\"dataframe\">\n",
       "  <thead>\n",
       "    <tr style=\"text-align: right;\">\n",
       "      <th></th>\n",
       "      <th>subreddit</th>\n",
       "      <th>title</th>\n",
       "      <th>selftext</th>\n",
       "    </tr>\n",
       "  </thead>\n",
       "  <tbody>\n",
       "    <tr>\n",
       "      <th>0</th>\n",
       "      <td>leagueoflegends</td>\n",
       "      <td>u.gg Ads</td>\n",
       "      <td>[removed]</td>\n",
       "    </tr>\n",
       "    <tr>\n",
       "      <th>1</th>\n",
       "      <td>leagueoflegends</td>\n",
       "      <td>Ultimate spellbook but its only Zoe R 4th Shot</td>\n",
       "      <td></td>\n",
       "    </tr>\n",
       "    <tr>\n",
       "      <th>2</th>\n",
       "      <td>leagueoflegends</td>\n",
       "      <td>What are champions do you NOT hate laning agai...</td>\n",
       "      <td>I always hear the community complaining about ...</td>\n",
       "    </tr>\n",
       "    <tr>\n",
       "      <th>3</th>\n",
       "      <td>leagueoflegends</td>\n",
       "      <td>League isn't opening</td>\n",
       "      <td>For some reason my league of legends app wont ...</td>\n",
       "    </tr>\n",
       "    <tr>\n",
       "      <th>4</th>\n",
       "      <td>leagueoflegends</td>\n",
       "      <td>The fact that there's no demotion shield betwe...</td>\n",
       "      <td>How is it a rewarding ranked experience in any...</td>\n",
       "    </tr>\n",
       "    <tr>\n",
       "      <th>...</th>\n",
       "      <td>...</td>\n",
       "      <td>...</td>\n",
       "      <td>...</td>\n",
       "    </tr>\n",
       "    <tr>\n",
       "      <th>95</th>\n",
       "      <td>leagueoflegends</td>\n",
       "      <td>From Dota 2 subreddit: Petition to permanently...</td>\n",
       "      <td>[removed]</td>\n",
       "    </tr>\n",
       "    <tr>\n",
       "      <th>96</th>\n",
       "      <td>leagueoflegends</td>\n",
       "      <td>Happy New Year!</td>\n",
       "      <td>I drew this for my boyfriend because he's obse...</td>\n",
       "    </tr>\n",
       "    <tr>\n",
       "      <th>97</th>\n",
       "      <td>leagueoflegends</td>\n",
       "      <td>Exposed</td>\n",
       "      <td></td>\n",
       "    </tr>\n",
       "    <tr>\n",
       "      <th>98</th>\n",
       "      <td>leagueoflegends</td>\n",
       "      <td>The Best Cassio in NA | Cassiopeia lol montage...</td>\n",
       "      <td>A short montage of my friend popin off on cas...</td>\n",
       "    </tr>\n",
       "    <tr>\n",
       "      <th>99</th>\n",
       "      <td>leagueoflegends</td>\n",
       "      <td>Why are there less cheaters and hackers in Lea...</td>\n",
       "      <td>I've played League for over 4 years now, and I...</td>\n",
       "    </tr>\n",
       "  </tbody>\n",
       "</table>\n",
       "<p>1000 rows × 3 columns</p>\n",
       "</div>"
      ],
      "text/plain": [
       "          subreddit                                              title  \\\n",
       "0   leagueoflegends                                           u.gg Ads   \n",
       "1   leagueoflegends     Ultimate spellbook but its only Zoe R 4th Shot   \n",
       "2   leagueoflegends  What are champions do you NOT hate laning agai...   \n",
       "3   leagueoflegends                               League isn't opening   \n",
       "4   leagueoflegends  The fact that there's no demotion shield betwe...   \n",
       "..              ...                                                ...   \n",
       "95  leagueoflegends  From Dota 2 subreddit: Petition to permanently...   \n",
       "96  leagueoflegends                                    Happy New Year!   \n",
       "97  leagueoflegends                                            Exposed   \n",
       "98  leagueoflegends  The Best Cassio in NA | Cassiopeia lol montage...   \n",
       "99  leagueoflegends  Why are there less cheaters and hackers in Lea...   \n",
       "\n",
       "                                             selftext  \n",
       "0                                           [removed]  \n",
       "1                                                      \n",
       "2   I always hear the community complaining about ...  \n",
       "3   For some reason my league of legends app wont ...  \n",
       "4   How is it a rewarding ranked experience in any...  \n",
       "..                                                ...  \n",
       "95                                          [removed]  \n",
       "96  I drew this for my boyfriend because he's obse...  \n",
       "97                                                     \n",
       "98   A short montage of my friend popin off on cas...  \n",
       "99  I've played League for over 4 years now, and I...  \n",
       "\n",
       "[1000 rows x 3 columns]"
      ]
     },
     "execution_count": 26,
     "metadata": {},
     "output_type": "execute_result"
    }
   ],
   "source": [
    "lolf"
   ]
  },
  {
   "cell_type": "code",
   "execution_count": 27,
   "id": "4fd9b638",
   "metadata": {
    "scrolled": true
   },
   "outputs": [
    {
     "data": {
      "text/html": [
       "<div>\n",
       "<style scoped>\n",
       "    .dataframe tbody tr th:only-of-type {\n",
       "        vertical-align: middle;\n",
       "    }\n",
       "\n",
       "    .dataframe tbody tr th {\n",
       "        vertical-align: top;\n",
       "    }\n",
       "\n",
       "    .dataframe thead th {\n",
       "        text-align: right;\n",
       "    }\n",
       "</style>\n",
       "<table border=\"1\" class=\"dataframe\">\n",
       "  <thead>\n",
       "    <tr style=\"text-align: right;\">\n",
       "      <th></th>\n",
       "      <th>subreddit</th>\n",
       "      <th>title</th>\n",
       "      <th>selftext</th>\n",
       "    </tr>\n",
       "  </thead>\n",
       "  <tbody>\n",
       "    <tr>\n",
       "      <th>0</th>\n",
       "      <td>DotA2</td>\n",
       "      <td>Weird blink bug on PA</td>\n",
       "      <td></td>\n",
       "    </tr>\n",
       "    <tr>\n",
       "      <th>1</th>\n",
       "      <td>DotA2</td>\n",
       "      <td>Ability Draft Appreciation Thread!</td>\n",
       "      <td>Yeah title, talk about why this is the best ga...</td>\n",
       "    </tr>\n",
       "    <tr>\n",
       "      <th>2</th>\n",
       "      <td>DotA2</td>\n",
       "      <td>Weird bug on PA</td>\n",
       "      <td></td>\n",
       "    </tr>\n",
       "    <tr>\n",
       "      <th>3</th>\n",
       "      <td>DotA2</td>\n",
       "      <td>Battlepass situation after the reveal of secon...</td>\n",
       "      <td></td>\n",
       "    </tr>\n",
       "    <tr>\n",
       "      <th>4</th>\n",
       "      <td>DotA2</td>\n",
       "      <td>Weird interaction between Winter's Curse and S...</td>\n",
       "      <td></td>\n",
       "    </tr>\n",
       "    <tr>\n",
       "      <th>...</th>\n",
       "      <td>...</td>\n",
       "      <td>...</td>\n",
       "      <td>...</td>\n",
       "    </tr>\n",
       "    <tr>\n",
       "      <th>1995</th>\n",
       "      <td>leagueoflegends</td>\n",
       "      <td>From Dota 2 subreddit: Petition to permanently...</td>\n",
       "      <td>[removed]</td>\n",
       "    </tr>\n",
       "    <tr>\n",
       "      <th>1996</th>\n",
       "      <td>leagueoflegends</td>\n",
       "      <td>Happy New Year!</td>\n",
       "      <td>I drew this for my boyfriend because he's obse...</td>\n",
       "    </tr>\n",
       "    <tr>\n",
       "      <th>1997</th>\n",
       "      <td>leagueoflegends</td>\n",
       "      <td>Exposed</td>\n",
       "      <td></td>\n",
       "    </tr>\n",
       "    <tr>\n",
       "      <th>1998</th>\n",
       "      <td>leagueoflegends</td>\n",
       "      <td>The Best Cassio in NA | Cassiopeia lol montage...</td>\n",
       "      <td>A short montage of my friend popin off on cas...</td>\n",
       "    </tr>\n",
       "    <tr>\n",
       "      <th>1999</th>\n",
       "      <td>leagueoflegends</td>\n",
       "      <td>Why are there less cheaters and hackers in Lea...</td>\n",
       "      <td>I've played League for over 4 years now, and I...</td>\n",
       "    </tr>\n",
       "  </tbody>\n",
       "</table>\n",
       "<p>2000 rows × 3 columns</p>\n",
       "</div>"
      ],
      "text/plain": [
       "            subreddit                                              title  \\\n",
       "0               DotA2                              Weird blink bug on PA   \n",
       "1               DotA2                 Ability Draft Appreciation Thread!   \n",
       "2               DotA2                                    Weird bug on PA   \n",
       "3               DotA2  Battlepass situation after the reveal of secon...   \n",
       "4               DotA2  Weird interaction between Winter's Curse and S...   \n",
       "...               ...                                                ...   \n",
       "1995  leagueoflegends  From Dota 2 subreddit: Petition to permanently...   \n",
       "1996  leagueoflegends                                    Happy New Year!   \n",
       "1997  leagueoflegends                                            Exposed   \n",
       "1998  leagueoflegends  The Best Cassio in NA | Cassiopeia lol montage...   \n",
       "1999  leagueoflegends  Why are there less cheaters and hackers in Lea...   \n",
       "\n",
       "                                               selftext  \n",
       "0                                                        \n",
       "1     Yeah title, talk about why this is the best ga...  \n",
       "2                                                        \n",
       "3                                                        \n",
       "4                                                        \n",
       "...                                                 ...  \n",
       "1995                                          [removed]  \n",
       "1996  I drew this for my boyfriend because he's obse...  \n",
       "1997                                                     \n",
       "1998   A short montage of my friend popin off on cas...  \n",
       "1999  I've played League for over 4 years now, and I...  \n",
       "\n",
       "[2000 rows x 3 columns]"
      ]
     },
     "execution_count": 27,
     "metadata": {},
     "output_type": "execute_result"
    }
   ],
   "source": [
    "dotalol = pd.concat([ddf, lolf], axis=0)\n",
    "dotalol.reset_index(drop = True , inplace = True)\n",
    "dotalol"
   ]
  },
  {
   "cell_type": "markdown",
   "id": "143dc31b",
   "metadata": {},
   "source": [
    "## Combined the column \"Selfttext\" and \"Title\""
   ]
  },
  {
   "cell_type": "code",
   "execution_count": 28,
   "id": "9cbb94ed",
   "metadata": {},
   "outputs": [],
   "source": [
    "dotalol['combine'] = dotalol['title'] + ' '+ dotalol['selftext']"
   ]
  },
  {
   "cell_type": "code",
   "execution_count": 29,
   "id": "14a9fd1d",
   "metadata": {},
   "outputs": [],
   "source": [
    "dotalol['combine']=dotalol['combine'].apply(str)"
   ]
  },
  {
   "cell_type": "markdown",
   "id": "a4404415",
   "metadata": {},
   "source": [
    "## 2. Exploratory Data Analysis"
   ]
  },
  {
   "cell_type": "markdown",
   "id": "3e946cad",
   "metadata": {},
   "source": [
    "## Identifying stopwords"
   ]
  },
  {
   "cell_type": "code",
   "execution_count": 30,
   "id": "5a37f6c4",
   "metadata": {
    "scrolled": true
   },
   "outputs": [
    {
     "data": {
      "image/png": "[encoded data removed]",
      "text/plain": [
       "<Figure size 432x288 with 1 Axes>"
      ]
     },
     "metadata": {
      "needs_background": "light"
     },
     "output_type": "display_data"
    }
   ],
   "source": [
    "stop=set(stopwords.words('english'))\n",
    "\n",
    "corpus=[]\n",
    "new= dotalol['combine'].str.split()\n",
    "new=new.values.tolist()\n",
    "corpus=[word for i in new for word in i]\n",
    "\n",
    "from collections import defaultdict\n",
    "dic=defaultdict(int)\n",
    "for word in corpus:\n",
    "    if word in stop:\n",
    "        dic[word]+=1\n",
    "        \n",
    "top=sorted(dic.items(), key=lambda x:x[1],reverse=True)[:10] \n",
    "x,y=zip(*top)\n",
    "plt.bar(x,y);"
   ]
  },
  {
   "cell_type": "markdown",
   "id": "19f7ca59",
   "metadata": {},
   "source": [
    "## Pre-Processing\n",
    "\n",
    "- Tokenizing\n",
    "- Remove Stop Words\n",
    "- Lemmatizing/Stemming\n",
    "- Remove Punctuations\n",
    "- Remove Digits"
   ]
  },
  {
   "cell_type": "code",
   "execution_count": 31,
   "id": "1a07ff49",
   "metadata": {},
   "outputs": [
    {
     "data": {
      "text/plain": [
       "0                        [weird, blink, bug, on, pa, ]\n",
       "1    [ability, draft, appreciation, thread, yeah, t...\n",
       "2                               [weird, bug, on, pa, ]\n",
       "3    [battlepass, situation, after, the, reveal, of...\n",
       "4    [weird, interaction, between, winter, s, curse...\n",
       "Name: tokenized, dtype: object"
      ]
     },
     "execution_count": 31,
     "metadata": {},
     "output_type": "execute_result"
    }
   ],
   "source": [
    "def tokenize(txt):\n",
    "    tokens = re.split('\\W+', txt)\n",
    "    return tokens\n",
    "\n",
    "dotalol['tokenized'] = dotalol['combine'].apply(lambda x: tokenize(x.lower()))\n",
    "\n",
    "dotalol['tokenized'].head()"
   ]
  },
  {
   "cell_type": "code",
   "execution_count": 32,
   "id": "a63ce867",
   "metadata": {
    "scrolled": true
   },
   "outputs": [
    {
     "data": {
      "text/plain": [
       "0                            [weird, blink, bug, pa, ]\n",
       "1    [ability, draft, appreciation, thread, yeah, t...\n",
       "2                                   [weird, bug, pa, ]\n",
       "3    [battlepass, situation, reveal, second, batch,...\n",
       "4    [weird, interaction, winter, curse, skewer, hu...\n",
       "Name: nosw, dtype: object"
      ]
     },
     "execution_count": 32,
     "metadata": {},
     "output_type": "execute_result"
    }
   ],
   "source": [
    "def remove_stopwords(txt_tokenized):\n",
    "    stopwords = nltk.corpus.stopwords.words('english')\n",
    "    txt_clean = [word for word in txt_tokenized if word not in stopwords]\n",
    "    return txt_clean\n",
    "\n",
    "dotalol['nosw'] = dotalol['tokenized'].apply(lambda x: remove_stopwords(x))\n",
    "\n",
    "dotalol['nosw'].head()"
   ]
  },
  {
   "cell_type": "code",
   "execution_count": 33,
   "id": "1877cd66",
   "metadata": {
    "scrolled": false
   },
   "outputs": [
    {
     "data": {
      "text/plain": [
       "0                            [weird, blink, bug, pa, ]\n",
       "1    [ability, draft, appreciation, thread, yeah, t...\n",
       "2                                   [weird, bug, pa, ]\n",
       "3    [battlepass, situation, reveal, second, batch,...\n",
       "4    [weird, interaction, winter, curse, skewer, hu...\n",
       "Name: lemmatized, dtype: object"
      ]
     },
     "execution_count": 33,
     "metadata": {},
     "output_type": "execute_result"
    }
   ],
   "source": [
    "wnl = WordNetLemmatizer()\n",
    "\n",
    "def Lemmatizing(txt):\n",
    "    text = [wnl.lemmatize(word) for word in txt]\n",
    "    return text\n",
    "\n",
    "dotalol['lemmatized'] = dotalol['nosw'].apply(lambda x: Lemmatizing(x))\n",
    "\n",
    "dotalol['lemmatized'].head()"
   ]
  },
  {
   "cell_type": "code",
   "execution_count": 34,
   "id": "03d72095",
   "metadata": {},
   "outputs": [
    {
     "data": {
      "text/plain": [
       "0                            [weird, blink, bug, pa, ]\n",
       "1    [abil, draft, appreci, thread, yeah, titl, tal...\n",
       "2                                   [weird, bug, pa, ]\n",
       "3    [battlepass, situat, reveal, second, batch, we...\n",
       "4    [weird, interact, winter, curs, skewer, hustle...\n",
       "Name: stemmed, dtype: object"
      ]
     },
     "execution_count": 34,
     "metadata": {},
     "output_type": "execute_result"
    }
   ],
   "source": [
    "porter=PorterStemmer()\n",
    "\n",
    "def Stemming(txt):\n",
    "    text = [porter.stem(word) for word in txt]\n",
    "    return text\n",
    "\n",
    "dotalol['stemmed'] = dotalol['lemmatized'].apply(lambda x: Stemming(x))\n",
    "\n",
    "dotalol['stemmed'].head()"
   ]
  },
  {
   "cell_type": "code",
   "execution_count": 35,
   "id": "fc211931",
   "metadata": {
    "scrolled": true
   },
   "outputs": [
    {
     "data": {
      "text/plain": [
       "0                              [weird, blink, bug, pa]\n",
       "1    [abil, draft, appreci, thread, yeah, titl, tal...\n",
       "2                                     [weird, bug, pa]\n",
       "3    [battlepass, situat, reveal, second, batch, we...\n",
       "4    [weird, interact, winter, curs, skewer, hustle...\n",
       "Name: nopunc, dtype: object"
      ]
     },
     "execution_count": 35,
     "metadata": {},
     "output_type": "execute_result"
    }
   ],
   "source": [
    "def remove_punctuation(txt):\n",
    "    txt_nopunt = [c for c in txt if c not in string.punctuation]\n",
    "    return txt_nopunt\n",
    "\n",
    "dotalol['nopunc'] = dotalol['stemmed'].apply(lambda x: remove_punctuation(x))\n",
    "\n",
    "dotalol['nopunc'].head()"
   ]
  },
  {
   "cell_type": "code",
   "execution_count": 36,
   "id": "96133c19",
   "metadata": {},
   "outputs": [
    {
     "data": {
      "text/plain": [
       "0                              [weird, blink, bug, pa]\n",
       "1    [abil, draft, appreci, thread, yeah, titl, tal...\n",
       "2                                     [weird, bug, pa]\n",
       "3    [battlepass, situat, reveal, second, batch, we...\n",
       "4    [weird, interact, winter, curs, skewer, hustle...\n",
       "Name: nonum, dtype: object"
      ]
     },
     "execution_count": 36,
     "metadata": {},
     "output_type": "execute_result"
    }
   ],
   "source": [
    "def remove_digits(txt):\n",
    "    text = [x for x in txt if x not in string.digits]\n",
    "    return text\n",
    "\n",
    "dotalol['nonum'] = dotalol['nopunc'].apply(lambda x: remove_digits(x))\n",
    "\n",
    "dotalol['nonum'].head()"
   ]
  },
  {
   "cell_type": "code",
   "execution_count": 37,
   "id": "fb7852f7",
   "metadata": {},
   "outputs": [],
   "source": [
    "dotalol['nonum'] = dotalol['nonum'].map(lambda x : ' '.join(x))"
   ]
  },
  {
   "cell_type": "code",
   "execution_count": 38,
   "id": "30c08eb9",
   "metadata": {},
   "outputs": [
    {
     "data": {
      "text/plain": [
       "0                                      weird blink bug pa\n",
       "1       abil draft appreci thread yeah titl talk best ...\n",
       "2                                            weird bug pa\n",
       "3       battlepass situat reveal second batch weekli q...\n",
       "4       weird interact winter curs skewer hustler 2bas...\n",
       "                              ...                        \n",
       "1995    dota subreddit petit perman ban peopl post 100...\n",
       "1996    happi new year drew boyfriend obsess draw pig ...\n",
       "1997                                                expos\n",
       "1998    best cassio na cassiopeia lol montag petrifi g...\n",
       "1999    le cheater hacker leagu game play leagu year l...\n",
       "Name: nonum, Length: 2000, dtype: object"
      ]
     },
     "execution_count": 38,
     "metadata": {},
     "output_type": "execute_result"
    }
   ],
   "source": [
    "dotalol['nonum']"
   ]
  },
  {
   "cell_type": "code",
   "execution_count": 39,
   "id": "055120c7",
   "metadata": {},
   "outputs": [],
   "source": [
    "dotalol['clean'] = dotalol['nonum']"
   ]
  },
  {
   "cell_type": "code",
   "execution_count": 40,
   "id": "817941a7",
   "metadata": {
    "scrolled": false
   },
   "outputs": [
    {
     "data": {
      "text/plain": [
       "0                                      weird blink bug pa\n",
       "1       abil draft appreci thread yeah titl talk best ...\n",
       "2                                            weird bug pa\n",
       "3       battlepass situat reveal second batch weekli q...\n",
       "4       weird interact winter curs skewer hustler 2bas...\n",
       "                              ...                        \n",
       "1995    dota subreddit petit perman ban peopl post 100...\n",
       "1996    happi new year drew boyfriend obsess draw pig ...\n",
       "1997                                                expos\n",
       "1998    best cassio na cassiopeia lol montag petrifi g...\n",
       "1999    le cheater hacker leagu game play leagu year l...\n",
       "Name: clean, Length: 2000, dtype: object"
      ]
     },
     "execution_count": 40,
     "metadata": {},
     "output_type": "execute_result"
    }
   ],
   "source": [
    "dotalol['clean']"
   ]
  },
  {
   "cell_type": "markdown",
   "id": "e4355255",
   "metadata": {},
   "source": [
    "## Visualizations - Top words that are not Stop Words"
   ]
  },
  {
   "cell_type": "code",
   "execution_count": 41,
   "id": "0db0e248",
   "metadata": {
    "scrolled": false
   },
   "outputs": [
    {
     "data": {
      "image/png": "[encoded data removed]",
      "text/plain": [
       "<Figure size 1152x1152 with 1 Axes>"
      ]
     },
     "metadata": {
      "needs_background": "light"
     },
     "output_type": "display_data"
    }
   ],
   "source": [
    "def plot_top_non_stopwords_barchart(text):\n",
    "    stop=set(stopwords.words('english'))\n",
    "    \n",
    "    new= text.str.split()\n",
    "    new=new.values.tolist()\n",
    "    corpus=[word for i in new for word in i]\n",
    "\n",
    "    counter=Counter(corpus)\n",
    "    most=counter.most_common()\n",
    "    x, y=[], []\n",
    "    for word,count in most[:50]:\n",
    "        if (word not in stop):\n",
    "            x.append(word)\n",
    "            y.append(count)\n",
    "            \n",
    "    sns.barplot(x=y,y=x)\n",
    "plt.figure(1, figsize=(16, 16))\n",
    "plot_top_non_stopwords_barchart(dotalol['clean'])"
   ]
  },
  {
   "cell_type": "code",
   "execution_count": 42,
   "id": "9274896f",
   "metadata": {},
   "outputs": [],
   "source": [
    "text = dotalol['clean'][0:2000]\n",
    "\n",
    "letters_only = re.sub(\"[^a-zA-Z]\",\" \",str(text))"
   ]
  },
  {
   "cell_type": "markdown",
   "id": "af016578",
   "metadata": {},
   "source": [
    "## Visualizations - WordCloud"
   ]
  },
  {
   "cell_type": "code",
   "execution_count": 43,
   "id": "1eaa18ce",
   "metadata": {},
   "outputs": [
    {
     "data": {
      "image/png": "[encoded data removed]",
      "text/plain": [
       "<Figure size 432x288 with 1 Axes>"
      ]
     },
     "metadata": {
      "needs_background": "light"
     },
     "output_type": "display_data"
    }
   ],
   "source": [
    "# Create stopword list:\n",
    "stopwords = set(STOPWORDS)\n",
    "\n",
    "# Generate a word cloud image\n",
    "wordcloud = WordCloud(stopwords=stopwords, background_color=\"white\").generate(letters_only)\n",
    "\n",
    "# Display the generated image:\n",
    "# the matplotlib way:\n",
    "plt.imshow(wordcloud, interpolation='bilinear')\n",
    "plt.figure(1, figsize=(50, 50))\n",
    "plt.axis(\"off\")\n",
    "plt.show()"
   ]
  },
  {
   "cell_type": "markdown",
   "id": "b0100b85",
   "metadata": {},
   "source": [
    "## Visualizations - WordCloud (Removed Unhelpful Words)"
   ]
  },
  {
   "cell_type": "code",
   "execution_count": 44,
   "id": "2e9d561b",
   "metadata": {},
   "outputs": [
    {
     "data": {
      "image/png": "[encoded data removed]",
      "text/plain": [
       "<Figure size 432x288 with 1 Axes>"
      ]
     },
     "metadata": {
      "needs_background": "light"
     },
     "output_type": "display_data"
    }
   ],
   "source": [
    "# Create stopword list:\n",
    "stopwords = set(STOPWORDS)\n",
    "stopwords.update(['game', 'http','amp','like','get','time','player','new','would','people','removed','know','year','weird','bug','pa','title','www','twitch','format','filler','x200b','http','auto','00','webp','com','amp','redd','png','preview','width','feel','like','want','could'])\n",
    "\n",
    "# Generate a word cloud image\n",
    "wordcloud = WordCloud(stopwords=stopwords, background_color=\"white\").generate(letters_only)\n",
    "\n",
    "# Display the generated image:\n",
    "# the matplotlib way:\n",
    "plt.imshow(wordcloud, interpolation='bilinear')\n",
    "plt.figure(1, figsize=(50, 50))\n",
    "plt.axis(\"off\")\n",
    "plt.show()"
   ]
  },
  {
   "cell_type": "markdown",
   "id": "057934f5",
   "metadata": {},
   "source": [
    "## Visualizations - Top 20 of NGrams (1,2 and 1,3)"
   ]
  },
  {
   "cell_type": "code",
   "execution_count": 45,
   "id": "c0cd64cb",
   "metadata": {},
   "outputs": [],
   "source": [
    "from nltk.corpus import stopwords## Visualizations - WordCloud Before\n",
    "\n",
    "def plot_top_ngrams_barchart(text, n=2):\n",
    "    stop=set(stopwords.words('english'))\n",
    "\n",
    "    new= text.str.split()\n",
    "    new=new.values.tolist()\n",
    "    corpus=[word for i in new for word in i]\n",
    "\n",
    "    def _get_top_ngram(corpus, n=None):\n",
    "        vec = CountVectorizer(ngram_range=(n, n)).fit(corpus)\n",
    "        bag_of_words = vec.transform(corpus)\n",
    "        sum_words = bag_of_words.sum(axis=0) \n",
    "        words_freq = [(word, sum_words[0, idx]) \n",
    "                      for word, idx in vec.vocabulary_.items()]\n",
    "        words_freq =sorted(words_freq, key = lambda x: x[1], reverse=True)\n",
    "        return words_freq[:20]\n",
    "\n",
    "    top_n_bigrams=_get_top_ngram(text,n)[:20]\n",
    "    x,y=map(list,zip(*top_n_bigrams))\n",
    "    sns.barplot(x=y,y=x)"
   ]
  },
  {
   "cell_type": "code",
   "execution_count": 46,
   "id": "8afc48c0",
   "metadata": {},
   "outputs": [
    {
     "data": {
      "image/png": "[encoded data removed]",
      "text/plain": [
       "<Figure size 576x576 with 1 Axes>"
      ]
     },
     "metadata": {
      "needs_background": "light"
     },
     "output_type": "display_data"
    }
   ],
   "source": [
    "plt.figure(1, figsize=(8, 8))\n",
    "plot_top_ngrams_barchart(dotalol['clean'],2)"
   ]
  },
  {
   "cell_type": "code",
   "execution_count": 47,
   "id": "80872f12",
   "metadata": {
    "scrolled": false
   },
   "outputs": [
    {
     "data": {
      "image/png": "[encoded data removed]",
      "text/plain": [
       "<Figure size 576x576 with 1 Axes>"
      ]
     },
     "metadata": {
      "needs_background": "light"
     },
     "output_type": "display_data"
    }
   ],
   "source": [
    "plt.figure(1, figsize=(8, 8))\n",
    "plot_top_ngrams_barchart(dotalol['clean'],3)"
   ]
  },
  {
   "cell_type": "markdown",
   "id": "5933c26b",
   "metadata": {},
   "source": [
    "# 3. Modelling"
   ]
  },
  {
   "cell_type": "markdown",
   "id": "10a9766a",
   "metadata": {},
   "source": [
    "## Model 1 - CountVectorization and Random Forest Classifier"
   ]
  },
  {
   "cell_type": "code",
   "execution_count": 48,
   "id": "6da135dc",
   "metadata": {},
   "outputs": [],
   "source": [
    "dotalol['leagueoflegends'] = [1 if dotalol.loc[i,'subreddit'] == 'leagueoflegends' else 0 for i in range(dotalol.shape[0])]"
   ]
  },
  {
   "cell_type": "code",
   "execution_count": 49,
   "id": "1f78d756",
   "metadata": {},
   "outputs": [],
   "source": [
    "X = dotalol['clean']\n",
    "y = dotalol['leagueoflegends']"
   ]
  },
  {
   "cell_type": "code",
   "execution_count": 50,
   "id": "a7e597e2",
   "metadata": {},
   "outputs": [],
   "source": [
    "from sklearn.model_selection import train_test_split\n",
    "\n",
    "X_train, X_test, y_train, y_test = train_test_split(X,\n",
    "                                                    y,\n",
    "                                                    test_size=0.25,\n",
    "                                                    random_state=25,\n",
    "                                                    stratify=y)"
   ]
  },
  {
   "cell_type": "code",
   "execution_count": 51,
   "id": "832b35bb",
   "metadata": {},
   "outputs": [],
   "source": [
    "other_stopwords = ['game', 'http','amp','like','get','time','player','new','would','people','removed','know','year','weird','bug','pa','title','www','twitch','format','filler','x200b','http','auto','00','webp','com','amp','redd','png','preview','width','feel','like','want','could']\n",
    "\n",
    "pipe = Pipeline([\n",
    "    ('cvec',CountVectorizer(stop_words = other_stopwords)),\n",
    "    ('rfc', RandomForestClassifier())\n",
    "])"
   ]
  },
  {
   "cell_type": "code",
   "execution_count": 52,
   "id": "45367cc5",
   "metadata": {},
   "outputs": [],
   "source": [
    "pipe_params = {\n",
    "    'cvec__max_features': [125],\n",
    "    'cvec__min_df': [2],\n",
    "    'cvec__max_df': [1.0],\n",
    "    'cvec__ngram_range': [(1,1)],\n",
    "    'cvec__strip_accents': ['unicode'],\n",
    "    'cvec__stop_words': ['english'],\n",
    "    'rfc__bootstrap': [True],\n",
    "    'rfc__max_depth': [80],\n",
    "    'rfc__max_features': [2],\n",
    "    'rfc__min_samples_leaf': [3],\n",
    "    'rfc__min_samples_split': [8],\n",
    "    'rfc__n_estimators': [100]\n",
    "}"
   ]
  },
  {
   "cell_type": "code",
   "execution_count": 53,
   "id": "b93bba7a",
   "metadata": {},
   "outputs": [],
   "source": [
    "gs = GridSearchCV(pipe,\n",
    "                  param_grid=pipe_params,\n",
    "                  cv=5,\n",
    "                 n_jobs=-1,\n",
    "                 verbose=2)"
   ]
  },
  {
   "cell_type": "code",
   "execution_count": 54,
   "id": "aff3634e",
   "metadata": {
    "scrolled": true
   },
   "outputs": [
    {
     "name": "stdout",
     "output_type": "stream",
     "text": [
      "Fitting 5 folds for each of 1 candidates, totalling 5 fits\n"
     ]
    },
    {
     "data": {
      "text/plain": [
       "GridSearchCV(cv=5,\n",
       "             estimator=Pipeline(steps=[('cvec',\n",
       "                                        CountVectorizer(stop_words=['game',\n",
       "                                                                    'http',\n",
       "                                                                    'amp',\n",
       "                                                                    'like',\n",
       "                                                                    'get',\n",
       "                                                                    'time',\n",
       "                                                                    'player',\n",
       "                                                                    'new',\n",
       "                                                                    'would',\n",
       "                                                                    'people',\n",
       "                                                                    'removed',\n",
       "                                                                    'know',\n",
       "                                                                    'year',\n",
       "                                                                    'weird',\n",
       "                                                                    'bug', 'pa',\n",
       "                                                                    'title',\n",
       "                                                                    'www',\n",
       "                                                                    'twitch',\n",
       "                                                                    'format',\n",
       "                                                                    'filler',\n",
       "                                                                    'x200b',\n",
       "                                                                    'http',\n",
       "                                                                    'auto',\n",
       "                                                                    '00',\n",
       "                                                                    'webp',\n",
       "                                                                    'com',\n",
       "                                                                    'amp',\n",
       "                                                                    'redd',\n",
       "                                                                    'png', ...])),\n",
       "                                       ('rfc', RandomForestClassifier())]),\n",
       "             n_jobs=-1,\n",
       "             param_grid={'cvec__max_df': [1.0], 'cvec__max_features': [125],\n",
       "                         'cvec__min_df': [2], 'cvec__ngram_range': [(1, 1)],\n",
       "                         'cvec__stop_words': ['english'],\n",
       "                         'cvec__strip_accents': ['unicode'],\n",
       "                         'rfc__bootstrap': [True], 'rfc__max_depth': [80],\n",
       "                         'rfc__max_features': [2], 'rfc__min_samples_leaf': [3],\n",
       "                         'rfc__min_samples_split': [8],\n",
       "                         'rfc__n_estimators': [100]},\n",
       "             verbose=2)"
      ]
     },
     "execution_count": 54,
     "metadata": {},
     "output_type": "execute_result"
    }
   ],
   "source": [
    "gs.fit(X_train, y_train)"
   ]
  },
  {
   "cell_type": "code",
   "execution_count": 55,
   "id": "590653dc",
   "metadata": {
    "scrolled": true
   },
   "outputs": [
    {
     "name": "stdout",
     "output_type": "stream",
     "text": [
      "Using Random Forest Classifier with CountVectorizer:\n",
      "----------------------------------------------------\n",
      "Best Score: 0.73\n",
      "Train Score: 0.7907\n",
      "Test Score: 0.746\n"
     ]
    }
   ],
   "source": [
    "print('Using Random Forest Classifier with CountVectorizer:')\n",
    "print('----------------------------------------------------')\n",
    "print(f'Best Score: {round(gs.best_score_,4)}')\n",
    "print(f'Train Score: {round(gs.score(X_train, y_train),4)}')\n",
    "print(f'Test Score: {round(gs.score(X_test,y_test),4)}')"
   ]
  },
  {
   "cell_type": "code",
   "execution_count": 56,
   "id": "92d8aa40",
   "metadata": {},
   "outputs": [],
   "source": [
    "# Get predictions\n",
    "preds = gs.predict(X_test)\n",
    "\n",
    "# Save confusion matrix values\n",
    "tn, fp, fn, tp = confusion_matrix(y_test, preds).ravel()"
   ]
  },
  {
   "cell_type": "code",
   "execution_count": 57,
   "id": "ad613b50",
   "metadata": {},
   "outputs": [
    {
     "name": "stdout",
     "output_type": "stream",
     "text": [
      "                 precision    recall  f1-score   support\n",
      "\n",
      "          dota2       0.71      0.84      0.77       250\n",
      "leagueoflegends       0.80      0.65      0.72       250\n",
      "\n",
      "       accuracy                           0.75       500\n",
      "      macro avg       0.76      0.75      0.74       500\n",
      "   weighted avg       0.76      0.75      0.74       500\n",
      "\n"
     ]
    }
   ],
   "source": [
    "print(classification_report(y_test, preds, target_names=['dota2','leagueoflegends']))"
   ]
  },
  {
   "cell_type": "code",
   "execution_count": 58,
   "id": "e7ba360f",
   "metadata": {
    "scrolled": true
   },
   "outputs": [
    {
     "data": {
      "image/png": "[encoded data removed]",
      "text/plain": [
       "<Figure size 432x288 with 2 Axes>"
      ]
     },
     "metadata": {
      "needs_background": "light"
     },
     "output_type": "display_data"
    }
   ],
   "source": [
    "# View confusion matrix\n",
    "plot_confusion_matrix(gs, X_test, y_test, cmap='Blues', values_format='d');"
   ]
  },
  {
   "cell_type": "code",
   "execution_count": 59,
   "id": "badc3894",
   "metadata": {
    "scrolled": true
   },
   "outputs": [
    {
     "name": "stdout",
     "output_type": "stream",
     "text": [
      "Sensitivity: 0.652\n",
      "Accuracy =  0.746\n",
      "Specificity = 0.84\n"
     ]
    }
   ],
   "source": [
    "spec = tn / (tn + fp)\n",
    "sens = tp / (tp + fn)\n",
    "\n",
    "print(f'Sensitivity: {round(sens, 4)}')\n",
    "print(\"Accuracy = \", metrics.accuracy_score(y_test, preds))\n",
    "print(f'Specificity = {round(spec, 4)}')"
   ]
  },
  {
   "cell_type": "markdown",
   "id": "c006c488",
   "metadata": {},
   "source": [
    "## Model 2 - TFIDF and Multinomial Naive Bayes"
   ]
  },
  {
   "cell_type": "code",
   "execution_count": 60,
   "id": "01f40511",
   "metadata": {},
   "outputs": [],
   "source": [
    "X = dotalol['clean']\n",
    "y = dotalol['leagueoflegends']"
   ]
  },
  {
   "cell_type": "code",
   "execution_count": 61,
   "id": "2bd6b7b5",
   "metadata": {},
   "outputs": [],
   "source": [
    "X_train, X_test, y_train, y_test = train_test_split(X,\n",
    "                                                    y,\n",
    "                                                    test_size=0.25,\n",
    "                                                    random_state=42,\n",
    "                                                    stratify=y)"
   ]
  },
  {
   "cell_type": "code",
   "execution_count": 62,
   "id": "7f06518e",
   "metadata": {},
   "outputs": [],
   "source": [
    "other_stopwords = ['game', 'http','amp','like','get','time','player','new','would','people','removed','know','year','weird','bug','pa','title','www','twitch','format','filler','x200b','http','auto','00','webp','com','amp','redd','png','preview','width','feel','like','want','could']\n",
    "\n",
    "tvec = TfidfVectorizer(stop_words = other_stopwords)\n",
    "\n",
    "X_train_df = pd.DataFrame(tvec.fit_transform(X_train).todense(), \n",
    "                          columns=tvec.get_feature_names())"
   ]
  },
  {
   "cell_type": "code",
   "execution_count": 63,
   "id": "c2cae642",
   "metadata": {},
   "outputs": [],
   "source": [
    "pipe_tvec = Pipeline([\n",
    "    ('tvec', TfidfVectorizer()),\n",
    "    ('nb', MultinomialNB())\n",
    "])"
   ]
  },
  {
   "cell_type": "code",
   "execution_count": 64,
   "id": "6c9dc54a",
   "metadata": {},
   "outputs": [],
   "source": [
    "pipe_tvec_params = {\n",
    "    'tvec__max_features': [125],\n",
    "    'tvec__ngram_range': [(1,1)],\n",
    "    'tvec__min_df': [2],\n",
    "    'tvec__max_df': [1.0],\n",
    "    'tvec__strip_accents': [None],\n",
    "    'tvec__stop_words': ['english']\n",
    "}"
   ]
  },
  {
   "cell_type": "code",
   "execution_count": 65,
   "id": "6e7ad6f4",
   "metadata": {},
   "outputs": [],
   "source": [
    "gs_tvec = GridSearchCV(pipe_tvec, # what object are we optimizing?\n",
    "                        param_grid = pipe_tvec_params, # what parameters values are we searching?\n",
    "                        cv=5) # 5-fold cross-validation."
   ]
  },
  {
   "cell_type": "code",
   "execution_count": 66,
   "id": "804cf748",
   "metadata": {
    "scrolled": true
   },
   "outputs": [
    {
     "data": {
      "text/plain": [
       "GridSearchCV(cv=5,\n",
       "             estimator=Pipeline(steps=[('tvec', TfidfVectorizer()),\n",
       "                                       ('nb', MultinomialNB())]),\n",
       "             param_grid={'tvec__max_df': [1.0], 'tvec__max_features': [125],\n",
       "                         'tvec__min_df': [2], 'tvec__ngram_range': [(1, 1)],\n",
       "                         'tvec__stop_words': ['english'],\n",
       "                         'tvec__strip_accents': [None]})"
      ]
     },
     "execution_count": 66,
     "metadata": {},
     "output_type": "execute_result"
    }
   ],
   "source": [
    "gs_tvec.fit(X_train, y_train)"
   ]
  },
  {
   "cell_type": "code",
   "execution_count": 67,
   "id": "1cf5e117",
   "metadata": {
    "scrolled": true
   },
   "outputs": [
    {
     "name": "stdout",
     "output_type": "stream",
     "text": [
      "Using Multinomial Naive Bayes with TfidfVectorizer:\n",
      "----------------------------------------------------\n",
      "Best Score: 0.7193\n",
      "Train Score: 0.7707\n",
      "Test Score: 0.724\n"
     ]
    }
   ],
   "source": [
    "print('Using Multinomial Naive Bayes with TfidfVectorizer:')\n",
    "print('----------------------------------------------------')\n",
    "print(f'Best Score: {round(gs_tvec.best_score_,4)}')\n",
    "print(f'Train Score: {round(gs_tvec.score(X_train, y_train),4)}')\n",
    "print(f'Test Score: {round(gs_tvec.score(X_test,y_test),4)}')"
   ]
  },
  {
   "cell_type": "code",
   "execution_count": 68,
   "id": "243a30e3",
   "metadata": {},
   "outputs": [],
   "source": [
    "# Get predictions\n",
    "preds_gs_tvec = gs_tvec.predict(X_test)\n",
    "\n",
    "# Save confusion matrix values\n",
    "tn, fp, fn, tp = confusion_matrix(y_test, preds_gs_tvec).ravel()"
   ]
  },
  {
   "cell_type": "code",
   "execution_count": 69,
   "id": "30313211",
   "metadata": {},
   "outputs": [
    {
     "name": "stdout",
     "output_type": "stream",
     "text": [
      "                 precision    recall  f1-score   support\n",
      "\n",
      "          dota2       0.70      0.79      0.74       250\n",
      "leagueoflegends       0.76      0.66      0.71       250\n",
      "\n",
      "       accuracy                           0.72       500\n",
      "      macro avg       0.73      0.72      0.72       500\n",
      "   weighted avg       0.73      0.72      0.72       500\n",
      "\n"
     ]
    }
   ],
   "source": [
    "print(classification_report(y_test, preds_gs_tvec, target_names=['dota2','leagueoflegends']))"
   ]
  },
  {
   "cell_type": "code",
   "execution_count": 70,
   "id": "b5870076",
   "metadata": {},
   "outputs": [
    {
     "data": {
      "text/plain": [
       "array([[197,  53],\n",
       "       [ 85, 165]], dtype=int64)"
      ]
     },
     "execution_count": 70,
     "metadata": {},
     "output_type": "execute_result"
    }
   ],
   "source": [
    "# Generate a confusion matrix.\n",
    "confusion_matrix(y_test, preds_gs_tvec)"
   ]
  },
  {
   "cell_type": "code",
   "execution_count": 71,
   "id": "32de4ede",
   "metadata": {},
   "outputs": [
    {
     "name": "stdout",
     "output_type": "stream",
     "text": [
      "True Negatives: 197\n",
      "False Positives: 53\n",
      "False Negatives: 85\n",
      "True Positives: 165\n"
     ]
    }
   ],
   "source": [
    "print(\"True Negatives: %s\" % tn)\n",
    "print(\"False Positives: %s\" % fp)\n",
    "print(\"False Negatives: %s\" % fn)\n",
    "print(\"True Positives: %s\" % tp)"
   ]
  },
  {
   "cell_type": "code",
   "execution_count": 72,
   "id": "f2a103b2",
   "metadata": {},
   "outputs": [
    {
     "data": {
      "image/png": "[encoded data removed]",
      "text/plain": [
       "<Figure size 432x288 with 2 Axes>"
      ]
     },
     "metadata": {
      "needs_background": "light"
     },
     "output_type": "display_data"
    }
   ],
   "source": [
    "plot_confusion_matrix(gs_tvec, X_test, y_test, cmap='Blues', values_format='d');"
   ]
  },
  {
   "cell_type": "code",
   "execution_count": 73,
   "id": "9475ee8e",
   "metadata": {
    "scrolled": false
   },
   "outputs": [
    {
     "name": "stdout",
     "output_type": "stream",
     "text": [
      "Specificity: 0.788\n",
      "Sensitivity: 0.66\n",
      "Accuracy =  0.724\n"
     ]
    }
   ],
   "source": [
    "# Calculate the specificity\n",
    "\n",
    "spec = tn / (tn + fp)\n",
    "\n",
    "# Calculate sensitivity.\n",
    "\n",
    "sens = tp / (tp + fn)\n",
    "\n",
    "print('Specificity:', spec)\n",
    "print(f'Sensitivity: {round(sens, 4)}')\n",
    "print(\"Accuracy = \", metrics.accuracy_score(y_test, preds_gs_tvec))"
   ]
  },
  {
   "cell_type": "markdown",
   "id": "c6a9312a",
   "metadata": {},
   "source": [
    "# 4. Evaluation and Conceptual Understanding\n",
    "\n",
    "- Model 1: Random Forest Classifier with CountVectorizer\n",
    "- Model 2: Multinomial Naive Bayes with TfidfVectorizer\n",
    "\n",
    "#### Precision:\n",
    "- Model 1 was more accurate in its positive predictions for leagueoflegend posts\n",
    "\n",
    "#### Recall:\n",
    "- Model 1 had a higher percentage in positive predictions for Dota2\n",
    "\n",
    "#### F1 Score:\n",
    "- Model 1 had a higher percentage in positive predictions that were correct for Dota2"
   ]
  },
  {
   "cell_type": "code",
   "execution_count": 75,
   "id": "aa2770cb",
   "metadata": {},
   "outputs": [],
   "source": [
    "# Set up a dataframe for the test data, with the actual target and the predicted target.\n",
    "\n",
    "prediction_df = pd.DataFrame({\n",
    "    'X_test': X_test,\n",
    "    'y_test': y_test,\n",
    "    'y_pred': preds\n",
    "})"
   ]
  },
  {
   "cell_type": "code",
   "execution_count": 78,
   "id": "0e32d957",
   "metadata": {
    "scrolled": true
   },
   "outputs": [
    {
     "name": "stdout",
     "output_type": "stream",
     "text": [
      "bottl refil new game possibl refil bottl use courier\n",
      "-----------------------------------------------------------------------------------------------------------------------------\n",
      "ruin life play liter remov\n",
      "-----------------------------------------------------------------------------------------------------------------------------\n",
      "life pretti much\n",
      "-----------------------------------------------------------------------------------------------------------------------------\n",
      "dip toe back long stori short last match dota real human be 2015 get wrong tri bot match two everi time releas new hero familiar enough map hero item chang thought hop right back daunt tri hand coupl turbo match bite bullet hit unrank\n",
      "-----------------------------------------------------------------------------------------------------------------------------\n",
      "hi question question pro type gg tournament throne automat destroy system detect word gg make throne destroy admin power make throne destroy think throne could automat destroy even though everi player team disconnect thank\n",
      "-----------------------------------------------------------------------------------------------------------------------------\n",
      "valv put random set reward dire tide point nobodi want cm wheel spin ifi alreadi grindi experi bodi want sink hour get someth somewhat nice odd gunna last caus much hard guy season thing late get garbag instead gunna obvious dilut good stuff could least give old play dough look garbag monster see hold candi bucket guy\n",
      "-----------------------------------------------------------------------------------------------------------------------------\n",
      "miss dota want give shoutout one favorit game friend sadli leav 5stack play year run mani smurf winrat fallen 52 38 fun anymor game steamrol clearli experienc player new fake account thank good time valv\n",
      "-----------------------------------------------------------------------------------------------------------------------------\n",
      "much cost get dark artistri invok much cost get dark artistri invok much save grind bit\n",
      "-----------------------------------------------------------------------------------------------------------------------------\n",
      "call\n",
      "-----------------------------------------------------------------------------------------------------------------------------\n",
      "hour ban get report play poorli game mean dog shit fuck tilt first game play ancient week assum boost mass report cuz divin obvious bad game fuck ban hour behavior score went 10k gonna play low prio match wtf point report system point never actual find boost player realli usual reward toxic fuck mass report bad game\n",
      "-----------------------------------------------------------------------------------------------------------------------------\n",
      "juggernaut ultra rare bundl offici complaint discuss thread know ultra rare cach bundl last year call jag honor becom tradeabl tomorrow catch unbundl part say gonna tradeabl tomorrow inventori game amp x200b someon would buy bundl gonna give untrad part open non sens ask steam support say unbundl tradeabl anymor inventori date matter amp x200b question make sens enigma ultra rare tradeabl market even unbundl one common sens behind amp x200b thread made complain tomorrow sure mani peopl mad http preview redd bgp7xzlitgk51 jpg width 899 amp format pjpg amp auto webp amp 9c62d4183f1633858c75b79c6c6b393f5af3ba76\n",
      "-----------------------------------------------------------------------------------------------------------------------------\n",
      "dota guidanc page show dmg hp level hero level amp x200b show attribut level damag 26 36 mean 26 36 next time 26 next time http preview redd zmsq6mj2egw61 png width 616 amp format png amp auto webp amp 6b67478e41be27fc477ef273dbadc09d7173a862\n",
      "-----------------------------------------------------------------------------------------------------------------------------\n",
      "need parti normal match sea server hero grind dota plu add 339374527\n",
      "-----------------------------------------------------------------------------------------------------------------------------\n",
      "found hidden ward aghanim labyrinth\n",
      "-----------------------------------------------------------------------------------------------------------------------------\n",
      "overwatch noth last month report sever peopl destroy item run mid gotten feedback bad overwatch feel like ruiner get free pa\n",
      "-----------------------------------------------------------------------------------------------------------------------------\n",
      "lifesteal right click take wrong way tri flame l main understand peopl play entir kit right click right click right click skill involv except last hit dodg spell even q r activat abil skill intens press button hero even exist\n",
      "-----------------------------------------------------------------------------------------------------------------------------\n",
      "give u option copi match id mani digit eye cross need copi past featur thank volvo\n",
      "-----------------------------------------------------------------------------------------------------------------------------\n",
      "face tho shout artist\n",
      "-----------------------------------------------------------------------------------------------------------------------------\n",
      "diretid nutshel sorri everyon go quit balanc opinion\n",
      "-----------------------------------------------------------------------------------------------------------------------------\n",
      "pleas add option disabl taunt tip etc thing part normal gameplay get mood swing mental breakdown still abl play dota see option disabl affect gameplay sometim tri hurt bm valv keep ad stupid featur like want feel pain pleas add option disabl\n",
      "-----------------------------------------------------------------------------------------------------------------------------\n",
      "druid bear still get old abyss rang\n",
      "-----------------------------------------------------------------------------------------------------------------------------\n",
      "thug life elder titan http www youtub com watch v x878vftfrvk amp featur youtu http www youtub com watch v x878vftfrvk amp featur youtu\n",
      "-----------------------------------------------------------------------------------------------------------------------------\n",
      "hey valv know hard come immort idea sinc alot alreadi let help\n",
      "-----------------------------------------------------------------------------------------------------------------------------\n",
      "fair chanc battlepass extens delay releas treasur milk desper peopl would buy level immedi queue na found mani peopl rang level 480 530 includ everi year releas content way ti time use newli unlock chat wheel reward say like token increas year would shame unlock new reward use level 50 bundl lose like week question realli chanc wish\n",
      "-----------------------------------------------------------------------------------------------------------------------------\n",
      "want earn free item download app d2plu regist put code 1szvub earn 125 point share code friend earn anoth 125 legit dont ask steam password trade url\n",
      "-----------------------------------------------------------------------------------------------------------------------------\n",
      "phase draft kind dumb lion rhasta enemi team snapfir cm alli okay let pick pl sandk uh oh team pick kunka earthshak total blind lucki guess xdddddd kind lame game suppos strateg deep doubl blind second phase\n",
      "-----------------------------------------------------------------------------------------------------------------------------\n",
      "nightmar davion dragon knight reveal\n",
      "-----------------------------------------------------------------------------------------------------------------------------\n",
      "valv busi busi\n",
      "-----------------------------------------------------------------------------------------------------------------------------\n",
      "day dragon knight persona broken two day releas initi effect visual design creat look good mod paid shill\n",
      "-----------------------------------------------------------------------------------------------------------------------------\n",
      "sick matchmak rank day either match acc buyer team smurfer big enemi team srsli tire dota2 lvl 189 ancient best player play long time tri get better stick role grind search rank enemi dota2 lvl 15 49 pretti obviou new acc doubt smurfer also take look profil see increas rank fast ruin game experi way much think quit dota valv fix game valv answer game answer smurfer game even lucki play normal rank game valv see issu guy think experi day sorri toxic\n",
      "-----------------------------------------------------------------------------------------------------------------------------\n",
      "faceless void one littl bit wacki dont think ever refin\n",
      "-----------------------------------------------------------------------------------------------------------------------------\n",
      "star storm pierc spell immun\n",
      "-----------------------------------------------------------------------------------------------------------------------------\n",
      "umm fuck trivia remov\n",
      "-----------------------------------------------------------------------------------------------------------------------------\n",
      "wife found ti relic deep storag room\n",
      "-----------------------------------------------------------------------------------------------------------------------------\n",
      "way know reward got diretid hello got 100 point today find anyth new inventori chat wheel emoticon etc thing see reward claim someth similar battlepass\n",
      "-----------------------------------------------------------------------------------------------------------------------------\n",
      "arcanum buy sorri think shitpost wanna know good arcana buy current pa arcanum think better arcanum pa one recommend exclud pudg techi that liter worst thing dota made\n",
      "-----------------------------------------------------------------------------------------------------------------------------\n",
      "get overwatch case 10k behaviour score fairli new account 250ish game lost access old account year ago recent start play dota yet gotten overwatch case minimum amount game need play hour anyth thank repli\n",
      "-----------------------------------------------------------------------------------------------------------------------------\n",
      "team secret admin use filipino song background\n",
      "-----------------------------------------------------------------------------------------------------------------------------\n",
      "hide success hero profil hide match histori friend list steam inventori hero display reason behind play well sever game straight account kinda wast pick favorit hero ban\n",
      "-----------------------------------------------------------------------------------------------------------------------------\n",
      "plu reward item paid 75k shard hatchet guard word cant find item loadout\n",
      "-----------------------------------------------------------------------------------------------------------------------------\n",
      "smurf new player experi guy troll warlord liter play first game dota appar action enemi like smurf could abandon game cuz know go enemi kept kick game id 5179171827 realli sad\n",
      "-----------------------------------------------------------------------------------------------------------------------------\n",
      "od still 40 winrat across bracket except divin still 32 find stat dotabuff http www dotabuff com hero outworld destroy http www dotabuff com hero trend hero current 10th least pick hero game averag winrat still almost behind next weakest hero last week winrat divin immort bracket stay pretti consist 25 32 recent buff 28a patch littl boost winrat divin sinc play hero play ancient divin bracket would appreci fix hero know last day mostli holiday valv everywher els anoth od rework go take time new year alway time wish hope hope see 28b patch somewher next day week think hero remain unplay state long thank listen\n",
      "-----------------------------------------------------------------------------------------------------------------------------\n",
      "hidden mmr dotabuff hello wonder skill bracket drop high skill normal skill one game 80 winrat new account 17 game play\n",
      "-----------------------------------------------------------------------------------------------------------------------------\n",
      "cannot find game u east someth chang cannot find game u east someth chang someth im 9k mmr player 10k behaviour score search rank role classic help\n",
      "-----------------------------------------------------------------------------------------------------------------------------\n",
      "infest life stealer illus infest taken illus rune infest one illus around 20 minut match infest wait illus die match id 5594563496\n",
      "-----------------------------------------------------------------------------------------------------------------------------\n",
      "ban mod plz amp x200b http preview redd 4bivez6g7hk51 png width 757 amp format png amp auto webp amp 7713d2b9a04704a929a2e4b59cf119ca04c0a154\n",
      "-----------------------------------------------------------------------------------------------------------------------------\n",
      "dota half game wonder\n",
      "-----------------------------------------------------------------------------------------------------------------------------\n",
      "right\n",
      "-----------------------------------------------------------------------------------------------------------------------------\n",
      "qop arcanum progress like anyon els amp x200b http preview redd xa8ait2ahhw61 png width 264 amp format png amp auto webp amp 5bebf11145e124f80cd0a90fa7d177cb74742692 use smaller font could see 1000 part realli matter mildli unsettl\n",
      "-----------------------------------------------------------------------------------------------------------------------------\n",
      "find match dota suddent went offlin mode minut connect issu side idk happen got penalti accept game mayb gaben tell play today hmmm\n",
      "-----------------------------------------------------------------------------------------------------------------------------\n",
      "rememb\n",
      "-----------------------------------------------------------------------------------------------------------------------------\n",
      "creep deni sound option turn new deni sound sound like high pitch whine squeaki chain swing rather deni creep hear sound 30 time everi lane phase\n",
      "-----------------------------------------------------------------------------------------------------------------------------\n",
      "dude anim look low qualiti anyon els anim look good anyon els agre\n",
      "-----------------------------------------------------------------------------------------------------------------------------\n",
      "ti postpon may creat massiv roster shuffl og eg etc world may drop intern player look like pro dota could base entir onlin region base roster move would expect happen ramz play team month\n",
      "-----------------------------------------------------------------------------------------------------------------------------\n",
      "day would rather play techi juggernaut randomli die everi minut mine better die everi minut jug even counterplay actual counterplay beat lane make mistak rest game 4head buy ghost scepter die blade furi 4head pick team tank 4head queue dota 4head\n",
      "-----------------------------------------------------------------------------------------------------------------------------\n",
      "mmr rank question remov\n",
      "-----------------------------------------------------------------------------------------------------------------------------\n",
      "chines dota scene someon inform briefli happen chines dota scene late heard big shuffl big team month ago quit check happen yet\n",
      "-----------------------------------------------------------------------------------------------------------------------------\n",
      "radiant dire advantag grown complet unaccept post day list pub exactli hero 50 winrat greater dire mani map chang game chang accumul bring advantag back radiant pick system pick system becom dead even side instead one side pick first one side pick last pick time pick first last help mitig map advantag get pick advantag dire alway favor pick phase winrat would begin shift closer togeth there differ side longer relev map geometr favor radiant everi singl lane im mid player radiant advantag mid lane astound dire basic unwinn situat mid lane geometr vacuum radiant better ward spot river shape small camp posit drag length tree actual walk tp ambush lose dive even cliff spot uneven dire mid cliff spot object worst spot ward game receiv massiv amount traffic tree geometri top lane phase virtual useless dire one give vision second camp stack multi clear radiant offlan better camp pull much farther dire safelan revers incred easi stack pull tree geometri give radiant offlan much prioriti bounti rune revers well better tree spot get free harass well radiant safelan larg camp much closer lane thu secondari pull easi access camp farm also favor tree geometri avoid dive get free harass much easier radiant safelan support sit tree due natur path tower thu also significantli bounti contest power dire safelan camera self explanatori camera angl favor look rather look unavoid radiant triangl safer ancient camp move radiant triangl well much closer tp spot ward geometri radiant ancient camp move back triangl also much safer everi singl radiant camp easier stack everi singl jungl spot jungl camp multi stack much easier closer togeth much better ward coverag get vision extra camp dire advantag outpost next rosh pit unfortun dire jungl easiest jungl invad poor ward coverag commit extrem far get solid radiant vision know come practic everyth favor radiant point good reason radiant giant advantag right thank come ted talk\n",
      "-----------------------------------------------------------------------------------------------------------------------------\n",
      "gabe as buy battl pa\n",
      "-----------------------------------------------------------------------------------------------------------------------------\n",
      "2021 go awesom play three game toxic af zero report motherfuck year go entertain\n",
      "-----------------------------------------------------------------------------------------------------------------------------\n",
      "battlepass 2020 everyon probabl seen post dota team upload blog idea battlepass launch\n",
      "-----------------------------------------------------------------------------------------------------------------------------\n",
      "morphl eartshak aghanim shard need buff volvo earthshak walk fissur stun across morphl take abil aghanim shard scepter somehow aftershock across walk anymor ty\n",
      "-----------------------------------------------------------------------------------------------------------------------------\n",
      "99 win rate meteor hammer amp x200b odd thing wraith king still 100 amp 37 win rate meteor hammer recip 57 match perhap someon farm mmr sale account alway buy meteor hammer http preview redd a92ezc93g5851 png width 1298 amp format png amp auto webp amp 70673b505550652305665a96d005a531c0df83b\n",
      "-----------------------------------------------------------------------------------------------------------------------------\n",
      "announc r dota2santa subreddit dota giveaway\n",
      "-----------------------------------------------------------------------------------------------------------------------------\n",
      "win 15 game core rank role fuck girlfriend valv oh let play suboptim ruin game peopl battlepass greedi feel like grind point worsen game other core player want play support support player want play core struggl come idea challeng piss entir commun throw way destroy 25 125 250 tree win hero attribut stun enemi 60 120 240 second save time use magic stick magic wand get 10 15 kill assist buyback stack 15 30 camp\n",
      "-----------------------------------------------------------------------------------------------------------------------------\n",
      "much cost buy upto babi invok remov\n",
      "-----------------------------------------------------------------------------------------------------------------------------\n",
      "fuck sake someon help amp x200b http preview redd mrkn3gyy8mw51 png width 1920 amp format png amp auto webp amp 0131fedfb964efcf8d312d6d3b218a3368b2da4f long stori short miss understand reason conduct tri rais mayb enjoy play game go rank fair game fuck rais everi singl match 2k play time 1800 match 900 win 80 mvp 3k comment play game pure lvl account le 10 match kill enemi mid lvl sudden enemi even support higher lvl come help mid site take money rais conduct steal account hack thing will thing\n",
      "-----------------------------------------------------------------------------------------------------------------------------\n",
      "abil draft appreci thread yeah titl talk best game mode serious though happi qualiti life stuff valv put mode play nearli exclus sever year engag underli mechan dota uniqu ever chang way never get bore peopl usual nice chill play na wonder ad scene like elsewher anyway share love hate ad let know drafter stand\n",
      "-----------------------------------------------------------------------------------------------------------------------------\n",
      "r dota2 juli captain mode host anoth captain mode tournament saturday juli 3rd 2pm utc click link see countdown http tinyurl com 5mb4rw tournament host eu region 40 spot player total signup first come first serv basi waitlist prize 20 steam credit per person win team sponsor allianc special discord role subreddit flair format team play singl elimin bo1 bracket tournament approxim hour long game play captain mode team captain draft hero team rule player assign team base mmr must minimum 1000 mmr particip drafter default highest mmr player team must avail check 12pm 15pm utc saturday juli 3rd game play lux server commun particip admin must english team member must commun via voic chat design discord channel failur commun team purpos ignor could result ban futur event player inappropri steam name nsfw profil pictur abl particip mean racist homophob sexist otherwis hate speech materi select prioriti first pick last pick radiant dire decid automat coin toss team 10 minut cumul paus time oppon may unpaus paus disrupt game gain advantag team must confirm readi unpaus bug abus form cheat afk game could result ban intent feed flame way shape form player lie mmr cannot provid proof mmr ban admin final say decis collect match data pick hero make infograph summaris game statist tournament data collect anonym sign agre allow u collect data tournament game particip join sign form http form gle amzrm9xfzmx2uzsaa must offici discord http discord gg rdota2 contact first 40 player sign confirm play signup place waitlist potenti substitut confirm play notifi 24h beforehand first 10 player waitlist also contact inform may requir replac someon must confirm avail 40 player must confirm attend hour first game day event player must avail check 12pm 15pm utc repli 15pm utc replac someon waitlist player waitlist 10 minut repli offici link twitch http www twitch tv redditdota2 discord http discord gg rdota2 twitter http twitter com redditdota2 lang en youtub http www youtub com user redditdota2 previou game stat http www dotabuff com esport leagu 12318 r dota2 reddit cup\n",
      "-----------------------------------------------------------------------------------------------------------------------------\n",
      "team sing mariah carey song lose beauti happi new year\n",
      "-----------------------------------------------------------------------------------------------------------------------------\n",
      "chat script bannabl want tell lane partner strategi want type everi time learn python shit write script detect cheat\n",
      "-----------------------------------------------------------------------------------------------------------------------------\n",
      "happi new year firework remov\n",
      "-----------------------------------------------------------------------------------------------------------------------------\n",
      "cheater ye watch replay skywrath mage perspect hero cast spell even vision camera replay bug hack match id 5765351776 hero skywrath mage\n",
      "-----------------------------------------------------------------------------------------------------------------------------\n",
      "10 year final understand hi play dota sinc beta also play dota allstar year readi tell commun convict matchmak system play smurf acc booster game matter team done ruin game experi 10 year tire game make devast tilt much u see someon play rank enemi cheater kill team lose alli cheater win game solo give satisfact game realiz final 10 year play readi say delet dota never gonna back seem dota gonna becom vip game hundr smurf nobodi els onlin stat enhanc oppinion onlin fall deeper deeper glad ell u stori also glad lot u suggest nice competit onlin game smurf booster\n",
      "-----------------------------------------------------------------------------------------------------------------------------\n",
      "23savag first 12k mmr remov\n",
      "-----------------------------------------------------------------------------------------------------------------------------\n",
      "dear dotabuff amp opendota long time user site first want say thank much data provid help see work work track stat could pleas request one featur upgrad somehow add time play specif show hour dota player typic play win amp lose thought night ago lost late night game late night must play poorer day would help track win major game lose major game thank much\n",
      "-----------------------------------------------------------------------------------------------------------------------------\n",
      "great confluenc come dota excit potenti stori content know valv write ace hero dota great line realli entertain listen play recent there talk big stori event within dota great confluenc make excit might get stori content dota year year evolv stori within dota would amaz imagin neutral item lore reason suddenli exist want know great confluenc check slack video realli interest http youtu njt0gv573sm\n",
      "-----------------------------------------------------------------------------------------------------------------------------\n",
      "windrang suck\n",
      "-----------------------------------------------------------------------------------------------------------------------------\n",
      "2020 hot get meaning updat dota\n",
      "-----------------------------------------------------------------------------------------------------------------------------\n",
      "cancel ti battlepass money go onlin leagu great prize pool feel like easi opportun valv tri someth new work still look great tri help commun hold great game alreadi ti\n",
      "-----------------------------------------------------------------------------------------------------------------------------\n",
      "invok actual dr steven strang sorcer shaki hand\n",
      "-----------------------------------------------------------------------------------------------------------------------------\n",
      "mason total lost\n",
      "-----------------------------------------------------------------------------------------------------------------------------\n",
      "android dota quiz game\n",
      "-----------------------------------------------------------------------------------------------------------------------------\n",
      "pleas let u keep greevil laughter chatwheel tomorroww way short time use way good\n",
      "-----------------------------------------------------------------------------------------------------------------------------\n",
      "diretid burn potato toaster c program file x86 steam steamapp common dota beta game dota panorama video diretid delet folder\n",
      "-----------------------------------------------------------------------------------------------------------------------------\n",
      "sinc ti year valv hide good stuff new hero new pve mode mayb even good hat covid suck as punk as bitch\n",
      "-----------------------------------------------------------------------------------------------------------------------------\n",
      "buff suggest lifesteal sinc 28 made l dogshit carri even though buff 28a still feel viabl carri pick suggest buff passiv sec slow right click also appli dot effect base enemi current max hp would signific buff true old role anti tank thing go l rework feast bat improv howev proc base item nerf innat damag skill horribl base damag think kind buff passiv could make viabl\n",
      "-----------------------------------------------------------------------------------------------------------------------------\n",
      "time one quick turbo match nevermind ugh\n",
      "-----------------------------------------------------------------------------------------------------------------------------\n",
      "day8 2020 bp 50million 5mill 25 v day nemestic bp 62500 peopl spec arcanum ca 9million accord stratz com wallet vote work\n",
      "-----------------------------------------------------------------------------------------------------------------------------\n",
      "stealth 100\n",
      "-----------------------------------------------------------------------------------------------------------------------------\n",
      "extend sale bubdl battl pa allow u get extra one utterli unfair alway known weekend thing work hard save sold everyth inventori banana price order buy time disrespect ok valv pleas fix\n",
      "-----------------------------------------------------------------------------------------------------------------------------\n",
      "counter techi scripter new year firework edit\n",
      "-----------------------------------------------------------------------------------------------------------------------------\n",
      "pleas give u abil bind direct move hotkey modifi alreadi move quick move quick direct move feel like command would feel le clunki could simpli bind mous key like mouse3 simpli click direct move mention alreadi exist quick move option think anyon even ask ever\n",
      "-----------------------------------------------------------------------------------------------------------------------------\n",
      "packet loss 20 sea play packet loss 20 sea\n",
      "-----------------------------------------------------------------------------------------------------------------------------\n",
      "terrorblad 4k wallpap without logo\n",
      "-----------------------------------------------------------------------------------------------------------------------------\n",
      "bullydog smurf rank sadkek\n",
      "-----------------------------------------------------------------------------------------------------------------------------\n",
      "qua wex remov\n",
      "-----------------------------------------------------------------------------------------------------------------------------\n",
      "confirm ana faceless void\n",
      "-----------------------------------------------------------------------------------------------------------------------------\n",
      "give u option skip post game diretid candi distribut pleas anim take entir long especi consid current unskipp\n",
      "-----------------------------------------------------------------------------------------------------------------------------\n",
      "tri work exact mmr number rank medal im tri get correct mmr rank medal found http dota2 gamepedia com matchmak seasonal_rank bunch peopl anoth sub tell outdat info mmr number find relat medal star anyon help\n",
      "-----------------------------------------------------------------------------------------------------------------------------\n",
      "want show first item inscrib gem\n",
      "-----------------------------------------------------------------------------------------------------------------------------\n",
      "lukiluki yawar get snipe\n",
      "-----------------------------------------------------------------------------------------------------------------------------\n",
      "dota top 10 best invok rampag episod februari 2020\n",
      "-----------------------------------------------------------------------------------------------------------------------------\n",
      "newest project\n",
      "-----------------------------------------------------------------------------------------------------------------------------\n",
      "rang carri team fuck\n",
      "-----------------------------------------------------------------------------------------------------------------------------\n",
      "leagu ad dota2 thread paradoxon\n",
      "-----------------------------------------------------------------------------------------------------------------------------\n",
      "smooth af watch without sound\n",
      "-----------------------------------------------------------------------------------------------------------------------------\n",
      "realli bad ancient team cm earthshak slardar lifesteal dazzl mirana ul ld amp x200b last pick visag pick morphl game end loss 20 21 lane draw side lane complet destroy coupl teammat proceed blame pick visag reason lost pick bad think\n",
      "-----------------------------------------------------------------------------------------------------------------------------\n"
     ]
    }
   ],
   "source": [
    "# Explore dota2 posts that are incorrectly predicted to leagueoflegends\n",
    "\n",
    "for i in prediction_df[(prediction_df.y_test - prediction_df.y_pred) == -1]['X_test']:\n",
    "    print(i)\n",
    "    print('-'*125)"
   ]
  },
  {
   "cell_type": "code",
   "execution_count": 80,
   "id": "45a68ff6",
   "metadata": {
    "scrolled": true
   },
   "outputs": [
    {
     "name": "stdout",
     "output_type": "stream",
     "text": [
      "silver thresh pretti proud flay\n",
      "------------------------------------------------------------------------------------------------------------------------------------------------------\n",
      "champ select player actual game player kept ask go mid despit fact actual game enemi team either idea happen exactli confus af lol amp x200b http preview redd sp7gno7dffw61 png width 370 amp format png amp auto webp amp 4d8d0813c377af76c20e076bc6ad2e93b1b280c5\n",
      "------------------------------------------------------------------------------------------------------------------------------------------------------\n",
      "doubt well guess happen year look forward play wild rift iphon pro year guess guy drop bomb\n",
      "------------------------------------------------------------------------------------------------------------------------------------------------------\n",
      "seraphin fan art anyon els hype ahhh honestli excit come year cough anyon els seraphin main hehe jk unless\n",
      "------------------------------------------------------------------------------------------------------------------------------------------------------\n",
      "remilia first woman made lc dead age\n",
      "------------------------------------------------------------------------------------------------------------------------------------------------------\n",
      "bot put utterli dirt\n",
      "------------------------------------------------------------------------------------------------------------------------------------------------------\n",
      "kill la caitlyn\n",
      "------------------------------------------------------------------------------------------------------------------------------------------------------\n",
      "ezreal need go back winrat champion current free win complet unhing actual need braindead lose ezreal convinc imposs lose ezreal assum four lane ungodli behind champion need absolut undoubtedli kneecap noth ezreal get 200 armor one shot squishi drain tank entir team champion actual disgust pick ban nearli everi singl game\n",
      "------------------------------------------------------------------------------------------------------------------------------------------------------\n",
      "watch 2015 world realli like natur zoom camera remov\n",
      "------------------------------------------------------------------------------------------------------------------------------------------------------\n",
      "breacholog 101 breach sion\n",
      "------------------------------------------------------------------------------------------------------------------------------------------------------\n",
      "queue time rank ridicul tryna get place queue minut get match folk invari back common thing leagu lose player\n",
      "------------------------------------------------------------------------------------------------------------------------------------------------------\n",
      "would count hostag take champ select guy say anyth champ select b5 top lock wukong b4 jungler lock jax teleport everi assign jungl play differ role previou game client automat chang summon spell smite know fact guy chang summon teleport type jax smite chat chang summon spell say anyth reason thing dodg last moment possibl left final countdown lobbi last night tri dodg game still went saw chang summon spell press alt f4 screen darken late basic alway doubl tap f4 habit press alt f4 twice dodg basic hostag take champ select know riot approach punish player behavior like probabl never punish say anyth doubt record summon spell champ select\n",
      "------------------------------------------------------------------------------------------------------------------------------------------------------\n",
      "runin 14 kda remov\n",
      "------------------------------------------------------------------------------------------------------------------------------------------------------\n",
      "2021 refund token go abl claim remov\n",
      "------------------------------------------------------------------------------------------------------------------------------------------------------\n",
      "cling great moment even month later\n",
      "------------------------------------------------------------------------------------------------------------------------------------------------------\n",
      "support carri useless save team 1v3 push made tripl kill save get ult save 5v5 defens never saw thank chat emot say thank noth time die got grab team abandon retreat 3v3\n",
      "------------------------------------------------------------------------------------------------------------------------------------------------------\n",
      "play adc 2020 like\n",
      "------------------------------------------------------------------------------------------------------------------------------------------------------\n",
      "arcan comet win\n",
      "------------------------------------------------------------------------------------------------------------------------------------------------------\n",
      "video made featur tyler1 get rekt\n",
      "------------------------------------------------------------------------------------------------------------------------------------------------------\n",
      "skin spotlight own realli curiou skin spotlight youtub riot employe offici riot channel\n",
      "------------------------------------------------------------------------------------------------------------------------------------------------------\n",
      "failclip exe see video\n",
      "------------------------------------------------------------------------------------------------------------------------------------------------------\n",
      "riven m paint\n",
      "------------------------------------------------------------------------------------------------------------------------------------------------------\n",
      "riot client suddenli went haywir play leagu euw creat new account suddenli put na amp x200b log chang region euw vanish na pbe client never play either\n",
      "------------------------------------------------------------------------------------------------------------------------------------------------------\n",
      "warn never back armordillo corner\n",
      "------------------------------------------------------------------------------------------------------------------------------------------------------\n",
      "forev proudest camil tripl low gold\n",
      "------------------------------------------------------------------------------------------------------------------------------------------------------\n",
      "aram need mele rang variant biggest problem aram poke heavi wave clear champ discrep rang mele charact poke aw fun dodg low cooldown abil wave get delet care build tank counter build tank fun dodg crap tini map fun either top poke champ hate show everi game caitlyn xerath lux sivir zoe swear mele could variant would need tank regen item map would amaz feel duke enemi team center instead hide turret wait regen pray get hit abil combin turret hug wave clear bore thing ever seen thought pick aram fast pace action pack mode snooz fest team hide turret tl dr hate get poke aram let play mele peac\n",
      "------------------------------------------------------------------------------------------------------------------------------------------------------\n",
      "new year game happi new year\n",
      "------------------------------------------------------------------------------------------------------------------------------------------------------\n",
      "dear riot remov\n",
      "------------------------------------------------------------------------------------------------------------------------------------------------------\n",
      "think relat way came\n",
      "------------------------------------------------------------------------------------------------------------------------------------------------------\n",
      "\n",
      "------------------------------------------------------------------------------------------------------------------------------------------------------\n",
      "katarina rework concept rework stay away specif number balanc tri updat katarina kit fit better modern roster balanc kink like shunpo non telegraph instant blink took inspir way katarina depict variou riot medium stay true charact playstyl addit themat bit outdat tri bring snuff particularli critic assassin run around noxu bra check let know think open discuss rito pl get rid shunpo http preview redd yzw107fnjfk51 png width 1250 amp format png amp auto webp amp 6634db3ad03296aabea5d6916da3bf919b9e7498\n",
      "------------------------------------------------------------------------------------------------------------------------------------------------------\n",
      "bruiser top lane companion lane oppon heal worth rush execution enemi team shield worth get serpent fang 3rd item piec advic help climb elo ladder\n",
      "------------------------------------------------------------------------------------------------------------------------------------------------------\n",
      "smurf 65 wr diamond shitti mmr like everi smurf see diamond shitti mmr win streak yet mmr saw dude game 99 lp gain 15 last one guy 70 wr rank 150 game mid diamond miss someth\n",
      "------------------------------------------------------------------------------------------------------------------------------------------------------\n",
      "anyon know leagu legend come mobil remov\n",
      "------------------------------------------------------------------------------------------------------------------------------------------------------\n",
      "new kill la caitlyn skin remov\n",
      "------------------------------------------------------------------------------------------------------------------------------------------------------\n",
      "new year resolut play m23 first lol game hey fan leagu sinc discov word back 2014 last year struggl debt debt famili depress anxieti lack social life care b took wrong place wrong peopl 2019 close realli good sinc start talk mom tri open gf depress also got first ever job promot first thing purchas game pc hope get someth cheap shitti graphic mine know mayb anoth subreddit f one els tell guy heard support leagu commun want share guy achiev take eventu meet rift anyon need talk feel free dm tip recommend one talk today happi new year everyon\n",
      "------------------------------------------------------------------------------------------------------------------------------------------------------\n",
      "stuck bronz feel struggl farm actual farm mean mele mele top garen farm 60ish 72 10 min rang hit ten minut often two death around 30 farm massiv level disadvantag recent game play good leona still lose even get great game here op gg http euw op gg summon champion usernam jackocroc\n",
      "------------------------------------------------------------------------------------------------------------------------------------------------------\n",
      "curs mid que amp x200b somehow manag start que bunch peopl mid obviou write subreddit rule need least 100 charact except titl http preview redd bzpvdatbmzj41 png width 892 amp format png amp auto webp amp eb3eb1c189d3312a12bd240643516e90800992bb\n",
      "------------------------------------------------------------------------------------------------------------------------------------------------------\n",
      "idea give msi champion wild rift skin world champion pc lol skin remov\n",
      "------------------------------------------------------------------------------------------------------------------------------------------------------\n",
      "new pbe skin remov\n",
      "------------------------------------------------------------------------------------------------------------------------------------------------------\n",
      "riot server today na\n",
      "------------------------------------------------------------------------------------------------------------------------------------------------------\n",
      "season challeng introduc remov\n",
      "------------------------------------------------------------------------------------------------------------------------------------------------------\n",
      "summon edg new podcast remov\n",
      "------------------------------------------------------------------------------------------------------------------------------------------------------\n",
      "long take learn new champion wonder peopl experi learn champion feel like lose everi game champion comfort win 65 game riven main champ mani game champion take play one skill capac thank\n",
      "------------------------------------------------------------------------------------------------------------------------------------------------------\n",
      "minut game 2020\n",
      "------------------------------------------------------------------------------------------------------------------------------------------------------\n",
      "ezreal r outplay live\n",
      "------------------------------------------------------------------------------------------------------------------------------------------------------\n",
      "leagu legend amateur post hi organ amateur tournament juli 1st amp x200b http preview redd 0q21o9h215851 png width 1290 amp format png amp auto webp amp 43fe82af7af69b0215b40bb309a9dc8a127f8a62 know http www tobeop com leagu legend amateur tournament op na server http www tobeop com leagu legend amateur tournament op na server team use post find one leav info summon name elo main role\n",
      "------------------------------------------------------------------------------------------------------------------------------------------------------\n",
      "nan\n",
      "------------------------------------------------------------------------------------------------------------------------------------------------------\n",
      "yassuo prof get silver hard challeng player cant get silver sheer amount troll afk feeder think say someth state game low elo\n",
      "------------------------------------------------------------------------------------------------------------------------------------------------------\n",
      "thread needl pyke enemi minion grief\n",
      "------------------------------------------------------------------------------------------------------------------------------------------------------\n",
      "eu talent win eu master term na counterpart ever get scout academi sinc fun talk import thought add two cent let say eu know friend massiv talent talent fact pretti sure beat g2 one hand petti lec owner like one bit give deserv chanc sinc eu simpli appli one 17 open qualifi team good think qualifi one 30 region leagu probabl shitti 3rd 4th tier leagu nobodi scout 3rd tier leagu want want real deal well keep win team nobodi simpli qualifi next tier first tier nation leagu leagu viewership leagu team scout leagu play former futur lec player fantasi keep go win eu master region lec team acknowledg skill dont directli go lec still abl keep fight nation leagu becom popular obvious realist idea mean dont need approv acknowledg shitti lec team owner deserv minimum wage good enough want tri nobodi stop like improv along way let say your na best get nobodi scout ground anyon even watch univers circuit twitch meme leagu honestli dont even know make name na team consid demovit never go make unless regi think\n",
      "------------------------------------------------------------------------------------------------------------------------------------------------------\n",
      "friend bad coupl day leagu meme\n",
      "------------------------------------------------------------------------------------------------------------------------------------------------------\n",
      "grind honor fastest best way still hard carri rank game shit enemi team chat lulz\n",
      "------------------------------------------------------------------------------------------------------------------------------------------------------\n",
      "one buy grieviou wound clash\n",
      "------------------------------------------------------------------------------------------------------------------------------------------------------\n",
      "shouldnt lose lp afk guy play afk multipl game hasnt even gotten warn smurf account wont care got ban game play basic ran afk lose lp riot need implement system one teammat afk dont lose lp guy op gg http na op gg summon usernam feroci triton http na op gg summon usernam feroci triton\n",
      "------------------------------------------------------------------------------------------------------------------------------------------------------\n",
      "stream remov\n",
      "------------------------------------------------------------------------------------------------------------------------------------------------------\n",
      "graf v kha zix basic ever come within e rang good dead isol mechan hard avoid especi lose side ward entir jungl tabi enough get even wors get level get bone plate mayb tell pick graf kha zix pleas rememb alway second pick\n",
      "------------------------------------------------------------------------------------------------------------------------------------------------------\n",
      "someon ask king rammu skin splashart remov\n",
      "------------------------------------------------------------------------------------------------------------------------------------------------------\n",
      "riot miss kda evelynn skin hey guy anyon know report riot miss skin play singapor server sure everyon know k daili mission give kda evelynn skin free friend complet mission time got skin updat get link googl drive show proof still gotten skin pleas help alreadi report far noth yet http drive googl com drive folder 1vvz5 _pybk0fvccjcw8ydznpmul0v2yio usp share http drive googl com drive folder 1vvz5_pybk0fvccjcw8ydznpmul0v2yio usp share\n",
      "------------------------------------------------------------------------------------------------------------------------------------------------------\n",
      "pbe preview battl academia 2021\n",
      "------------------------------------------------------------------------------------------------------------------------------------------------------\n",
      "control ward worst contol ward loser even use wan ward ward detect degenerati traituri scum 75 gold know buy 75 dollar postitur yeah high right high hate control ward good buy blade cisco instead good item bye\n",
      "------------------------------------------------------------------------------------------------------------------------------------------------------\n",
      "best cassio na cassiopeia lol montag petrifi gaze short montag friend popin cassio http www youtub com watch v wrwzzsg1a6a http www youtub com watch v wrwzzsg1a6a\n",
      "------------------------------------------------------------------------------------------------------------------------------------------------------\n",
      "need one kid low elo hurri remov\n",
      "------------------------------------------------------------------------------------------------------------------------------------------------------\n",
      "captain flower return cast remov\n",
      "------------------------------------------------------------------------------------------------------------------------------------------------------\n",
      "need know name game sooooo latest video faker t1 faker youtub channel play game wait champ select anyon know name first second video syla gameplay\n",
      "------------------------------------------------------------------------------------------------------------------------------------------------------\n",
      "unexpect dragon steal remov\n",
      "------------------------------------------------------------------------------------------------------------------------------------------------------\n",
      "bug screen flicker allow interact client unless restart need help guy client randomli start flicker black actual client forc dodg rank lobbi due fact abl interact client happen total three time actual quit worri queue case would occur anyon els problem go solv issu thank advanc http preview redd gy9bqcps8nk61 jpg width 1601 amp format pjpg amp auto webp amp e73624aeebe3e848012903664c0d7b99c6bebed1\n",
      "------------------------------------------------------------------------------------------------------------------------------------------------------\n",
      "fact demot shield tier v terribl reward rank experi way kick tier e plat lp without demot shield boot back 75 lp essenti forc win two game get back tier took one game take lp honestli prefer play promo tier mean demot shield rather back forth divis weight lose lp mean 25 lp fun anybodi els agre\n",
      "------------------------------------------------------------------------------------------------------------------------------------------------------\n",
      "leagu legend commun want thread toxic messag receiv leagu legend chat hide summon name player sent messag\n",
      "------------------------------------------------------------------------------------------------------------------------------------------------------\n",
      "littl offtop guess im search invit link discord server call ego accident left sure join tbh\n",
      "------------------------------------------------------------------------------------------------------------------------------------------------------\n",
      "new patch note remov\n",
      "------------------------------------------------------------------------------------------------------------------------------------------------------\n",
      "make sens ezreal steal item role iceborn lizard runegla luden also fact use kleptom game afteral thief aim antiqu high showerthought hope exagger someth obviou nativ languag sorri butcher grammar p stay clean hydrat peac\n",
      "------------------------------------------------------------------------------------------------------------------------------------------------------\n",
      "look peep join parti new year hi summon make parti peep play leagu tonight celebr new year right fun play game peopl ive never met wanna come hang discord play game drop ig add even hang alon want peep talk happi new year everyon\n",
      "------------------------------------------------------------------------------------------------------------------------------------------------------\n",
      "20 get im kinda piss least got promot want masteri token\n",
      "------------------------------------------------------------------------------------------------------------------------------------------------------\n",
      "sad news remilia first woman make lc dy age 24\n",
      "------------------------------------------------------------------------------------------------------------------------------------------------------\n",
      "fanart happi new year rengo\n",
      "------------------------------------------------------------------------------------------------------------------------------------------------------\n",
      "point play adc enemi team champion like ekko talon garen akali popular high damag champion get one shot ekko talon garen chase time kite 70 health alreadi kill akali also one shot buy guardian angl help everi minut might well even particip team fight champion like simpli wait appear proceed delet game faster blink eye matter hide bush behind team tower get delet\n",
      "------------------------------------------------------------------------------------------------------------------------------------------------------\n",
      "gangplank realli versatil tobia fate absolut madlad know content creator mayb rune take optim take lolz guess seen take arcan comet sometim dark harvest tri one make pretti strong make pretti squishi cuz build pure damag dusk blade instead triforc use take grasp cuz proc gp q amaz give lot sustain lane pretti use outscal oppon hard matchup seen take fleet footwork cuz also heal everi amaz think gp realli versatil mayb kit combin pretti well lot primari rune mayb tobia fun ask versatil one main reason start play gp ok take one suggest gp main\n",
      "------------------------------------------------------------------------------------------------------------------------------------------------------\n",
      "jinxi aram alway blast p\n",
      "------------------------------------------------------------------------------------------------------------------------------------------------------\n",
      "playoff propos make spring split worthwhil keep 2020 playoff format intact\n",
      "------------------------------------------------------------------------------------------------------------------------------------------------------\n",
      "fix meaningless spring split hate spring split mean noth sure get put lc banner world much bigger end dwarf split would like see instead spring split playoff take top team na eu done year obvious instead make spring split atlant championship someth like way instead meaningless spring split hype strong intern competit obviou problem go msi fix easili top finish tie breaker necessari riot away rift rival fix problem rift rival seen intern competit rather exhibit also give spring split mean\n",
      "------------------------------------------------------------------------------------------------------------------------------------------------------\n",
      "academi player get good pay remov\n",
      "------------------------------------------------------------------------------------------------------------------------------------------------------\n",
      "battl academia yone caitlyn leona splash art\n",
      "------------------------------------------------------------------------------------------------------------------------------------------------------\n",
      "10 10 hook experienc packet loss game stuff like happen\n",
      "------------------------------------------------------------------------------------------------------------------------------------------------------\n",
      "stream remov\n",
      "------------------------------------------------------------------------------------------------------------------------------------------------------\n",
      "commun game welcom remov\n",
      "------------------------------------------------------------------------------------------------------------------------------------------------------\n",
      "think shadow isl champ gonna appear ruin king game remov\n",
      "------------------------------------------------------------------------------------------------------------------------------------------------------\n",
      "lec lc restart see anyth websit thought ask heard januari sometim\n",
      "------------------------------------------------------------------------------------------------------------------------------------------------------\n",
      "got messag whenev tri send messag disappear anyon know\n",
      "------------------------------------------------------------------------------------------------------------------------------------------------------\n",
      "lc seem bore watch season remov\n",
      "------------------------------------------------------------------------------------------------------------------------------------------------------\n",
      "lol item chang greatest thing happen lol long time new champion ad game leagu slowli introduc power creep game new power level becom standard releas someth op releas next updat pokemon extrem exampl power creep whenev newer pokemon releas old pokemon becam weaker first riot decid introduc item chang thought would anoth big power creep introduc game read item theorycraft differ build think item way healthier improv lol meta point reason introduct grievou wound le overal sustain item sustain build remov time newer bruiser item feel way better modern use compar death danc heal everi singl bruiser build jungl enchant remov give jungler access core item sooner make jungl item divers healthi mythic item strong effect like invis dash balanc premium price mean none overtak meta like death danc lastli mani player alway build mythic item first mythic passiv make 2nd 3rd even 4th item better never build rabadon infin edg first item sinc get full valu immedi lot good legendari item everi stage game player ignor mythic item legendari item combo bruiser go sterak gargoyl titan could go stridebreak sell boot late game free item slot mindlessli rush mythic item good unless moonston support think futur lot interest build pop item set look promis\n",
      "------------------------------------------------------------------------------------------------------------------------------------------------------\n",
      "ok hear senna top think would work jesu much fun honestli think peopl tri sorri top lane main think work realli well scale basic free kinda op rn though mayb thought\n",
      "------------------------------------------------------------------------------------------------------------------------------------------------------\n",
      "psa never surrend one team mate fed peopl seem give instantli lose gener never seem pay attent team mate success fed everyon actual play around fed success team mate still win rough game even oppos enemi team way ahead\n",
      "------------------------------------------------------------------------------------------------------------------------------------------------------\n",
      "brand skill brand thing remov\n",
      "------------------------------------------------------------------------------------------------------------------------------------------------------\n",
      "lc lec realli version kespa demacia cup preseason titl stand right giant gap earli novemb way til late januari na eu fan team basic noth na fan even wors sinc team alway get elimin earli anyway kill pleas thank star take day earli decemb basic furthest thing real competit event top player actual get particip china korea kespa demacia cup take big chunk dead time preseason provid team real competit practic also give fan someth interest watch bracket format allow team leagu particip includ academi team korea think format would especi benefici na eu bo3 bo5 experi far get see preview new roster tournament like could also includ academi team na region leagu team eu idk commun opinion would person love see riot someth like next year\n",
      "------------------------------------------------------------------------------------------------------------------------------------------------------\n",
      "peak lol matchmak lose smurf queue game win wrong elo high mmr rank play game smurf could liter avoid make lp mmr btw could liter avoid make lp mmr btw could liter avoid make lp mmr btw could liter avoid make lp mmr btw could liter avoid make lp mmr btw\n",
      "------------------------------------------------------------------------------------------------------------------------------------------------------\n",
      "yellow tint leagu game sure anyon els problem leagu relat match screen tint yellow way turn back happen differ pc\n",
      "------------------------------------------------------------------------------------------------------------------------------------------------------\n",
      "syndra op\n",
      "------------------------------------------------------------------------------------------------------------------------------------------------------\n",
      "guy tahm kench good top layer shen lover tri expand knowledg anoth tanki champ kinda feel shen found tahm thing realli know top laner almost never see\n",
      "------------------------------------------------------------------------------------------------------------------------------------------------------\n",
      "stand room seraphin color stori\n",
      "------------------------------------------------------------------------------------------------------------------------------------------------------\n",
      "client show enemi team peopl play v tft2 morn\n",
      "------------------------------------------------------------------------------------------------------------------------------------------------------\n",
      "one disgust repuls thing ever seen player behavior pbe play pbe today encount group four player name georg floyd breath bldontmatt derek chauvin amp x200b frankli point disappoint surpris peopl pbe particular act impun riot made clear care littl server actual shock http preview redd wl3pwh26ggk51 png width 1045 amp format png amp auto webp amp e3d59ff3501bdbe7f51890703685814576d3bed8\n",
      "------------------------------------------------------------------------------------------------------------------------------------------------------\n",
      "answer commun xin zhao mini rework dissapoint updat chang specifi tent expect feedback also commun beg week ago ir start mini rework outdat champion hell answer everyon read realli bad neg reaction liter put ap ratio kit trash like chang made pair word could read shift power champion aa statcheck playstyl w champ interact chang may good bad person know turn shit chang ap ratio ridicul discourag riot make mini rework like chang like sol one would understand even case\n",
      "------------------------------------------------------------------------------------------------------------------------------------------------------\n",
      "game perform wors everi updat remov\n",
      "------------------------------------------------------------------------------------------------------------------------------------------------------\n",
      "na someon help transit adc u gotta patient use play sup 24 dont wanna sup anymor drop ur ign ill add u let friend\n",
      "------------------------------------------------------------------------------------------------------------------------------------------------------\n",
      "teemo doubl penta one game\n",
      "------------------------------------------------------------------------------------------------------------------------------------------------------\n",
      "okay lucian get kill\n",
      "------------------------------------------------------------------------------------------------------------------------------------------------------\n",
      "sett w one satisfi abil land\n",
      "------------------------------------------------------------------------------------------------------------------------------------------------------\n",
      "close end\n",
      "------------------------------------------------------------------------------------------------------------------------------------------------------\n",
      "hecarim fuck broken rather new player dont see point charact movement speed buff get start game slam tower wall tank everi singl hit like noth v peopl mayb level insan everi singl time play drop 20 kill slaughter\n",
      "------------------------------------------------------------------------------------------------------------------------------------------------------\n",
      "hope still relev\n",
      "------------------------------------------------------------------------------------------------------------------------------------------------------\n",
      "pleas fix autoprotect prioriti hard carri win game remov\n",
      "------------------------------------------------------------------------------------------------------------------------------------------------------\n",
      "highlight leagu aram dad\n",
      "------------------------------------------------------------------------------------------------------------------------------------------------------\n",
      "fun get one shot cannon\n",
      "------------------------------------------------------------------------------------------------------------------------------------------------------\n",
      "event skin border prestig edit hey guy quick question recent got obsidian dragon sett prestig edit skin world event wonder unlock border world token replac prestig border unlock border way nicer imo thank\n",
      "------------------------------------------------------------------------------------------------------------------------------------------------------\n",
      "new band world metal genr pentakil kpop genr k da rap genr true damag think would great creat rock band world 2022 take place america think rock band fit well region sure correct wrong popular rock band like imagin dragon linkin park america right one two champion sing play drum game skin instead danc summon drum play guitar mayb piano mayb music keyboard think\n",
      "------------------------------------------------------------------------------------------------------------------------------------------------------\n",
      "dear riot thank dearest rito happi new year old friend awhil sinc last broken bread never stray far thought decad come gradual close other celebr upcom year help reflect given may seem hard believ one point life bad game perfect made mistak bought wrong item fed oppon complet bona fide ape like ape first enter battlefield rank thrust depth bronz piss desper first coupl week climb hellish pit climb rank mountain acknowledg leagu legend god life plan rank game rank game lose hellish lose everi game chip away saniti alreadi broken ape like ape push away blame blame teammat develop champion op champion weak internet list infinit rank season continu hopeless stuck bottom pit forc look eleg silver rank reach eventu learn learn game learn outplay learn strategi pivot victori learn grew reward game play video stream watch research gather lp gain learn grow content awhil year rode line bronz silver knowledg escap bronz time time lack raw talent stay silver matter much work put escap boost monkey blood mad lad like riot heard call heard plea shed merci light made champion op craft champion goddamn strong even goddamn certifi ape zoid manag climb slick blue hair beauti cryptic smolder hot topic persona thank riot bottom heart thank aphelio simpli turn netflix monitor turn brain coast way master like true leagu legend pro happi new year btw\n",
      "------------------------------------------------------------------------------------------------------------------------------------------------------\n",
      "brand new clueless hey guy decid tri game whim dig idea gonna brutal honest clue anybodi mind share learn game\n",
      "------------------------------------------------------------------------------------------------------------------------------------------------------\n",
      "pick jarvan almost feel like handicap remov\n",
      "------------------------------------------------------------------------------------------------------------------------------------------------------\n",
      "account transfer remov\n",
      "------------------------------------------------------------------------------------------------------------------------------------------------------\n",
      "got outplay mr 200 year\n",
      "------------------------------------------------------------------------------------------------------------------------------------------------------\n",
      "meme allow\n",
      "------------------------------------------------------------------------------------------------------------------------------------------------------\n",
      "depth thought abil thought let say thresh quinn team summon rift thresh threw lantern quinn shield bubbl heat fight enemi champion let say quinn dash toward enemi champion use e still protect bubbl shield dash enemi champion liter enemi face question sinc soul activ shield bubbl time impact would enemi champion dash right e shield bubbl theori collid enemi champion dash would feel like hit shield perspect champion fight quinn scenario would shield bubbl make sort collis impact enemi champion upon dash said enemi cours ask gameplay perspect rather tri make sens lore perspect\n",
      "------------------------------------------------------------------------------------------------------------------------------------------------------\n",
      "lost count mani account permaban report work let anyon tell otherwis even echo chamber enthusiast noth whine one punish game ye\n",
      "------------------------------------------------------------------------------------------------------------------------------------------------------\n",
      "silver pleb see belong silver http na op gg summon usernam wandrinkwand realli honestli pretti casual player play sinc s3 done much climb gold everi end season like feedback work realist possibl carri easier elo first think need work c bit greatest seem pretti 50 50 c rang c per minut easili second would map awar recent watch play plat diamond friend told awar jungler movement extra import besid pretti lost els need done especi see game elo decid le 10 minut mark could get suggest perspect thank\n",
      "------------------------------------------------------------------------------------------------------------------------------------------------------\n",
      "anyon buy night amp dawn pa week late buy pa abl complet weekli mission one give 200 token abl complet mission instead week late pleas repli done got offici repli one hextechnician told abl get realli believ anyon buy pa late find\n",
      "------------------------------------------------------------------------------------------------------------------------------------------------------\n",
      "allow amp x200b http preview redd c0otuvms2fw61 png width 1013 amp format png amp auto webp amp 40981da20e4ae503b8a4a873b74cdee07f9366cc almost 200 game record season win tell bot account made 200 lobbi still ban small indi compani cant detect type behavior issu ban blow mind chat moder stricter\n",
      "------------------------------------------------------------------------------------------------------------------------------------------------------\n",
      "leona play peak\n",
      "------------------------------------------------------------------------------------------------------------------------------------------------------\n",
      "riot need rework report system tryndamer team bot account int admit afk ban yet remov\n",
      "------------------------------------------------------------------------------------------------------------------------------------------------------\n",
      "lucki leona femal champion surviv multipl attempt get kill\n",
      "------------------------------------------------------------------------------------------------------------------------------------------------------\n",
      "euw clash lfg megathread septemb 5th 6th euw lfg megathread thread euw region look player anoth region click applic link post hello everyon riot announc anoth clash event date septemb 5th 6th thread help find peopl play come weekend split four differ post divid region na euw eun post pleas includ follow inform ign rank tier role mani need option includ champion pool main join discord would like find peopl http discord gg lol\n",
      "------------------------------------------------------------------------------------------------------------------------------------------------------\n",
      "unpopular opinion lol item chang greatest thing happen lol long time remov\n",
      "------------------------------------------------------------------------------------------------------------------------------------------------------\n",
      "mac instal process remov\n",
      "------------------------------------------------------------------------------------------------------------------------------------------------------\n",
      "game mode start max level remov\n",
      "------------------------------------------------------------------------------------------------------------------------------------------------------\n",
      "new patch note sona rework remov\n",
      "------------------------------------------------------------------------------------------------------------------------------------------------------\n",
      "said he go int man legit said he go int post op gg http op gg think would funni pleas report someth need ban actual int lose lp dodg match teammat said go int http preview redd bg8mlk7ikzj41 png width 689 amp format png amp auto webp amp cbcb361bd46845ada4b5a5862876bac575c83be0 http preview redd 3eihbk7ikzj41 png width 356 amp format png amp auto webp amp 6d3fb33db4fcc34d9151acb67754398691ac4027 http preview redd q2gqkm7ikzj41 png width 349 amp format png amp auto webp amp 3c78bd3497e5548bae0d7c6fe4ef1f0b8f005fc0\n",
      "------------------------------------------------------------------------------------------------------------------------------------------------------\n",
      "worri 500 game stuck silver recent play rank game well still game mf team wrote 500 game hardstuck silver explain lot concern lot first didnt realis play 500 rank game second notic quit improv skill say sinc never close gold like 20 lp promo gold pretti confid skill mf told play 500 game im still silver next rank game defocus basic went kayn top aatrox think statement mf said pretti much game ive play sinc may look account seem kind place seem like lvl 39 player like mayb smurf unrank season imo seem like play like play leagu sinc preseason believ play lot 2016 2017 still newbi play bit earli 2018 2019 play fun came back tri get gold higher also consid play leagu le thank answer tl dr teammat told hardstuck silver know play 500 game teammat account seem fishi defocus concern skill keep play leagu\n",
      "------------------------------------------------------------------------------------------------------------------------------------------------------\n",
      "tsm academi updat hyper takeov http twitter com tsm statu 1388222480507080706 man roster probabl case swordd takeov lan player hyper pretti good jungler illinoi state dunno much play upl day ago vod\n",
      "------------------------------------------------------------------------------------------------------------------------------------------------------\n",
      "play aram dad poro troll\n",
      "------------------------------------------------------------------------------------------------------------------------------------------------------\n",
      "maokai jg mayb come back feel return tank base jg role matter time maokai jg becom thing maokai alway one insan cancer champ strong must pick ban insan oppress kit maokai jg thing year whatev constant buff tank base focus item goal shift meta put tree tripl flex role real plausibl possibl top mid jg\n",
      "------------------------------------------------------------------------------------------------------------------------------------------------------\n",
      "look ppl play remov\n",
      "------------------------------------------------------------------------------------------------------------------------------------------------------\n",
      "pick urf avail play pbe server http twitter com glmarsi statu 1256013817768624128 gt happi thursday friend gt urf ye pick urf avail pbe go check fun alway let u know think time bing pbe come live bing even\n",
      "------------------------------------------------------------------------------------------------------------------------------------------------------\n",
      "tri log request user id got email riot receiv email whilst tri recov usernam issu log fyi im australia know receiv email amp x200b 계정이름 지원 아래에서 귀하의 이메일 주소에 연결된 계정을 확인하실 수 있습니다 이메일 주소 daaaannyzz gmail com mailto daaaannyzz gmail com 리그 오브 레전드 서비스 지역 내 라이엇 계정이름 pbe1 code gonna reveal amp x200b 현재 하나 이상의 한국 라이엇 계정을 보유하고 있습니다 한국 id 찾기 시스템을 이용해 해당 계정들을 복구해 주세요 http link riotgam com l click upn frhghcumwguz9ouhjjkddqjvzeukd6fpb9g4hzydlagxvrgtkawwlgzrb3febyjldm 2fg0 2bji4gmbarnhcorv6g 3d 3dobb2_cafvyc9rprvlau0zoffqwbul0zqlyomjgsuy6ddzs7wrbyhxdaa8sqxawvekyi0nydvqzyaf6upregzbn3dv7b4zvk 2buvi6heutkb9fqo0ggdytpkl0fqj 2bomldwx 2bdbdvtx9i4tbasfvqvpcovctdkrnwwfpa 2fadsbvys7v0nzw 2bl0p 2b1 2fqjy8rmtlo 2fird833lfutgbyqhsjh5lolqwa4ylf84xgtzjw51s9pp 2fr1w3geescp1qx6x9g2rj3lwcdapzq3pl1jcuaiarglfzkrdfzh095esowci2szxqj9lnts80jqswbht8 2bkfjcap5fsrr2ndiyms7qxvsxdgorok663bobbk287u0kdqyhwsvp5rn9ih8x2 2fomqcbcclkffh8xkeju09nywvj1wns3rbkokgeca7oszi1rhqezujrt5oo33fxy9ocr 2bem5ziqoolf75vlv5fhtjyum98qhz1hdzfcofj36htgkg9 2flkn6wk7hmkmxziu4czwxyxvnruf5nlfahewrjx8bscgmqpmy4xj2fuekmhnf23qeu7jiornjpx6a 2bmti 2f3w4nny21qkpcsohbr 2bymeidnjvuytpvgwz8cigil 2bmgfe5wzlrtphmu0cllx8lrymlxirui 2bsbuhc7yvpydnvrk2r 2be2grhdffk 2bip51q 2bhazut1cfvhzn 2fmbkd5rza6 2f9cy23wi1llal6on8syl0thdzaejrktkzho385m4o6f5wroukbjlhz 2b 2b8qvl2arrmbntevuhuaw 2f6piq5sjnpscjd8phe6qabgvqce1nvo 2b 2bllkjvlkelfyie91jxnl9leuhvamqdrq8akj3sgykcebf94azes6g2we515hypzsczvcnixxlif2qnsqzim5xmpztxr 2f8s2wzqqh7q0ckhqr7r9drwn09nfhx102niva 2bwfvjzznhajuf6htp2jpjnjhbnlfrui0n8d66pzd02bfj7th3rv8dmtjq0avxo6cwo 2bsm 3d amp x200b 감사합니다 라이엇 게임즈 드림\n",
      "------------------------------------------------------------------------------------------------------------------------------------------------------\n",
      "seraphin releas ealier know huge discuss seraphin espaci releas skin ultim one quick disclaim dont know anyth champion designz long take etc howev opinion seraphin releas way earlier season may ask well peron strang whole charact overcom struggl becom better singer yet alreadi know achiv goal becom member k da would like riot instead releas indi star someon isnt realli popular yet could follow road success time would gotten secound skin lore show u journey world k da come back riot could teas get onto big stage eventu sing alongsid k da accomplish goal huge pop star obligatori excus englsih first languag\n",
      "------------------------------------------------------------------------------------------------------------------------------------------------------\n",
      "felt good actual expect damag\n",
      "------------------------------------------------------------------------------------------------------------------------------------------------------\n",
      "leagu legend season 2020 champion rewind remov\n",
      "------------------------------------------------------------------------------------------------------------------------------------------------------\n",
      "happi halloween drew spooki found footag fiddl amp x200b http twitter com vatsofgoop statu 1322720191319597057 http preview redd 3ezu98qfejw51 jpg width 2344 amp format pjpg amp auto webp amp 8550a4ef0d8a263214079d1725c63b2516760ffa back anoth scare viewer bewar like last one much thought anoth let know think lot fun\n",
      "------------------------------------------------------------------------------------------------------------------------------------------------------\n",
      "abl gift champi icon bug right abl log thread say move loot hope bug move intent decis fuck peopl pretti ridicul move new player friend play longer intent\n",
      "------------------------------------------------------------------------------------------------------------------------------------------------------\n",
      "first game back leagu month took break becuas couldnt handl toxic like everyon keep complain litearlli 14 minut game right type score enemi top laner got solo kill oppon ireliea liter said game isnt winnabl went afk jungl shit talk everyhon left game fuck 14 minut game bet fuck million dollar never get punish often probabl get chat restrict type tri get stop play game fuck still punish ban peopl fuck type peopl like piec shit ruin actual game mute toxic neg peopl fuck asshol ruin game everyon 14 minut game someon die fuck system backward as broken ban peopl type int er afk er game ruiner fuck run rampart\n",
      "------------------------------------------------------------------------------------------------------------------------------------------------------\n",
      "go one wonder next one gamemod go realli miss play 5v5 champ boy imagin yummi\n",
      "------------------------------------------------------------------------------------------------------------------------------------------------------\n",
      "recruit d3 toplan tournament na na lf d3 d1 toplan finish competit roster hi name zayfray owner nfg esport na base organ focus build player commun competit profession set possibl requir 16 establish game knowledg divers champ pool willing learn strong commun w jungler amp x200b current look finish roster add new starter roster compliment player alreadi roster weekli small tournament help build synergi prepar squad higher level tournament sound like someth would interest pleas dm discord detail discord id zayfray 6305\n",
      "------------------------------------------------------------------------------------------------------------------------------------------------------\n",
      "invalid code hey tri reach riot avail purchas two lol gift card worth 10 electron store australia messag get redeem rp code valid region anyon face issu ye pleas help thank\n",
      "------------------------------------------------------------------------------------------------------------------------------------------------------\n",
      "top lec mid week amp x200b http preview redd pkdjnkjxiyj41 png width 4500 amp format png amp auto webp amp ecb822c1fdb52e8412f48c356ea418a5c060cd1f quick recap week mid lane perspect best worst\n",
      "------------------------------------------------------------------------------------------------------------------------------------------------------\n",
      "bard greatli struggl pre season reason buff make viabl titl say amp x200b bard current sit 52 win rate http lolalyt com lol bard build http lolalyt com lol bard build amp x200b auto rang increas 500 550 amp x200b q cosmic bind ap scale increas 65 100 amp x200b stun durat increas second 75 25 second amp x200b w caretak shrine ap scale increas 30 60 amp x200b heal increas 30 60 90 120 150 90 120 150 180 210 amp x200b new effect caretak shrine longer need build power instant amp x200b e magic journey cooldown decreas 22 20 19 17 16 second 20 18 16 14 second amp x200b r temper fate target rang increas 3400 global\n",
      "------------------------------------------------------------------------------------------------------------------------------------------------------\n",
      "anyon feel like solo que game luck low elo remov\n",
      "------------------------------------------------------------------------------------------------------------------------------------------------------\n"
     ]
    }
   ],
   "source": [
    "# Explore leagueoflegends posts that are incorrectly predicted to dota2\n",
    "\n",
    "for i in prediction_df[(prediction_df.y_test - prediction_df.y_pred) == 1]['X_test']:\n",
    "    print(i)\n",
    "    print('-'*150)"
   ]
  },
  {
   "cell_type": "markdown",
   "id": "83cdb203",
   "metadata": {},
   "source": [
    "Comments on noth sets of incorrectly predicted posts:\n",
    "\n",
    "1. There seems to be a some aggressive lemmatisation and stemming which incorectly spell out the words like \"jungl\" instead of \"jungle\" and \"someth\" instead of \"something\" that I need to adjust in the future.\n",
    "2. The classifier was unable to associate dotabuff to dota2\n",
    "3. The classifier was unable to associate riot, the developer of the game to league of legends"
   ]
  },
  {
   "cell_type": "markdown",
   "id": "e181ccf3",
   "metadata": {},
   "source": [
    "# 5. Conclusion and Recommendations\n",
    "\n",
    "The Random Forest with CountVectorizer worked fairly well with an accuracy score of 74%.\n",
    "The Multinomial Naive Bayes with TfidfVectorizer worked well as well although it garnered a lower accuracy score of 72%.\n",
    "\n",
    "The results that we obtained are decent even though both subreddits were fairly similar. However, we can improve our models by including the following:\n",
    "\n",
    "1. Consider combining misspelled or alternately spelled words to a single representation (e.g. “cool”/”kewl”/”cooool”)\n",
    "2. Consider lemmatization (reduce words such as “am”, “are”, and “is” to a common form such as “be”)\n",
    "3. Tuning of parameters for random forest to get a better score.\n",
    "4. Consider either boosting or bagging to get a more optimal outcome."
   ]
  }
 ],
 "metadata": {
  "kernelspec": {
   "display_name": "Python 3",
   "language": "python",
   "name": "python3"
  },
  "language_info": {
   "codemirror_mode": {
    "name": "ipython",
    "version": 3
   },
   "file_extension": ".py",
   "mimetype": "text/x-python",
   "name": "python",
   "nbconvert_exporter": "python",
   "pygments_lexer": "ipython3",
   "version": "3.8.8"
  }
 },
 "nbformat": 4,
 "nbformat_minor": 5
}
