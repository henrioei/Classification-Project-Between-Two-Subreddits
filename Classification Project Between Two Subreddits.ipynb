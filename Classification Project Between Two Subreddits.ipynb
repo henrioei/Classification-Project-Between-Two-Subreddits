{
 "cells": [
  {
   "cell_type": "markdown",
   "id": "cea2bc0f",
   "metadata": {},
   "source": [
    "# Project 3 - Classification Project Between Two Subreddits"
   ]
  },
  {
   "cell_type": "markdown",
   "id": "dda2c7a0",
   "metadata": {},
   "source": [
    "----------"
   ]
  },
  {
   "cell_type": "markdown",
   "id": "a7255d71",
   "metadata": {},
   "source": [
    "# Problem Statement\n",
    "\n",
    "\n",
    "In this project we will be creating a model that can differentiate between a two subreddits, [/r/dota2](https://www.reddit.com/r/DotA2/) and [/r/leagueoflegends](https://www.reddit.com/r/leagueoflegends/).\n",
    "\n",
    "Both subreddits are similar in a sense that both shares under the same genre umbrella called \"MOBA\" or \"Multiplayer Online Battle Arena.\""
   ]
  },
  {
   "cell_type": "markdown",
   "id": "279654bc",
   "metadata": {},
   "source": [
    "# Table of Contents"
   ]
  },
  {
   "cell_type": "markdown",
   "id": "dd6df0b8",
   "metadata": {},
   "source": [
    "1. [Data and Library Import & Creating Data Frames](#1.-Data-and-Library-Import-&-Creating-Data-Frames)\n",
    "    - [Import Libraries](#Import-Libraries)\n",
    "    - [Import Data from Reddit API](#Import-Data-from-Reddit-API)\n",
    "    - [Collect Data from Dota2 Subreddit](#Collect-Data-from-Dota2-Subreddit)\n",
    "    - [Collect Data from League of Legends Subreddit](#Collect-Data-from-League-of-Legends-Subreddit)\n",
    "    - [Combined the column \"Selfttext\" and \"Title\"](#Combined-the-column-\"Selfttext\"-and-\"Title\")\n",
    "\n",
    "---\n",
    "\n",
    "2. [Exploratory Data Analysis](#2.-Exploratory-Data-Analysis)\n",
    "    - [Identifying stopwords](#Identifying-stopwords)\n",
    "    - [Pre-Processing](#Pre-Processing)\n",
    "    - [Visualizations - Top words that are not Stop Words](#Visualizations---Top-words-that-are-not-Stop-Words)\n",
    "    - [Visualizations - WordCloud](#Visualizations---WordCloud)\n",
    "    - [Visualizations - WordCloud (Removed Unhelpful Words)](#Visualizations---WordCloud-(Removed-Unhelpful-Words))\n",
    "    - [Visualizations - Top 20 of NGrams (1,2 and 1,3)](#Visualizations---Top-20-of-NGrams-(1,2-and-1,3))\n",
    "\n",
    "---\n",
    "\n",
    "3. [Modelling](#3.-Modelling)\n",
    "    - [Model 1 - CountVectorization and Random Forest Classifier](#Model-1---CountVectorization-and-Random-Forest-Classifier)\n",
    "    - [Model 2 - TFIDF and Multinomial Naive Bayes](#Model-2---TFIDF-and-Multinomial-Naive-Bayes)\n",
    "    \n",
    "---\n",
    "\n",
    "4. [Evaluation and Conceptual Understanding](#4.-Evaluation-and-Conceptual-Understanding)\n",
    "\n",
    "---\n",
    "\n",
    "5. [Conclusion and Recommendations](#5.-Conclusion-and-Recommendations)"
   ]
  },
  {
   "cell_type": "markdown",
   "id": "10676460",
   "metadata": {},
   "source": [
    "# 1. Data and Library Import & Creating Data Frames"
   ]
  },
  {
   "cell_type": "markdown",
   "id": "4c7ad4a4",
   "metadata": {},
   "source": [
    "## Import Libraries"
   ]
  },
  {
   "cell_type": "code",
   "execution_count": 1,
   "id": "3dbe691e",
   "metadata": {},
   "outputs": [],
   "source": [
    "import pandas as pd\n",
    "import requests\n",
    "import matplotlib.pyplot as plt\n",
    "import numpy as np\n",
    "import re\n",
    "import nltk\n",
    "import seaborn as sns\n",
    "import string\n",
    "\n",
    "from collections import  Counter\n",
    "from sklearn.model_selection import train_test_split, GridSearchCV\n",
    "from sklearn.pipeline import Pipeline\n",
    "from sklearn.naive_bayes import MultinomialNB\n",
    "from sklearn.metrics import confusion_matrix, plot_confusion_matrix,classification_report\n",
    "from sklearn.ensemble import RandomForestClassifier\n",
    "from sklearn import metrics  \n",
    "from nltk.stem.porter import PorterStemmer\n",
    "from nltk.corpus import stopwords\n",
    "from nltk.stem import WordNetLemmatizer\n",
    "from wordcloud import WordCloud, STOPWORDS\n",
    "from sklearn.metrics import f1_score\n",
    "from sklearn.feature_extraction.text import CountVectorizer, TfidfVectorizer"
   ]
  },
  {
   "cell_type": "markdown",
   "id": "8119ac78",
   "metadata": {},
   "source": [
    "## Import Data from Reddit API"
   ]
  },
  {
   "cell_type": "code",
   "execution_count": 2,
   "id": "d7268b8d",
   "metadata": {},
   "outputs": [],
   "source": [
    "url = 'https://api.pushshift.io/reddit/search/submission'"
   ]
  },
  {
   "cell_type": "markdown",
   "id": "cb0dd2f6",
   "metadata": {},
   "source": [
    "## Collect Data from Dota2 Subreddit"
   ]
  },
  {
   "cell_type": "code",
   "execution_count": 3,
   "id": "b7942f38",
   "metadata": {},
   "outputs": [],
   "source": [
    "p1 = {\n",
    "    'subreddit': 'DotA2',\n",
    "    'size': 100,\n",
    "    'before': 1630454400,\n",
    "    'after': 1625097600\n",
    "}\n",
    "\n",
    "r1 = requests.get(url,p1)\n",
    "d1 = r1.json()\n",
    "i1 = d1['data']\n",
    "ddf1 = pd.DataFrame(i1)"
   ]
  },
  {
   "cell_type": "code",
   "execution_count": 4,
   "id": "2e2da464",
   "metadata": {},
   "outputs": [],
   "source": [
    "p2 = {\n",
    "    'subreddit': 'DotA2',\n",
    "    'size': 100,\n",
    "    'before': 1625097600,\n",
    "    'after': 1619827200\n",
    "}\n",
    "\n",
    "r2 = requests.get(url,p2)\n",
    "d2 = r2.json()\n",
    "i2 = d2['data']\n",
    "ddf2 = pd.DataFrame(i2)"
   ]
  },
  {
   "cell_type": "code",
   "execution_count": 5,
   "id": "558841fe",
   "metadata": {},
   "outputs": [],
   "source": [
    "p3 = {\n",
    "    'subreddit': 'DotA2',\n",
    "    'size': 100,\n",
    "    'before': 1619827200,\n",
    "    'after': 1614556800\n",
    "}\n",
    "\n",
    "r3 = requests.get(url,p3)\n",
    "d3 = r3.json()\n",
    "i3 = d3['data']\n",
    "ddf3 = pd.DataFrame(i3)"
   ]
  },
  {
   "cell_type": "code",
   "execution_count": 6,
   "id": "16a21c2e",
   "metadata": {},
   "outputs": [],
   "source": [
    "p4 = {\n",
    "    'subreddit': 'DotA2',\n",
    "    'size': 100,\n",
    "    'before': 1625097600,\n",
    "    'after': 1609459200\n",
    "}\n",
    "\n",
    "r4 = requests.get(url,p4)\n",
    "d4 = r4.json()\n",
    "i4 = d4['data']\n",
    "ddf4 = pd.DataFrame(i4)"
   ]
  },
  {
   "cell_type": "code",
   "execution_count": 7,
   "id": "4c3c902c",
   "metadata": {},
   "outputs": [],
   "source": [
    "p5 = {\n",
    "    'subreddit': 'DotA2',\n",
    "    'size': 100,\n",
    "    'before': 1619827200,\n",
    "    'after': 1604188800\n",
    "}\n",
    "\n",
    "r5 = requests.get(url,p5)\n",
    "d5 = r5.json()\n",
    "i5 = d5['data']\n",
    "ddf5 = pd.DataFrame(i5)"
   ]
  },
  {
   "cell_type": "code",
   "execution_count": 8,
   "id": "023c1324",
   "metadata": {},
   "outputs": [],
   "source": [
    "p6 = {\n",
    "    'subreddit': 'DotA2',\n",
    "    'size': 100,\n",
    "    'before': 1614556800,\n",
    "    'after': 1598918400\n",
    "}\n",
    "\n",
    "r6 = requests.get(url,p6)\n",
    "d6 = r6.json()\n",
    "i6 = d6['data']\n",
    "ddf6 = pd.DataFrame(i6)"
   ]
  },
  {
   "cell_type": "code",
   "execution_count": 9,
   "id": "b5820ed1",
   "metadata": {},
   "outputs": [],
   "source": [
    "p7 = {\n",
    "    'subreddit': 'DotA2',\n",
    "    'size': 100,\n",
    "    'before': 1598918400,\n",
    "    'after': 1593561600\n",
    "}\n",
    "\n",
    "r7 = requests.get(url,p7)\n",
    "d7 = r7.json()\n",
    "i7 = d7['data']\n",
    "ddf7 = pd.DataFrame(i7)"
   ]
  },
  {
   "cell_type": "code",
   "execution_count": 10,
   "id": "2e0d717c",
   "metadata": {},
   "outputs": [],
   "source": [
    "p8 = {\n",
    "    'subreddit': 'DotA2',\n",
    "    'size': 100,\n",
    "    'before': 1593561600,\n",
    "    'after': 1588291200\n",
    "}\n",
    "\n",
    "r8 = requests.get(url,p8)\n",
    "d8 = r8.json()\n",
    "i8 = d8['data']\n",
    "ddf8 = pd.DataFrame(i8)"
   ]
  },
  {
   "cell_type": "code",
   "execution_count": 11,
   "id": "ca1d026d",
   "metadata": {},
   "outputs": [],
   "source": [
    "p9 = {\n",
    "    'subreddit': 'DotA2',\n",
    "    'size': 100,\n",
    "    'before': 1588291200,\n",
    "    'after': 1583020800\n",
    "}\n",
    "\n",
    "r9 = requests.get(url,p9)\n",
    "d9 = r9.json()\n",
    "i9 = d9['data']\n",
    "ddf9 = pd.DataFrame(i9)"
   ]
  },
  {
   "cell_type": "code",
   "execution_count": 12,
   "id": "7cb23cb5",
   "metadata": {},
   "outputs": [],
   "source": [
    "p10 = {\n",
    "    'subreddit': 'DotA2',\n",
    "    'size': 100,\n",
    "    'before': 1583020800,\n",
    "    'after': 1577836800\n",
    "}\n",
    "\n",
    "r10 = requests.get(url,p10)\n",
    "d10 = r10.json()\n",
    "i10 = d10['data']\n",
    "ddf10 = pd.DataFrame(i10)"
   ]
  },
  {
   "cell_type": "code",
   "execution_count": 13,
   "id": "8bdf74c9",
   "metadata": {
    "scrolled": false
   },
   "outputs": [],
   "source": [
    "ddf1 = ddf1[['subreddit', 'title', 'selftext']]\n",
    "ddf2 = ddf2[['subreddit', 'title', 'selftext']]\n",
    "ddf3 = ddf3[['subreddit', 'title', 'selftext']]\n",
    "ddf4 = ddf4[['subreddit', 'title', 'selftext']]\n",
    "ddf5 = ddf5[['subreddit', 'title', 'selftext']]\n",
    "ddf6 = ddf6[['subreddit', 'title', 'selftext']]\n",
    "ddf7 = ddf7[['subreddit', 'title', 'selftext']]\n",
    "ddf8 = ddf8[['subreddit', 'title', 'selftext']]\n",
    "ddf9 = ddf9[['subreddit', 'title', 'selftext']]\n",
    "ddf10 = ddf10[['subreddit', 'title', 'selftext']]\n",
    "\n",
    "ddf = pd.concat([ddf1,ddf2,ddf3,ddf4,ddf5,ddf6,ddf7,ddf8,ddf9,ddf10], axis=0)"
   ]
  },
  {
   "cell_type": "code",
   "execution_count": 14,
   "id": "7ca3bf7e",
   "metadata": {
    "scrolled": true
   },
   "outputs": [
    {
     "data": {
      "text/html": [
       "<div>\n",
       "<style scoped>\n",
       "    .dataframe tbody tr th:only-of-type {\n",
       "        vertical-align: middle;\n",
       "    }\n",
       "\n",
       "    .dataframe tbody tr th {\n",
       "        vertical-align: top;\n",
       "    }\n",
       "\n",
       "    .dataframe thead th {\n",
       "        text-align: right;\n",
       "    }\n",
       "</style>\n",
       "<table border=\"1\" class=\"dataframe\">\n",
       "  <thead>\n",
       "    <tr style=\"text-align: right;\">\n",
       "      <th></th>\n",
       "      <th>subreddit</th>\n",
       "      <th>title</th>\n",
       "      <th>selftext</th>\n",
       "    </tr>\n",
       "  </thead>\n",
       "  <tbody>\n",
       "    <tr>\n",
       "      <th>0</th>\n",
       "      <td>DotA2</td>\n",
       "      <td>Weird blink bug on PA</td>\n",
       "      <td></td>\n",
       "    </tr>\n",
       "    <tr>\n",
       "      <th>1</th>\n",
       "      <td>DotA2</td>\n",
       "      <td>Ability Draft Appreciation Thread!</td>\n",
       "      <td>Yeah title, talk about why this is the best ga...</td>\n",
       "    </tr>\n",
       "    <tr>\n",
       "      <th>2</th>\n",
       "      <td>DotA2</td>\n",
       "      <td>Weird bug on PA</td>\n",
       "      <td></td>\n",
       "    </tr>\n",
       "    <tr>\n",
       "      <th>3</th>\n",
       "      <td>DotA2</td>\n",
       "      <td>Battlepass situation after the reveal of secon...</td>\n",
       "      <td></td>\n",
       "    </tr>\n",
       "    <tr>\n",
       "      <th>4</th>\n",
       "      <td>DotA2</td>\n",
       "      <td>Weird interaction between Winter's Curse and S...</td>\n",
       "      <td></td>\n",
       "    </tr>\n",
       "    <tr>\n",
       "      <th>...</th>\n",
       "      <td>...</td>\n",
       "      <td>...</td>\n",
       "      <td>...</td>\n",
       "    </tr>\n",
       "    <tr>\n",
       "      <th>95</th>\n",
       "      <td>DotA2</td>\n",
       "      <td>Urgent feature addition: language-strict match...</td>\n",
       "      <td>DotA gameplay is undeniably more efficient whe...</td>\n",
       "    </tr>\n",
       "    <tr>\n",
       "      <th>96</th>\n",
       "      <td>DotA2</td>\n",
       "      <td>please add an option to disable taunts, tips, ...</td>\n",
       "      <td>i get mood swings and mental breakdowns but i ...</td>\n",
       "    </tr>\n",
       "    <tr>\n",
       "      <th>97</th>\n",
       "      <td>DotA2</td>\n",
       "      <td>Epic matchmaking algorithms</td>\n",
       "      <td>Hey Valve, thanks for putting 2 double stacks ...</td>\n",
       "    </tr>\n",
       "    <tr>\n",
       "      <th>98</th>\n",
       "      <td>DotA2</td>\n",
       "      <td>The good old days</td>\n",
       "      <td>Who else played dota 2 before reborn beta?Dota...</td>\n",
       "    </tr>\n",
       "    <tr>\n",
       "      <th>99</th>\n",
       "      <td>DotA2</td>\n",
       "      <td>Literally Unplayable.</td>\n",
       "      <td></td>\n",
       "    </tr>\n",
       "  </tbody>\n",
       "</table>\n",
       "<p>1000 rows × 3 columns</p>\n",
       "</div>"
      ],
      "text/plain": [
       "   subreddit                                              title  \\\n",
       "0      DotA2                              Weird blink bug on PA   \n",
       "1      DotA2                 Ability Draft Appreciation Thread!   \n",
       "2      DotA2                                    Weird bug on PA   \n",
       "3      DotA2  Battlepass situation after the reveal of secon...   \n",
       "4      DotA2  Weird interaction between Winter's Curse and S...   \n",
       "..       ...                                                ...   \n",
       "95     DotA2  Urgent feature addition: language-strict match...   \n",
       "96     DotA2  please add an option to disable taunts, tips, ...   \n",
       "97     DotA2                        Epic matchmaking algorithms   \n",
       "98     DotA2                                  The good old days   \n",
       "99     DotA2                              Literally Unplayable.   \n",
       "\n",
       "                                             selftext  \n",
       "0                                                      \n",
       "1   Yeah title, talk about why this is the best ga...  \n",
       "2                                                      \n",
       "3                                                      \n",
       "4                                                      \n",
       "..                                                ...  \n",
       "95  DotA gameplay is undeniably more efficient whe...  \n",
       "96  i get mood swings and mental breakdowns but i ...  \n",
       "97  Hey Valve, thanks for putting 2 double stacks ...  \n",
       "98  Who else played dota 2 before reborn beta?Dota...  \n",
       "99                                                     \n",
       "\n",
       "[1000 rows x 3 columns]"
      ]
     },
     "execution_count": 14,
     "metadata": {},
     "output_type": "execute_result"
    }
   ],
   "source": [
    "ddf"
   ]
  },
  {
   "cell_type": "markdown",
   "id": "1ecadb13",
   "metadata": {},
   "source": [
    "## Collect Data from League of Legends Subreddit"
   ]
  },
  {
   "cell_type": "code",
   "execution_count": 15,
   "id": "dc885341",
   "metadata": {},
   "outputs": [],
   "source": [
    "p1 = {\n",
    "    'subreddit': 'leagueoflegends',\n",
    "    'size': 100,\n",
    "    'before': 1630454400,\n",
    "    'after': 1625097600\n",
    "}\n",
    "\n",
    "r1 = requests.get(url,p1)\n",
    "d1 = r1.json()\n",
    "i1 = d1['data']\n",
    "ddf1 = pd.DataFrame(i1)"
   ]
  },
  {
   "cell_type": "code",
   "execution_count": 16,
   "id": "412415ae",
   "metadata": {},
   "outputs": [],
   "source": [
    "p2 = {\n",
    "    'subreddit': 'leagueoflegends',\n",
    "    'size': 100,\n",
    "    'before': 1625097600,\n",
    "    'after': 1619827200\n",
    "}\n",
    "\n",
    "r2 = requests.get(url,p2)\n",
    "d2 = r2.json()\n",
    "i2 = d2['data']\n",
    "ddf2 = pd.DataFrame(i2)"
   ]
  },
  {
   "cell_type": "code",
   "execution_count": 17,
   "id": "557bd571",
   "metadata": {},
   "outputs": [],
   "source": [
    "p3 = {\n",
    "    'subreddit': 'leagueoflegends',\n",
    "    'size': 100,\n",
    "    'before': 1619827200,\n",
    "    'after': 1614556800\n",
    "}\n",
    "\n",
    "r3 = requests.get(url,p3)\n",
    "d3 = r3.json()\n",
    "i3 = d3['data']\n",
    "ddf3 = pd.DataFrame(i3)"
   ]
  },
  {
   "cell_type": "code",
   "execution_count": 18,
   "id": "e0e52c24",
   "metadata": {},
   "outputs": [],
   "source": [
    "p4 = {\n",
    "    'subreddit': 'leagueoflegends',\n",
    "    'size': 100,\n",
    "    'before': 1625097600,\n",
    "    'after': 1609459200\n",
    "}\n",
    "\n",
    "r4 = requests.get(url,p4)\n",
    "d4 = r4.json()\n",
    "i4 = d4['data']\n",
    "ddf4 = pd.DataFrame(i4)"
   ]
  },
  {
   "cell_type": "code",
   "execution_count": 19,
   "id": "5472a4e4",
   "metadata": {},
   "outputs": [],
   "source": [
    "p5 = {\n",
    "    'subreddit': 'leagueoflegends',\n",
    "    'size': 100,\n",
    "    'before': 1619827200,\n",
    "    'after': 1604188800\n",
    "}\n",
    "\n",
    "r5 = requests.get(url,p5)\n",
    "d5 = r5.json()\n",
    "i5 = d5['data']\n",
    "ddf5 = pd.DataFrame(i5)"
   ]
  },
  {
   "cell_type": "code",
   "execution_count": 20,
   "id": "6926cd8f",
   "metadata": {},
   "outputs": [],
   "source": [
    "p6 = {\n",
    "    'subreddit': 'leagueoflegends',\n",
    "    'size': 100,\n",
    "    'before': 1614556800,\n",
    "    'after': 1598918400\n",
    "}\n",
    "\n",
    "r6 = requests.get(url,p6)\n",
    "d6 = r6.json()\n",
    "i6 = d6['data']\n",
    "ddf6 = pd.DataFrame(i6)"
   ]
  },
  {
   "cell_type": "code",
   "execution_count": 21,
   "id": "b2999ddb",
   "metadata": {},
   "outputs": [],
   "source": [
    "p7 = {\n",
    "    'subreddit': 'leagueoflegends',\n",
    "    'size': 100,\n",
    "    'before': 1598918400,\n",
    "    'after': 1593561600\n",
    "}\n",
    "\n",
    "r7 = requests.get(url,p7)\n",
    "d7 = r7.json()\n",
    "i7 = d7['data']\n",
    "ddf7 = pd.DataFrame(i7)"
   ]
  },
  {
   "cell_type": "code",
   "execution_count": 22,
   "id": "753d94f0",
   "metadata": {},
   "outputs": [],
   "source": [
    "p8 = {\n",
    "    'subreddit': 'leagueoflegends',\n",
    "    'size': 100,\n",
    "    'before': 1593561600,\n",
    "    'after': 1588291200\n",
    "}\n",
    "\n",
    "r8 = requests.get(url,p8)\n",
    "d8 = r8.json()\n",
    "i8 = d8['data']\n",
    "ddf8 = pd.DataFrame(i8)"
   ]
  },
  {
   "cell_type": "code",
   "execution_count": 23,
   "id": "3e2e8761",
   "metadata": {},
   "outputs": [],
   "source": [
    "p9 = {\n",
    "    'subreddit': 'leagueoflegends',\n",
    "    'size': 100,\n",
    "    'before': 1588291200,\n",
    "    'after': 1583020800\n",
    "}\n",
    "\n",
    "r9 = requests.get(url,p9)\n",
    "d9 = r9.json()\n",
    "i9 = d9['data']\n",
    "ddf9 = pd.DataFrame(i9)"
   ]
  },
  {
   "cell_type": "code",
   "execution_count": 24,
   "id": "e1227d4e",
   "metadata": {},
   "outputs": [],
   "source": [
    "p10 = {\n",
    "    'subreddit': 'leagueoflegends',\n",
    "    'size': 100,\n",
    "    'before': 1583020800,\n",
    "    'after': 1577836800\n",
    "}\n",
    "\n",
    "r10 = requests.get(url,p10)\n",
    "d10 = r10.json()\n",
    "i10 = d10['data']\n",
    "ddf10 = pd.DataFrame(i10)"
   ]
  },
  {
   "cell_type": "code",
   "execution_count": 25,
   "id": "5836c5b9",
   "metadata": {},
   "outputs": [],
   "source": [
    "ddf1 = ddf1[['subreddit', 'title', 'selftext']]\n",
    "ddf2 = ddf2[['subreddit', 'title', 'selftext']]\n",
    "ddf3 = ddf3[['subreddit', 'title', 'selftext']]\n",
    "ddf4 = ddf4[['subreddit', 'title', 'selftext']]\n",
    "ddf5 = ddf5[['subreddit', 'title', 'selftext']]\n",
    "ddf6 = ddf6[['subreddit', 'title', 'selftext']]\n",
    "ddf7 = ddf7[['subreddit', 'title', 'selftext']]\n",
    "ddf8 = ddf8[['subreddit', 'title', 'selftext']]\n",
    "ddf9 = ddf9[['subreddit', 'title', 'selftext']]\n",
    "ddf10 = ddf10[['subreddit', 'title', 'selftext']]\n",
    "\n",
    "lolf = pd.concat([ddf1,ddf2,ddf3,ddf4,ddf5,ddf6,ddf7,ddf8,ddf9,ddf10], axis=0)"
   ]
  },
  {
   "cell_type": "code",
   "execution_count": 26,
   "id": "3c944019",
   "metadata": {
    "scrolled": true
   },
   "outputs": [
    {
     "data": {
      "text/html": [
       "<div>\n",
       "<style scoped>\n",
       "    .dataframe tbody tr th:only-of-type {\n",
       "        vertical-align: middle;\n",
       "    }\n",
       "\n",
       "    .dataframe tbody tr th {\n",
       "        vertical-align: top;\n",
       "    }\n",
       "\n",
       "    .dataframe thead th {\n",
       "        text-align: right;\n",
       "    }\n",
       "</style>\n",
       "<table border=\"1\" class=\"dataframe\">\n",
       "  <thead>\n",
       "    <tr style=\"text-align: right;\">\n",
       "      <th></th>\n",
       "      <th>subreddit</th>\n",
       "      <th>title</th>\n",
       "      <th>selftext</th>\n",
       "    </tr>\n",
       "  </thead>\n",
       "  <tbody>\n",
       "    <tr>\n",
       "      <th>0</th>\n",
       "      <td>leagueoflegends</td>\n",
       "      <td>u.gg Ads</td>\n",
       "      <td>[removed]</td>\n",
       "    </tr>\n",
       "    <tr>\n",
       "      <th>1</th>\n",
       "      <td>leagueoflegends</td>\n",
       "      <td>Ultimate spellbook but its only Zoe R 4th Shot</td>\n",
       "      <td></td>\n",
       "    </tr>\n",
       "    <tr>\n",
       "      <th>2</th>\n",
       "      <td>leagueoflegends</td>\n",
       "      <td>What are champions do you NOT hate laning agai...</td>\n",
       "      <td>I always hear the community complaining about ...</td>\n",
       "    </tr>\n",
       "    <tr>\n",
       "      <th>3</th>\n",
       "      <td>leagueoflegends</td>\n",
       "      <td>League isn't opening</td>\n",
       "      <td>For some reason my league of legends app wont ...</td>\n",
       "    </tr>\n",
       "    <tr>\n",
       "      <th>4</th>\n",
       "      <td>leagueoflegends</td>\n",
       "      <td>The fact that there's no demotion shield betwe...</td>\n",
       "      <td>How is it a rewarding ranked experience in any...</td>\n",
       "    </tr>\n",
       "    <tr>\n",
       "      <th>...</th>\n",
       "      <td>...</td>\n",
       "      <td>...</td>\n",
       "      <td>...</td>\n",
       "    </tr>\n",
       "    <tr>\n",
       "      <th>95</th>\n",
       "      <td>leagueoflegends</td>\n",
       "      <td>From Dota 2 subreddit: Petition to permanently...</td>\n",
       "      <td>[removed]</td>\n",
       "    </tr>\n",
       "    <tr>\n",
       "      <th>96</th>\n",
       "      <td>leagueoflegends</td>\n",
       "      <td>Happy New Year!</td>\n",
       "      <td>I drew this for my boyfriend because he's obse...</td>\n",
       "    </tr>\n",
       "    <tr>\n",
       "      <th>97</th>\n",
       "      <td>leagueoflegends</td>\n",
       "      <td>Exposed</td>\n",
       "      <td></td>\n",
       "    </tr>\n",
       "    <tr>\n",
       "      <th>98</th>\n",
       "      <td>leagueoflegends</td>\n",
       "      <td>The Best Cassio in NA | Cassiopeia lol montage...</td>\n",
       "      <td>A short montage of my friend popin off on cas...</td>\n",
       "    </tr>\n",
       "    <tr>\n",
       "      <th>99</th>\n",
       "      <td>leagueoflegends</td>\n",
       "      <td>Why are there less cheaters and hackers in Lea...</td>\n",
       "      <td>I've played League for over 4 years now, and I...</td>\n",
       "    </tr>\n",
       "  </tbody>\n",
       "</table>\n",
       "<p>1000 rows × 3 columns</p>\n",
       "</div>"
      ],
      "text/plain": [
       "          subreddit                                              title  \\\n",
       "0   leagueoflegends                                           u.gg Ads   \n",
       "1   leagueoflegends     Ultimate spellbook but its only Zoe R 4th Shot   \n",
       "2   leagueoflegends  What are champions do you NOT hate laning agai...   \n",
       "3   leagueoflegends                               League isn't opening   \n",
       "4   leagueoflegends  The fact that there's no demotion shield betwe...   \n",
       "..              ...                                                ...   \n",
       "95  leagueoflegends  From Dota 2 subreddit: Petition to permanently...   \n",
       "96  leagueoflegends                                    Happy New Year!   \n",
       "97  leagueoflegends                                            Exposed   \n",
       "98  leagueoflegends  The Best Cassio in NA | Cassiopeia lol montage...   \n",
       "99  leagueoflegends  Why are there less cheaters and hackers in Lea...   \n",
       "\n",
       "                                             selftext  \n",
       "0                                           [removed]  \n",
       "1                                                      \n",
       "2   I always hear the community complaining about ...  \n",
       "3   For some reason my league of legends app wont ...  \n",
       "4   How is it a rewarding ranked experience in any...  \n",
       "..                                                ...  \n",
       "95                                          [removed]  \n",
       "96  I drew this for my boyfriend because he's obse...  \n",
       "97                                                     \n",
       "98   A short montage of my friend popin off on cas...  \n",
       "99  I've played League for over 4 years now, and I...  \n",
       "\n",
       "[1000 rows x 3 columns]"
      ]
     },
     "execution_count": 26,
     "metadata": {},
     "output_type": "execute_result"
    }
   ],
   "source": [
    "lolf"
   ]
  },
  {
   "cell_type": "code",
   "execution_count": 27,
   "id": "4fd9b638",
   "metadata": {
    "scrolled": true
   },
   "outputs": [
    {
     "data": {
      "text/html": [
       "<div>\n",
       "<style scoped>\n",
       "    .dataframe tbody tr th:only-of-type {\n",
       "        vertical-align: middle;\n",
       "    }\n",
       "\n",
       "    .dataframe tbody tr th {\n",
       "        vertical-align: top;\n",
       "    }\n",
       "\n",
       "    .dataframe thead th {\n",
       "        text-align: right;\n",
       "    }\n",
       "</style>\n",
       "<table border=\"1\" class=\"dataframe\">\n",
       "  <thead>\n",
       "    <tr style=\"text-align: right;\">\n",
       "      <th></th>\n",
       "      <th>subreddit</th>\n",
       "      <th>title</th>\n",
       "      <th>selftext</th>\n",
       "    </tr>\n",
       "  </thead>\n",
       "  <tbody>\n",
       "    <tr>\n",
       "      <th>0</th>\n",
       "      <td>DotA2</td>\n",
       "      <td>Weird blink bug on PA</td>\n",
       "      <td></td>\n",
       "    </tr>\n",
       "    <tr>\n",
       "      <th>1</th>\n",
       "      <td>DotA2</td>\n",
       "      <td>Ability Draft Appreciation Thread!</td>\n",
       "      <td>Yeah title, talk about why this is the best ga...</td>\n",
       "    </tr>\n",
       "    <tr>\n",
       "      <th>2</th>\n",
       "      <td>DotA2</td>\n",
       "      <td>Weird bug on PA</td>\n",
       "      <td></td>\n",
       "    </tr>\n",
       "    <tr>\n",
       "      <th>3</th>\n",
       "      <td>DotA2</td>\n",
       "      <td>Battlepass situation after the reveal of secon...</td>\n",
       "      <td></td>\n",
       "    </tr>\n",
       "    <tr>\n",
       "      <th>4</th>\n",
       "      <td>DotA2</td>\n",
       "      <td>Weird interaction between Winter's Curse and S...</td>\n",
       "      <td></td>\n",
       "    </tr>\n",
       "    <tr>\n",
       "      <th>...</th>\n",
       "      <td>...</td>\n",
       "      <td>...</td>\n",
       "      <td>...</td>\n",
       "    </tr>\n",
       "    <tr>\n",
       "      <th>1995</th>\n",
       "      <td>leagueoflegends</td>\n",
       "      <td>From Dota 2 subreddit: Petition to permanently...</td>\n",
       "      <td>[removed]</td>\n",
       "    </tr>\n",
       "    <tr>\n",
       "      <th>1996</th>\n",
       "      <td>leagueoflegends</td>\n",
       "      <td>Happy New Year!</td>\n",
       "      <td>I drew this for my boyfriend because he's obse...</td>\n",
       "    </tr>\n",
       "    <tr>\n",
       "      <th>1997</th>\n",
       "      <td>leagueoflegends</td>\n",
       "      <td>Exposed</td>\n",
       "      <td></td>\n",
       "    </tr>\n",
       "    <tr>\n",
       "      <th>1998</th>\n",
       "      <td>leagueoflegends</td>\n",
       "      <td>The Best Cassio in NA | Cassiopeia lol montage...</td>\n",
       "      <td>A short montage of my friend popin off on cas...</td>\n",
       "    </tr>\n",
       "    <tr>\n",
       "      <th>1999</th>\n",
       "      <td>leagueoflegends</td>\n",
       "      <td>Why are there less cheaters and hackers in Lea...</td>\n",
       "      <td>I've played League for over 4 years now, and I...</td>\n",
       "    </tr>\n",
       "  </tbody>\n",
       "</table>\n",
       "<p>2000 rows × 3 columns</p>\n",
       "</div>"
      ],
      "text/plain": [
       "            subreddit                                              title  \\\n",
       "0               DotA2                              Weird blink bug on PA   \n",
       "1               DotA2                 Ability Draft Appreciation Thread!   \n",
       "2               DotA2                                    Weird bug on PA   \n",
       "3               DotA2  Battlepass situation after the reveal of secon...   \n",
       "4               DotA2  Weird interaction between Winter's Curse and S...   \n",
       "...               ...                                                ...   \n",
       "1995  leagueoflegends  From Dota 2 subreddit: Petition to permanently...   \n",
       "1996  leagueoflegends                                    Happy New Year!   \n",
       "1997  leagueoflegends                                            Exposed   \n",
       "1998  leagueoflegends  The Best Cassio in NA | Cassiopeia lol montage...   \n",
       "1999  leagueoflegends  Why are there less cheaters and hackers in Lea...   \n",
       "\n",
       "                                               selftext  \n",
       "0                                                        \n",
       "1     Yeah title, talk about why this is the best ga...  \n",
       "2                                                        \n",
       "3                                                        \n",
       "4                                                        \n",
       "...                                                 ...  \n",
       "1995                                          [removed]  \n",
       "1996  I drew this for my boyfriend because he's obse...  \n",
       "1997                                                     \n",
       "1998   A short montage of my friend popin off on cas...  \n",
       "1999  I've played League for over 4 years now, and I...  \n",
       "\n",
       "[2000 rows x 3 columns]"
      ]
     },
     "execution_count": 27,
     "metadata": {},
     "output_type": "execute_result"
    }
   ],
   "source": [
    "dotalol = pd.concat([ddf, lolf], axis=0)\n",
    "dotalol.reset_index(drop = True , inplace = True)\n",
    "dotalol"
   ]
  },
  {
   "cell_type": "markdown",
   "id": "143dc31b",
   "metadata": {},
   "source": [
    "## Combined the column \"Selfttext\" and \"Title\""
   ]
  },
  {
   "cell_type": "code",
   "execution_count": 28,
   "id": "9cbb94ed",
   "metadata": {},
   "outputs": [],
   "source": [
    "dotalol['combine'] = dotalol['title'] + ' '+ dotalol['selftext']"
   ]
  },
  {
   "cell_type": "code",
   "execution_count": 29,
   "id": "14a9fd1d",
   "metadata": {},
   "outputs": [],
   "source": [
    "dotalol['combine']=dotalol['combine'].apply(str)"
   ]
  },
  {
   "cell_type": "markdown",
   "id": "a4404415",
   "metadata": {},
   "source": [
    "## 2. Exploratory Data Analysis"
   ]
  },
  {
   "cell_type": "markdown",
   "id": "3e946cad",
   "metadata": {},
   "source": [
    "## Identifying stopwords"
   ]
  },
  {
   "cell_type": "code",
   "execution_count": 30,
   "id": "5a37f6c4",
   "metadata": {
    "scrolled": true
   },
   "outputs": [
    {
     "data": {
      "image/png": "[encoded data removed]",
      "text/plain": [
       "<Figure size 432x288 with 1 Axes>"
      ]
     },
     "metadata": {
      "needs_background": "light"
     },
     "output_type": "display_data"
    }
   ],
   "source": [
    "stop=set(stopwords.words('english'))\n",
    "\n",
    "corpus=[]\n",
    "new= dotalol['combine'].str.split()\n",
    "new=new.values.tolist()\n",
    "corpus=[word for i in new for word in i]\n",
    "\n",
    "from collections import defaultdict\n",
    "dic=defaultdict(int)\n",
    "for word in corpus:\n",
    "    if word in stop:\n",
    "        dic[word]+=1\n",
    "        \n",
    "top=sorted(dic.items(), key=lambda x:x[1],reverse=True)[:10] \n",
    "x,y=zip(*top)\n",
    "plt.bar(x,y);"
   ]
  },
  {
   "cell_type": "markdown",
   "id": "19f7ca59",
   "metadata": {},
   "source": [
    "## Pre-Processing\n",
    "\n",
    "- Tokenizing\n",
    "- Remove Stop Words\n",
    "- Lemmatizing/Stemming\n",
    "- Remove Punctuations\n",
    "- Remove Digits"
   ]
  },
  {
   "cell_type": "code",
   "execution_count": 31,
   "id": "1a07ff49",
   "metadata": {},
   "outputs": [
    {
     "data": {
      "text/plain": [
       "0                        [weird, blink, bug, on, pa, ]\n",
       "1    [ability, draft, appreciation, thread, yeah, t...\n",
       "2                               [weird, bug, on, pa, ]\n",
       "3    [battlepass, situation, after, the, reveal, of...\n",
       "4    [weird, interaction, between, winter, s, curse...\n",
       "Name: tokenized, dtype: object"
      ]
     },
     "execution_count": 31,
     "metadata": {},
     "output_type": "execute_result"
    }
   ],
   "source": [
    "def tokenize(txt):\n",
    "    tokens = re.split('\\W+', txt)\n",
    "    return tokens\n",
    "\n",
    "dotalol['tokenized'] = dotalol['combine'].apply(lambda x: tokenize(x.lower()))\n",
    "\n",
    "dotalol['tokenized'].head()"
   ]
  },
  {
   "cell_type": "code",
   "execution_count": 32,
   "id": "a63ce867",
   "metadata": {
    "scrolled": true
   },
   "outputs": [
    {
     "data": {
      "text/plain": [
       "0                            [weird, blink, bug, pa, ]\n",
       "1    [ability, draft, appreciation, thread, yeah, t...\n",
       "2                                   [weird, bug, pa, ]\n",
       "3    [battlepass, situation, reveal, second, batch,...\n",
       "4    [weird, interaction, winter, curse, skewer, hu...\n",
       "Name: nosw, dtype: object"
      ]
     },
     "execution_count": 32,
     "metadata": {},
     "output_type": "execute_result"
    }
   ],
   "source": [
    "def remove_stopwords(txt_tokenized):\n",
    "    stopwords = nltk.corpus.stopwords.words('english')\n",
    "    txt_clean = [word for word in txt_tokenized if word not in stopwords]\n",
    "    return txt_clean\n",
    "\n",
    "dotalol['nosw'] = dotalol['tokenized'].apply(lambda x: remove_stopwords(x))\n",
    "\n",
    "dotalol['nosw'].head()"
   ]
  },
  {
   "cell_type": "code",
   "execution_count": 33,
   "id": "1877cd66",
   "metadata": {
    "scrolled": false
   },
   "outputs": [
    {
     "data": {
      "text/plain": [
       "0                            [weird, blink, bug, pa, ]\n",
       "1    [ability, draft, appreciation, thread, yeah, t...\n",
       "2                                   [weird, bug, pa, ]\n",
       "3    [battlepass, situation, reveal, second, batch,...\n",
       "4    [weird, interaction, winter, curse, skewer, hu...\n",
       "Name: lemmatized, dtype: object"
      ]
     },
     "execution_count": 33,
     "metadata": {},
     "output_type": "execute_result"
    }
   ],
   "source": [
    "wnl = WordNetLemmatizer()\n",
    "\n",
    "def Lemmatizing(txt):\n",
    "    text = [wnl.lemmatize(word) for word in txt]\n",
    "    return text\n",
    "\n",
    "dotalol['lemmatized'] = dotalol['nosw'].apply(lambda x: Lemmatizing(x))\n",
    "\n",
    "dotalol['lemmatized'].head()"
   ]
  },
  {
   "cell_type": "code",
   "execution_count": 34,
   "id": "03d72095",
   "metadata": {},
   "outputs": [],
   "source": [
    "#porter=PorterStemmer()\n",
    "\n",
    "#def Stemming(txt):\n",
    "    #text = [porter.stem(word) for word in txt]\n",
    "    #return text\n",
    "\n",
    "#dotalol['stemmed'] = dotalol['lemmatized'].apply(lambda x: Stemming(x))\n",
    "\n",
    "#dotalol['stemmed'].head()"
   ]
  },
  {
   "cell_type": "code",
   "execution_count": 36,
   "id": "fc211931",
   "metadata": {
    "scrolled": true
   },
   "outputs": [
    {
     "data": {
      "text/plain": [
       "0                              [weird, blink, bug, pa]\n",
       "1    [ability, draft, appreciation, thread, yeah, t...\n",
       "2                                     [weird, bug, pa]\n",
       "3    [battlepass, situation, reveal, second, batch,...\n",
       "4    [weird, interaction, winter, curse, skewer, hu...\n",
       "Name: nopunc, dtype: object"
      ]
     },
     "execution_count": 36,
     "metadata": {},
     "output_type": "execute_result"
    }
   ],
   "source": [
    "def remove_punctuation(txt):\n",
    "    txt_nopunt = [c for c in txt if c not in string.punctuation]\n",
    "    return txt_nopunt\n",
    "\n",
    "dotalol['nopunc'] = dotalol['lemmatized'].apply(lambda x: remove_punctuation(x))\n",
    "\n",
    "dotalol['nopunc'].head()"
   ]
  },
  {
   "cell_type": "code",
   "execution_count": 37,
   "id": "96133c19",
   "metadata": {},
   "outputs": [
    {
     "data": {
      "text/plain": [
       "0                              [weird, blink, bug, pa]\n",
       "1    [ability, draft, appreciation, thread, yeah, t...\n",
       "2                                     [weird, bug, pa]\n",
       "3    [battlepass, situation, reveal, second, batch,...\n",
       "4    [weird, interaction, winter, curse, skewer, hu...\n",
       "Name: nonum, dtype: object"
      ]
     },
     "execution_count": 37,
     "metadata": {},
     "output_type": "execute_result"
    }
   ],
   "source": [
    "def remove_digits(txt):\n",
    "    text = [x for x in txt if x not in string.digits]\n",
    "    return text\n",
    "\n",
    "dotalol['nonum'] = dotalol['nopunc'].apply(lambda x: remove_digits(x))\n",
    "\n",
    "dotalol['nonum'].head()"
   ]
  },
  {
   "cell_type": "code",
   "execution_count": 38,
   "id": "fb7852f7",
   "metadata": {},
   "outputs": [],
   "source": [
    "dotalol['nonum'] = dotalol['nonum'].map(lambda x : ' '.join(x))"
   ]
  },
  {
   "cell_type": "code",
   "execution_count": 39,
   "id": "30c08eb9",
   "metadata": {},
   "outputs": [
    {
     "data": {
      "text/plain": [
       "0                                      weird blink bug pa\n",
       "1       ability draft appreciation thread yeah title t...\n",
       "2                                            weird bug pa\n",
       "3       battlepass situation reveal second batch weekl...\n",
       "4       weird interaction winter curse skewer hustler ...\n",
       "                              ...                        \n",
       "1995    dota subreddit petition permanently ban people...\n",
       "1996    happy new year drew boyfriend obsessed drawing...\n",
       "1997                                              exposed\n",
       "1998    best cassio na cassiopeia lol montage petrifyi...\n",
       "1999    le cheater hacker league game played league ye...\n",
       "Name: nonum, Length: 2000, dtype: object"
      ]
     },
     "execution_count": 39,
     "metadata": {},
     "output_type": "execute_result"
    }
   ],
   "source": [
    "dotalol['nonum']"
   ]
  },
  {
   "cell_type": "code",
   "execution_count": 40,
   "id": "055120c7",
   "metadata": {},
   "outputs": [],
   "source": [
    "dotalol['clean'] = dotalol['nonum']"
   ]
  },
  {
   "cell_type": "code",
   "execution_count": 41,
   "id": "817941a7",
   "metadata": {
    "scrolled": false
   },
   "outputs": [
    {
     "data": {
      "text/plain": [
       "0                                      weird blink bug pa\n",
       "1       ability draft appreciation thread yeah title t...\n",
       "2                                            weird bug pa\n",
       "3       battlepass situation reveal second batch weekl...\n",
       "4       weird interaction winter curse skewer hustler ...\n",
       "                              ...                        \n",
       "1995    dota subreddit petition permanently ban people...\n",
       "1996    happy new year drew boyfriend obsessed drawing...\n",
       "1997                                              exposed\n",
       "1998    best cassio na cassiopeia lol montage petrifyi...\n",
       "1999    le cheater hacker league game played league ye...\n",
       "Name: clean, Length: 2000, dtype: object"
      ]
     },
     "execution_count": 41,
     "metadata": {},
     "output_type": "execute_result"
    }
   ],
   "source": [
    "dotalol['clean']"
   ]
  },
  {
   "cell_type": "markdown",
   "id": "e4355255",
   "metadata": {},
   "source": [
    "## Visualizations - Top words that are not Stop Words"
   ]
  },
  {
   "cell_type": "code",
   "execution_count": 42,
   "id": "0db0e248",
   "metadata": {
    "scrolled": false
   },
   "outputs": [
    {
     "data": {
      "image/png": "[encoded data removed]",
      "text/plain": [
       "<Figure size 1152x1152 with 1 Axes>"
      ]
     },
     "metadata": {
      "needs_background": "light"
     },
     "output_type": "display_data"
    }
   ],
   "source": [
    "def plot_top_non_stopwords_barchart(text):\n",
    "    stop=set(stopwords.words('english'))\n",
    "    \n",
    "    new= text.str.split()\n",
    "    new=new.values.tolist()\n",
    "    corpus=[word for i in new for word in i]\n",
    "\n",
    "    counter=Counter(corpus)\n",
    "    most=counter.most_common()\n",
    "    x, y=[], []\n",
    "    for word,count in most[:50]:\n",
    "        if (word not in stop):\n",
    "            x.append(word)\n",
    "            y.append(count)\n",
    "            \n",
    "    sns.barplot(x=y,y=x)\n",
    "plt.figure(1, figsize=(16, 16))\n",
    "plot_top_non_stopwords_barchart(dotalol['clean'])"
   ]
  },
  {
   "cell_type": "code",
   "execution_count": 43,
   "id": "9274896f",
   "metadata": {},
   "outputs": [],
   "source": [
    "text = dotalol['clean'][0:2000]\n",
    "\n",
    "letters_only = re.sub(\"[^a-zA-Z]\",\" \",str(text))"
   ]
  },
  {
   "cell_type": "markdown",
   "id": "af016578",
   "metadata": {},
   "source": [
    "## Visualizations - WordCloud"
   ]
  },
  {
   "cell_type": "code",
   "execution_count": 44,
   "id": "1eaa18ce",
   "metadata": {},
   "outputs": [
    {
     "data": {
      "image/png": "[encoded data removed]",
      "text/plain": [
       "<Figure size 432x288 with 1 Axes>"
      ]
     },
     "metadata": {
      "needs_background": "light"
     },
     "output_type": "display_data"
    }
   ],
   "source": [
    "# Create stopword list:\n",
    "stopwords = set(STOPWORDS)\n",
    "\n",
    "# Generate a word cloud image\n",
    "wordcloud = WordCloud(stopwords=stopwords, background_color=\"white\").generate(letters_only)\n",
    "\n",
    "# Display the generated image:\n",
    "# the matplotlib way:\n",
    "plt.imshow(wordcloud, interpolation='bilinear')\n",
    "plt.figure(1, figsize=(50, 50))\n",
    "plt.axis(\"off\")\n",
    "plt.show()"
   ]
  },
  {
   "cell_type": "markdown",
   "id": "b0100b85",
   "metadata": {},
   "source": [
    "## Visualizations - WordCloud (Removed Unhelpful Words)"
   ]
  },
  {
   "cell_type": "code",
   "execution_count": 45,
   "id": "2e9d561b",
   "metadata": {},
   "outputs": [
    {
     "data": {
      "image/png": "[encoded data removed]",
      "text/plain": [
       "<Figure size 432x288 with 1 Axes>"
      ]
     },
     "metadata": {
      "needs_background": "light"
     },
     "output_type": "display_data"
    }
   ],
   "source": [
    "# Create stopword list:\n",
    "stopwords = set(STOPWORDS)\n",
    "stopwords.update(['game', 'http','amp','like','get','time','player','new','would','people','removed','know','year','weird','bug','pa','title','www','twitch','format','filler','x200b','http','auto','00','webp','com','amp','redd','png','preview','width','feel','like','want','could'])\n",
    "\n",
    "# Generate a word cloud image\n",
    "wordcloud = WordCloud(stopwords=stopwords, background_color=\"white\").generate(letters_only)\n",
    "\n",
    "# Display the generated image:\n",
    "# the matplotlib way:\n",
    "plt.imshow(wordcloud, interpolation='bilinear')\n",
    "plt.figure(1, figsize=(50, 50))\n",
    "plt.axis(\"off\")\n",
    "plt.show()"
   ]
  },
  {
   "cell_type": "markdown",
   "id": "057934f5",
   "metadata": {},
   "source": [
    "## Visualizations - Top 20 of NGrams (1,2 and 1,3)"
   ]
  },
  {
   "cell_type": "code",
   "execution_count": 46,
   "id": "c0cd64cb",
   "metadata": {},
   "outputs": [],
   "source": [
    "from nltk.corpus import stopwords## Visualizations - WordCloud Before\n",
    "\n",
    "def plot_top_ngrams_barchart(text, n=2):\n",
    "    stop=set(stopwords.words('english'))\n",
    "\n",
    "    new= text.str.split()\n",
    "    new=new.values.tolist()\n",
    "    corpus=[word for i in new for word in i]\n",
    "\n",
    "    def _get_top_ngram(corpus, n=None):\n",
    "        vec = CountVectorizer(ngram_range=(n, n)).fit(corpus)\n",
    "        bag_of_words = vec.transform(corpus)\n",
    "        sum_words = bag_of_words.sum(axis=0) \n",
    "        words_freq = [(word, sum_words[0, idx]) \n",
    "                      for word, idx in vec.vocabulary_.items()]\n",
    "        words_freq =sorted(words_freq, key = lambda x: x[1], reverse=True)\n",
    "        return words_freq[:20]\n",
    "\n",
    "    top_n_bigrams=_get_top_ngram(text,n)[:20]\n",
    "    x,y=map(list,zip(*top_n_bigrams))\n",
    "    sns.barplot(x=y,y=x)"
   ]
  },
  {
   "cell_type": "code",
   "execution_count": 47,
   "id": "8afc48c0",
   "metadata": {},
   "outputs": [
    {
     "data": {
      "image/png": "[encoded data removed]",
      "text/plain": [
       "<Figure size 576x576 with 1 Axes>"
      ]
     },
     "metadata": {
      "needs_background": "light"
     },
     "output_type": "display_data"
    }
   ],
   "source": [
    "plt.figure(1, figsize=(8, 8))\n",
    "plot_top_ngrams_barchart(dotalol['clean'],2)"
   ]
  },
  {
   "cell_type": "code",
   "execution_count": 48,
   "id": "80872f12",
   "metadata": {
    "scrolled": false
   },
   "outputs": [
    {
     "data": {
      "image/png": "[encoded data removed]",
      "text/plain": [
       "<Figure size 576x576 with 1 Axes>"
      ]
     },
     "metadata": {
      "needs_background": "light"
     },
     "output_type": "display_data"
    }
   ],
   "source": [
    "plt.figure(1, figsize=(8, 8))\n",
    "plot_top_ngrams_barchart(dotalol['clean'],3)"
   ]
  },
  {
   "cell_type": "markdown",
   "id": "5933c26b",
   "metadata": {},
   "source": [
    "# 3. Modelling"
   ]
  },
  {
   "cell_type": "markdown",
   "id": "10a9766a",
   "metadata": {},
   "source": [
    "## Model 1 - CountVectorization and Random Forest Classifier"
   ]
  },
  {
   "cell_type": "code",
   "execution_count": 1396,
   "id": "6da135dc",
   "metadata": {},
   "outputs": [],
   "source": [
    "dotalol['leagueoflegends'] = [1 if dotalol.loc[i,'subreddit'] == 'leagueoflegends' else 0 for i in range(dotalol.shape[0])]"
   ]
  },
  {
   "cell_type": "code",
   "execution_count": 1397,
   "id": "1f78d756",
   "metadata": {},
   "outputs": [],
   "source": [
    "X = dotalol['clean']\n",
    "y = dotalol['leagueoflegends']"
   ]
  },
  {
   "cell_type": "code",
   "execution_count": 1398,
   "id": "a7e597e2",
   "metadata": {},
   "outputs": [],
   "source": [
    "from sklearn.model_selection import train_test_split\n",
    "\n",
    "X_train, X_test, y_train, y_test = train_test_split(X,\n",
    "                                                    y,\n",
    "                                                    test_size=0.25,\n",
    "                                                    random_state=25,\n",
    "                                                    stratify=y)"
   ]
  },
  {
   "cell_type": "code",
   "execution_count": 1399,
   "id": "832b35bb",
   "metadata": {},
   "outputs": [],
   "source": [
    "other_stopwords = ['game','http','bug','like','get','player','new','would','people','removed','know','year','weird','bug','pa','title','www','twitch','format','filler','x200b','http','auto','00','webp','com','amp','redd','png','preview','width','feel','like','want','could','lol','dota','league','dota2']\n",
    "\n",
    "pipe = Pipeline([\n",
    "    ('cvec',CountVectorizer(stop_words = other_stopwords)),\n",
    "    ('rfc', RandomForestClassifier())\n",
    "])"
   ]
  },
  {
   "cell_type": "code",
   "execution_count": 1400,
   "id": "45367cc5",
   "metadata": {},
   "outputs": [],
   "source": [
    "pipe_params = {\n",
    "    'cvec__max_features': [30000],\n",
    "    'cvec__min_df': [2],\n",
    "    'cvec__max_df': [1.0],\n",
    "    'cvec__ngram_range': [(1,1)],\n",
    "    'cvec__strip_accents': ['unicode'],\n",
    "    'cvec__stop_words': ['english'],\n",
    "    'rfc__bootstrap': [True],\n",
    "    'rfc__max_depth': [1,2,3,4,5],\n",
    "    'rfc__max_features': [1000],\n",
    "    'rfc__min_samples_leaf': [9,10,11,12],\n",
    "    'rfc__max_leaf_nodes':[5,10,15],\n",
    "    'rfc__n_estimators': [5,10,15],\n",
    "    'rfc__criterion': ['gini','entropy']\n",
    "}"
   ]
  },
  {
   "cell_type": "code",
   "execution_count": 1401,
   "id": "b93bba7a",
   "metadata": {},
   "outputs": [],
   "source": [
    "gs = GridSearchCV(pipe,\n",
    "                  param_grid=pipe_params,\n",
    "                  cv=5,\n",
    "                 n_jobs=-1,\n",
    "                 verbose=2)"
   ]
  },
  {
   "cell_type": "code",
   "execution_count": 1402,
   "id": "aff3634e",
   "metadata": {
    "scrolled": true
   },
   "outputs": [
    {
     "name": "stdout",
     "output_type": "stream",
     "text": [
      "Fitting 5 folds for each of 360 candidates, totalling 1800 fits\n"
     ]
    },
    {
     "data": {
      "text/plain": [
       "GridSearchCV(cv=5,\n",
       "             estimator=Pipeline(steps=[('cvec',\n",
       "                                        CountVectorizer(stop_words=['game',\n",
       "                                                                    'http',\n",
       "                                                                    'bug',\n",
       "                                                                    'like',\n",
       "                                                                    'get',\n",
       "                                                                    'player',\n",
       "                                                                    'new',\n",
       "                                                                    'would',\n",
       "                                                                    'people',\n",
       "                                                                    'removed',\n",
       "                                                                    'know',\n",
       "                                                                    'year',\n",
       "                                                                    'weird',\n",
       "                                                                    'bug', 'pa',\n",
       "                                                                    'title',\n",
       "                                                                    'www',\n",
       "                                                                    'twitch',\n",
       "                                                                    'format',\n",
       "                                                                    'filler',\n",
       "                                                                    'x200b',\n",
       "                                                                    'http',\n",
       "                                                                    'auto',\n",
       "                                                                    '00',\n",
       "                                                                    'webp',\n",
       "                                                                    'com',\n",
       "                                                                    'amp',\n",
       "                                                                    'redd',\n",
       "                                                                    'png',\n",
       "                                                                    'preview', ...])),\n",
       "                                       ('rfc', RandomForestClassifier())]),\n",
       "             n_jobs=-1,\n",
       "             param_grid={'cvec__max_df': [1.0], 'cvec__max_features': [30000],\n",
       "                         'cvec__min_df': [2], 'cvec__ngram_range': [(1, 1)],\n",
       "                         'cvec__stop_words': ['english'],\n",
       "                         'cvec__strip_accents': ['unicode'],\n",
       "                         'rfc__bootstrap': [True],\n",
       "                         'rfc__criterion': ['gini', 'entropy'],\n",
       "                         'rfc__max_depth': [1, 2, 3, 4, 5],\n",
       "                         'rfc__max_features': [1000],\n",
       "                         'rfc__max_leaf_nodes': [5, 10, 15],\n",
       "                         'rfc__min_samples_leaf': [9, 10, 11, 12],\n",
       "                         'rfc__n_estimators': [5, 10, 15]},\n",
       "             verbose=2)"
      ]
     },
     "execution_count": 1402,
     "metadata": {},
     "output_type": "execute_result"
    }
   ],
   "source": [
    "gs.fit(X_train, y_train)"
   ]
  },
  {
   "cell_type": "code",
   "execution_count": 1403,
   "id": "73b19ad6",
   "metadata": {},
   "outputs": [
    {
     "data": {
      "text/plain": [
       "{'cvec__max_df': 1.0,\n",
       " 'cvec__max_features': 30000,\n",
       " 'cvec__min_df': 2,\n",
       " 'cvec__ngram_range': (1, 1),\n",
       " 'cvec__stop_words': 'english',\n",
       " 'cvec__strip_accents': 'unicode',\n",
       " 'rfc__bootstrap': True,\n",
       " 'rfc__criterion': 'gini',\n",
       " 'rfc__max_depth': 5,\n",
       " 'rfc__max_features': 1000,\n",
       " 'rfc__max_leaf_nodes': 10,\n",
       " 'rfc__min_samples_leaf': 12,\n",
       " 'rfc__n_estimators': 15}"
      ]
     },
     "execution_count": 1403,
     "metadata": {},
     "output_type": "execute_result"
    }
   ],
   "source": [
    "gs.best_params_"
   ]
  },
  {
   "cell_type": "code",
   "execution_count": 1404,
   "id": "590653dc",
   "metadata": {
    "scrolled": true
   },
   "outputs": [
    {
     "name": "stdout",
     "output_type": "stream",
     "text": [
      "Using Random Forest Classifier with CountVectorizer:\n",
      "----------------------------------------------------\n",
      "Best Score: 0.7173\n",
      "Train Score: 0.7033\n",
      "Test Score: 0.698\n"
     ]
    }
   ],
   "source": [
    "print('Using Random Forest Classifier with CountVectorizer:')\n",
    "print('----------------------------------------------------')\n",
    "print(f'Best Score: {round(gs.best_score_,4)}')\n",
    "print(f'Train Score: {round(gs.score(X_train, y_train),4)}')\n",
    "print(f'Test Score: {round(gs.score(X_test,y_test),4)}')"
   ]
  },
  {
   "cell_type": "code",
   "execution_count": 1405,
   "id": "92d8aa40",
   "metadata": {},
   "outputs": [],
   "source": [
    "# Get predictions\n",
    "preds = gs.predict(X_test)\n",
    "\n",
    "# Save confusion matrix values\n",
    "tn, fp, fn, tp = confusion_matrix(y_test, preds).ravel()"
   ]
  },
  {
   "cell_type": "code",
   "execution_count": 1406,
   "id": "ad613b50",
   "metadata": {},
   "outputs": [
    {
     "name": "stdout",
     "output_type": "stream",
     "text": [
      "                 precision    recall  f1-score   support\n",
      "\n",
      "          dota2       0.63      0.94      0.76       250\n",
      "leagueoflegends       0.89      0.45      0.60       250\n",
      "\n",
      "       accuracy                           0.70       500\n",
      "      macro avg       0.76      0.70      0.68       500\n",
      "   weighted avg       0.76      0.70      0.68       500\n",
      "\n"
     ]
    }
   ],
   "source": [
    "print(classification_report(y_test, preds, target_names=['dota2','leagueoflegends']))"
   ]
  },
  {
   "cell_type": "code",
   "execution_count": 1407,
   "id": "e7ba360f",
   "metadata": {
    "scrolled": false
   },
   "outputs": [
    {
     "data": {
      "image/png": "[encoded data removed]",
      "text/plain": [
       "<Figure size 432x288 with 2 Axes>"
      ]
     },
     "metadata": {
      "needs_background": "light"
     },
     "output_type": "display_data"
    }
   ],
   "source": [
    "# View confusion matrix\n",
    "plot_confusion_matrix(gs, X_test, y_test, cmap='Blues', values_format='d');"
   ]
  },
  {
   "cell_type": "code",
   "execution_count": 1408,
   "id": "badc3894",
   "metadata": {
    "scrolled": true
   },
   "outputs": [
    {
     "name": "stdout",
     "output_type": "stream",
     "text": [
      "Sensitivity: 0.452\n",
      "Accuracy =  0.698\n",
      "Specificity = 0.944\n"
     ]
    }
   ],
   "source": [
    "spec = tn / (tn + fp)\n",
    "sens = tp / (tp + fn)\n",
    "\n",
    "print(f'Sensitivity: {round(sens, 4)}')\n",
    "print(\"Accuracy = \", metrics.accuracy_score(y_test, preds))\n",
    "print(f'Specificity = {round(spec, 4)}')"
   ]
  },
  {
   "cell_type": "markdown",
   "id": "c006c488",
   "metadata": {},
   "source": [
    "## Model 2 - TFIDF and Multinomial Naive Bayes"
   ]
  },
  {
   "cell_type": "code",
   "execution_count": 1382,
   "id": "01f40511",
   "metadata": {},
   "outputs": [],
   "source": [
    "X = dotalol['clean']\n",
    "y = dotalol['leagueoflegends']"
   ]
  },
  {
   "cell_type": "code",
   "execution_count": 1383,
   "id": "2bd6b7b5",
   "metadata": {},
   "outputs": [],
   "source": [
    "X_train, X_test, y_train, y_test = train_test_split(X,\n",
    "                                                    y,\n",
    "                                                    test_size=0.25,\n",
    "                                                    random_state=42,\n",
    "                                                    stratify=y)"
   ]
  },
  {
   "cell_type": "code",
   "execution_count": 1384,
   "id": "7f06518e",
   "metadata": {},
   "outputs": [],
   "source": [
    "other_stopwords = ['game','http','bug','like','get','player','new','would','people','removed','know','year','weird','bug','pa','title','www','twitch','format','filler','x200b','http','auto','00','webp','com','amp','redd','png','preview','width','feel','like','want','could','lol','dota','league','dota2']\n",
    "\n",
    "tvec = TfidfVectorizer(stop_words = other_stopwords)\n",
    "\n",
    "X_train_df = pd.DataFrame(tvec.fit_transform(X_train).todense(), \n",
    "                          columns=tvec.get_feature_names())"
   ]
  },
  {
   "cell_type": "code",
   "execution_count": 1385,
   "id": "c2cae642",
   "metadata": {},
   "outputs": [],
   "source": [
    "pipe_tvec = Pipeline([\n",
    "    ('tvec', TfidfVectorizer()),\n",
    "    ('nb', MultinomialNB())\n",
    "])"
   ]
  },
  {
   "cell_type": "code",
   "execution_count": 1386,
   "id": "6c9dc54a",
   "metadata": {},
   "outputs": [],
   "source": [
    "pipe_tvec_params = {\n",
    "    'tvec__max_features': [1000],\n",
    "    'tvec__ngram_range': [(1,1),(1,2),(1,3)],\n",
    "    'tvec__min_df': [2],\n",
    "    'tvec__max_df': [1.0],\n",
    "    'tvec__strip_accents': ['unicode'],\n",
    "    'tvec__stop_words': ['english']\n",
    "}"
   ]
  },
  {
   "cell_type": "code",
   "execution_count": 1387,
   "id": "6e7ad6f4",
   "metadata": {},
   "outputs": [],
   "source": [
    "gs_tvec = GridSearchCV(pipe_tvec, # what object are we optimizing?\n",
    "                        param_grid = pipe_tvec_params, # what parameters values are we searching?\n",
    "                        cv=5) # 5-fold cross-validation."
   ]
  },
  {
   "cell_type": "code",
   "execution_count": 1388,
   "id": "804cf748",
   "metadata": {
    "scrolled": true
   },
   "outputs": [
    {
     "data": {
      "text/plain": [
       "GridSearchCV(cv=5,\n",
       "             estimator=Pipeline(steps=[('tvec', TfidfVectorizer()),\n",
       "                                       ('nb', MultinomialNB())]),\n",
       "             param_grid={'tvec__max_df': [1.0], 'tvec__max_features': [1000],\n",
       "                         'tvec__min_df': [2],\n",
       "                         'tvec__ngram_range': [(1, 1), (1, 2), (1, 3)],\n",
       "                         'tvec__stop_words': ['english'],\n",
       "                         'tvec__strip_accents': ['unicode']})"
      ]
     },
     "execution_count": 1388,
     "metadata": {},
     "output_type": "execute_result"
    }
   ],
   "source": [
    "gs_tvec.fit(X_train, y_train)"
   ]
  },
  {
   "cell_type": "code",
   "execution_count": 1389,
   "id": "1cf5e117",
   "metadata": {
    "scrolled": true
   },
   "outputs": [
    {
     "name": "stdout",
     "output_type": "stream",
     "text": [
      "Using Multinomial Naive Bayes with TfidfVectorizer:\n",
      "----------------------------------------------------\n",
      "Best Score: 0.81\n",
      "Train Score: 0.9053\n",
      "Test Score: 0.812\n"
     ]
    }
   ],
   "source": [
    "print('Using Multinomial Naive Bayes with TfidfVectorizer:')\n",
    "print('----------------------------------------------------')\n",
    "print(f'Best Score: {round(gs_tvec.best_score_,4)}')\n",
    "print(f'Train Score: {round(gs_tvec.score(X_train, y_train),4)}')\n",
    "print(f'Test Score: {round(gs_tvec.score(X_test,y_test),4)}')"
   ]
  },
  {
   "cell_type": "code",
   "execution_count": 1390,
   "id": "243a30e3",
   "metadata": {},
   "outputs": [],
   "source": [
    "# Get predictions\n",
    "preds_gs_tvec = gs_tvec.predict(X_test)\n",
    "\n",
    "# Save confusion matrix values\n",
    "tn, fp, fn, tp = confusion_matrix(y_test, preds_gs_tvec).ravel()"
   ]
  },
  {
   "cell_type": "code",
   "execution_count": 1391,
   "id": "30313211",
   "metadata": {},
   "outputs": [
    {
     "name": "stdout",
     "output_type": "stream",
     "text": [
      "                 precision    recall  f1-score   support\n",
      "\n",
      "          dota2       0.79      0.85      0.82       250\n",
      "leagueoflegends       0.84      0.78      0.80       250\n",
      "\n",
      "       accuracy                           0.81       500\n",
      "      macro avg       0.81      0.81      0.81       500\n",
      "   weighted avg       0.81      0.81      0.81       500\n",
      "\n"
     ]
    }
   ],
   "source": [
    "print(classification_report(y_test, preds_gs_tvec, target_names=['dota2','leagueoflegends']))"
   ]
  },
  {
   "cell_type": "code",
   "execution_count": 1392,
   "id": "b5870076",
   "metadata": {},
   "outputs": [
    {
     "data": {
      "text/plain": [
       "array([[212,  38],\n",
       "       [ 56, 194]], dtype=int64)"
      ]
     },
     "execution_count": 1392,
     "metadata": {},
     "output_type": "execute_result"
    }
   ],
   "source": [
    "# Generate a confusion matrix.\n",
    "confusion_matrix(y_test, preds_gs_tvec)"
   ]
  },
  {
   "cell_type": "code",
   "execution_count": 1393,
   "id": "32de4ede",
   "metadata": {},
   "outputs": [
    {
     "name": "stdout",
     "output_type": "stream",
     "text": [
      "True Negatives: 212\n",
      "False Positives: 38\n",
      "False Negatives: 56\n",
      "True Positives: 194\n"
     ]
    }
   ],
   "source": [
    "print(\"True Negatives: %s\" % tn)\n",
    "print(\"False Positives: %s\" % fp)\n",
    "print(\"False Negatives: %s\" % fn)\n",
    "print(\"True Positives: %s\" % tp)"
   ]
  },
  {
   "cell_type": "code",
   "execution_count": 1394,
   "id": "f2a103b2",
   "metadata": {},
   "outputs": [
    {
     "data": {
      "image/png": "[encoded data removed]",
      "text/plain": [
       "<Figure size 432x288 with 2 Axes>"
      ]
     },
     "metadata": {
      "needs_background": "light"
     },
     "output_type": "display_data"
    }
   ],
   "source": [
    "plot_confusion_matrix(gs_tvec, X_test, y_test, cmap='Blues', values_format='d');"
   ]
  },
  {
   "cell_type": "code",
   "execution_count": 1395,
   "id": "9475ee8e",
   "metadata": {
    "scrolled": false
   },
   "outputs": [
    {
     "name": "stdout",
     "output_type": "stream",
     "text": [
      "Specificity: 0.848\n",
      "Sensitivity: 0.776\n",
      "Accuracy =  0.812\n"
     ]
    }
   ],
   "source": [
    "# Calculate the specificity\n",
    "\n",
    "spec = tn / (tn + fp)\n",
    "\n",
    "# Calculate sensitivity.\n",
    "\n",
    "sens = tp / (tp + fn)\n",
    "\n",
    "print('Specificity:', spec)\n",
    "print(f'Sensitivity: {round(sens, 4)}')\n",
    "print(\"Accuracy = \", metrics.accuracy_score(y_test, preds_gs_tvec))"
   ]
  },
  {
   "cell_type": "markdown",
   "id": "c6a9312a",
   "metadata": {},
   "source": [
    "# 4. Evaluation and Conceptual Understanding\n",
    "\n",
    "- Model 1: Random Forest Classifier with CountVectorizer\n",
    "- Model 2: Multinomial Naive Bayes with TfidfVectorizer\n",
    "\n",
    "#### Precision:\n",
    "- Model 1 was more accurate in its positive predictions for leagueoflegend posts\n",
    "\n",
    "#### Recall:\n",
    "- Model 1 had a higher percentage in positive predictions for Dota2\n",
    "\n",
    "#### F1 Score:\n",
    "- Model 1 had a higher percentage in positive predictions that were correct for Dota2"
   ]
  },
  {
   "cell_type": "code",
   "execution_count": 75,
   "id": "aa2770cb",
   "metadata": {},
   "outputs": [],
   "source": [
    "# Set up a dataframe for the test data, with the actual target and the predicted target.\n",
    "\n",
    "prediction_df = pd.DataFrame({\n",
    "    'X_test': X_test,\n",
    "    'y_test': y_test,\n",
    "    'y_pred': preds\n",
    "})"
   ]
  },
  {
   "cell_type": "code",
   "execution_count": 76,
   "id": "0e32d957",
   "metadata": {
    "scrolled": true
   },
   "outputs": [
    {
     "name": "stdout",
     "output_type": "stream",
     "text": [
      "ruined life playing literally removed\n",
      "-----------------------------------------------------------------------------------------------------------------------------\n",
      "life pretty much\n",
      "-----------------------------------------------------------------------------------------------------------------------------\n",
      "dip toe back long story short last match dota real human being 2015 get wrong try bot match two every time release new hero familiar enough map hero item change thought hopping right back daunting try hand couple turbo match bite bullet hit unranked\n",
      "-----------------------------------------------------------------------------------------------------------------------------\n",
      "hi question question pro typing gg tournament throne automatically destroyed system detect word gg make throne destroyed admin power make throne destroyed thinking throne could automatically destroyed even though every player team disconnected thank\n",
      "-----------------------------------------------------------------------------------------------------------------------------\n",
      "miss dota wanted give shoutout one favorite game friend sadly leaving 5stack playing year running many smurfs winrate fallen 52 38 fun anymore game steamroll clearly experienced player new fake account thanks good time valve\n",
      "-----------------------------------------------------------------------------------------------------------------------------\n",
      "much cost get dark artistry invoker much cost get dark artistry invoker much save grinding bit\n",
      "-----------------------------------------------------------------------------------------------------------------------------\n",
      "called\n",
      "-----------------------------------------------------------------------------------------------------------------------------\n",
      "dota guidance page show dmg hp level hero level amp x200b show attribute level damage 26 36 mean 26 36 next time 26 next time http preview redd zmsq6mj2egw61 png width 616 amp format png amp auto webp amp 6b67478e41be27fc477ef273dbadc09d7173a862\n",
      "-----------------------------------------------------------------------------------------------------------------------------\n",
      "need party normal match sea server hero grind dota plus add 339374527\n",
      "-----------------------------------------------------------------------------------------------------------------------------\n",
      "found hidden ward aghanim labyrinth\n",
      "-----------------------------------------------------------------------------------------------------------------------------\n",
      "overwatch nothing last month reported several people destroying item running mid gotten feedback bad overwatch feel like ruiner get free pas\n",
      "-----------------------------------------------------------------------------------------------------------------------------\n",
      "mean wont get new hero year c removed\n",
      "-----------------------------------------------------------------------------------------------------------------------------\n",
      "spike lag freeze call whatever want acceptable seen freeze happen different stream guy unlike definitely high end pc stop creep freeze let one go wanna exchange bit freeze get two hit deal one leave bad position suck good game get disconnected blame bad internet however problem end game crashing\n",
      "-----------------------------------------------------------------------------------------------------------------------------\n",
      "lifestealer right click take wrong way trying flame l main understand people play entire kit right click right click right click skill involved except last hitting dodging spell even q r activatable ability skill intensive pressing button hero even exist\n",
      "-----------------------------------------------------------------------------------------------------------------------------\n",
      "give u option copy match id many digit eye crossed need copy paste feature thank volvo\n",
      "-----------------------------------------------------------------------------------------------------------------------------\n",
      "face tho shout artist\n",
      "-----------------------------------------------------------------------------------------------------------------------------\n",
      "diretide nutshell sorry everyone go quite balanced opinion\n",
      "-----------------------------------------------------------------------------------------------------------------------------\n",
      "weird interaction winter curse skewer hustler 2based game\n",
      "-----------------------------------------------------------------------------------------------------------------------------\n",
      "please add option disable taunt tip etc thing part normal gameplay get mood swing mental breakdown still able play dota see option disable affect gameplay sometimes try hurt bm valve keep adding stupid feature like want feel pain please add option disable\n",
      "-----------------------------------------------------------------------------------------------------------------------------\n",
      "druid bear still get old abyssal range\n",
      "-----------------------------------------------------------------------------------------------------------------------------\n",
      "thug life elder titan http www youtube com watch v x878vftfrvk amp feature youtu http www youtube com watch v x878vftfrvk amp feature youtu\n",
      "-----------------------------------------------------------------------------------------------------------------------------\n",
      "hey valve know hard come immortal idea since alot already let help\n",
      "-----------------------------------------------------------------------------------------------------------------------------\n",
      "fair chance battlepass extension delaying release treasure milk desperate people would buy level immediately queue na found many people range level 480 530 including every year release content way ti time use newly unlocked chat wheel reward say like token increase year would shame unlocking new reward using level 50 bundle lose like week question really chance wish\n",
      "-----------------------------------------------------------------------------------------------------------------------------\n",
      "phase drafting kind dumb lion rhasta enemy team snapfire cm ally okay let pick pl sandking uh oh team picked kunka earthshaker totally blind lucky guess xdddddd kind lame game supposed strategically deep double blind second phase\n",
      "-----------------------------------------------------------------------------------------------------------------------------\n",
      "nightmare davion dragon knight revealed\n",
      "-----------------------------------------------------------------------------------------------------------------------------\n",
      "sick matchmaking ranked day either matched acc buyer team smurfers big enemy team srsly tired dota2 lvl 189 ancient best player played long time trying get better stick role grind searching ranked enemy dota2 lvl 15 49 pretty obvious new acc doubt smurfers also taking look profile see increased rank fast ruin game experience way much thinking quit dota valve fixing game valve answer game answering smurfers game even lucky play normal ranked game valve see issue guy think experience day sorry toxicness\n",
      "-----------------------------------------------------------------------------------------------------------------------------\n",
      "faceless void one little bit wacky dont think ever refine\n",
      "-----------------------------------------------------------------------------------------------------------------------------\n",
      "star storm piercing spell immunity\n",
      "-----------------------------------------------------------------------------------------------------------------------------\n",
      "umm fuck trivia removed\n",
      "-----------------------------------------------------------------------------------------------------------------------------\n",
      "wife found ti relic deep storage room\n",
      "-----------------------------------------------------------------------------------------------------------------------------\n",
      "way know reward got diretide hello got 100 point today find anything new inventory chat wheel emoticon etc thing see reward claimed something similar battlepass\n",
      "-----------------------------------------------------------------------------------------------------------------------------\n",
      "arcanum buy sorry think shitpost wanna know good arcanas buy currently pa arcanum think better arcanum pa one recommends excluding pudge techie thats literally worst thing dota made\n",
      "-----------------------------------------------------------------------------------------------------------------------------\n",
      "getting overwatch case 10k behaviour score fairly new account 250ish game lost access old account year ago recently started playing dota yet gotten overwatch case minimum amount game need play hour anything thanks reply\n",
      "-----------------------------------------------------------------------------------------------------------------------------\n",
      "team secret admin using filipino song background\n",
      "-----------------------------------------------------------------------------------------------------------------------------\n",
      "plus reward item paid 75k shard hatchet guarded word cant find item loadout\n",
      "-----------------------------------------------------------------------------------------------------------------------------\n",
      "smurfs new player experience guy troll warlord literally playing first game dota apparent action enemy like smurfs could abandoned game cuz know going enemy kept kicking game id 5179171827 really sad\n",
      "-----------------------------------------------------------------------------------------------------------------------------\n",
      "od still 40 winrate across bracket except divine still 32 find stats dotabuff http www dotabuff com hero outworld destroyer http www dotabuff com hero trend hero currently 10th least picked hero game average winrate still almost behind next weakest hero last week winrate divine immortal bracket staying pretty consistent 25 32 recent buff 28a patch little boost winrate divine since played hero playing ancient divine bracket would appreciate fix hero know last day mostly holiday valve everywhere else another od rework going take time new year always time wish hope hoping see 28b patch somewhere next day week think hero remain unplayable state long thanks listening\n",
      "-----------------------------------------------------------------------------------------------------------------------------\n",
      "hidden mmr dotabuff hello wondering skill bracket dropped high skill normal skill one game 80 winrate new account 17 game played\n",
      "-----------------------------------------------------------------------------------------------------------------------------\n",
      "cannot find game u east something change cannot find game u east something change something im 9k mmr player 10k behaviour score search ranked role classic help\n",
      "-----------------------------------------------------------------------------------------------------------------------------\n",
      "infest life stealer illusion infest taken illusion rune infested one illusion around 20 minute match infest wait illusion die match id 5594563496\n",
      "-----------------------------------------------------------------------------------------------------------------------------\n",
      "ban mod plz amp x200b http preview redd 4bivez6g7hk51 png width 757 amp format png amp auto webp amp 7713d2b9a04704a929a2e4b59cf119ca04c0a154\n",
      "-----------------------------------------------------------------------------------------------------------------------------\n",
      "dota half game wondering\n",
      "-----------------------------------------------------------------------------------------------------------------------------\n",
      "right\n",
      "-----------------------------------------------------------------------------------------------------------------------------\n",
      "qop arcanum progress like anyone else amp x200b http preview redd xa8ait2ahhw61 png width 264 amp format png amp auto webp amp 5bebf11145e124f80cd0a90fa7d177cb74742692 used smaller font could see 1000 part really matter mildly unsettling\n",
      "-----------------------------------------------------------------------------------------------------------------------------\n",
      "finding match dota suddently went offline mode minute connectivity issue side idk happened got penalty accepting game maybe gaben telling play today hmmm\n",
      "-----------------------------------------------------------------------------------------------------------------------------\n",
      "remembers\n",
      "-----------------------------------------------------------------------------------------------------------------------------\n",
      "creep deny sound option turn new deny sound sound like high pitched whine squeaky chain swing rather deny creep hear sound 30 time every laning phase\n",
      "-----------------------------------------------------------------------------------------------------------------------------\n",
      "dude anime look low quality anyone else animation look good anyone else agree\n",
      "-----------------------------------------------------------------------------------------------------------------------------\n",
      "ti postponed may create massive roster shuffle og eg etc world may drop international player look like pro dota could based entirely online regionally based roster move would expect happens ramzes play team month\n",
      "-----------------------------------------------------------------------------------------------------------------------------\n",
      "day would rather play techie juggernaut randomly die every minute mine better dying every minute jug even counterplay actually counterplay beat lane make mistake rest game 4head buy ghost scepter die blade fury 4head pick team tank 4head queue dota 4head\n",
      "-----------------------------------------------------------------------------------------------------------------------------\n",
      "mmr ranking question removed\n",
      "-----------------------------------------------------------------------------------------------------------------------------\n",
      "chinese dota scene someone inform briefly happening chinese dota scene lately heard big shuffle big team month ago quite checked happening yet\n",
      "-----------------------------------------------------------------------------------------------------------------------------\n",
      "gabe as buying battle pas\n",
      "-----------------------------------------------------------------------------------------------------------------------------\n",
      "2021 going awesome played three game toxic af zero report motherfucker year going entertaining\n",
      "-----------------------------------------------------------------------------------------------------------------------------\n",
      "battlepass 2020 everyone probably seen post dota team uploaded blog idea battlepass launched\n",
      "-----------------------------------------------------------------------------------------------------------------------------\n",
      "morphling eartshaker aghanim shard need buff volvo earthshaker walk fissure stun across morphling take ability aghanim shard scepter somehow aftershock across walk anymore ty\n",
      "-----------------------------------------------------------------------------------------------------------------------------\n",
      "99 win rate meteor hammer amp x200b odd thing wraith king still 100 amp 37 win rate meteor hammer recipe 57 match perhaps someone farming mmr sale account always buy meteor hammer http preview redd a92ezc93g5851 png width 1298 amp format png amp auto webp amp 70673b505550652305665a96d005a531c0df83be\n",
      "-----------------------------------------------------------------------------------------------------------------------------\n",
      "announcing r dota2santa subreddit dota giveaway\n",
      "-----------------------------------------------------------------------------------------------------------------------------\n",
      "win 15 game core ranked role fuck girlfriend valve oh let play suboptimally ruin game people battlepass greedy feel like grind point worsen game others core player want play support support player want play core struggling come idea challenge piss entire community throw way destroy 25 125 250 tree win hero attribute stun enemy 60 120 240 second save time using magic stick magic wand get 10 15 kill assist buyback stack 15 30 camp\n",
      "-----------------------------------------------------------------------------------------------------------------------------\n",
      "much cost buy upto baby invoker removed\n",
      "-----------------------------------------------------------------------------------------------------------------------------\n",
      "game row got nothing event get 100 point got useless mouse cursor still keep eating shit\n",
      "-----------------------------------------------------------------------------------------------------------------------------\n",
      "fuck sake someone help amp x200b http preview redd mrkn3gyy8mw51 png width 1920 amp format png amp auto webp amp 0131fedfb964efcf8d312d6d3b218a3368b2da4f long story short miss understanding reason conduct trying raise maybe enjoy playing game go ranked fair game fuck raise every single match 2k play time 1800 match 900 win 80 mvp 3k comment play game pure lvl account le 10 match kill enemy mid lvl sudden enemy even support higher lvl come help mid site take money raise conduct steal account hack thing willing thing\n",
      "-----------------------------------------------------------------------------------------------------------------------------\n",
      "ability draft appreciation thread yeah title talk best game mode seriously though happy quality life stuff valve put mode playing nearly exclusively several year engages underlying mechanic dota unique ever changing way never get bored people usually nice chill play na wonder ad scene like elsewhere anyway share love hate ad let know drafter stand\n",
      "-----------------------------------------------------------------------------------------------------------------------------\n",
      "r dota2 july captain mode hosting another captain mode tournament saturday july 3rd 2pm utc click link see countdown http tinyurl com 5mb4rw tournament hosted eu region 40 spot player total signups first come first served basis waitlist prize 20 steam credit per person winning team sponsored alliance special discord role subreddit flair format team play single elimination bo1 bracket tournament approximately hour long game played captain mode team captain draft hero team rule player assigned team based mmr must minimum 1000 mmr participate drafter default highest mmr player team must available check 12pm 15pm utc saturday july 3rd game played lux server communication participant admins must english team member must communicate via voice chat designated discord channel failure communicate team purposely ignoring could result ban future event player inappropriate steam name nsfw profile picture able participate mean racist homophobic sexist otherwise hateful speech material selection priority first pick last pick radiant dire decided automatic coin toss team 10 minute cumulative pause time opponent may unpause pausing disrupt game gain advantage team must confirm ready unpausing bug abuse form cheating afk game could result ban intentional feeding flaming way shape form player lie mmr cannot provide proof mmr banned admins final say decision collecting match data picked hero make infographic summarises game statistic tournament data collected anonymous signing agreeing allow u collect data tournament game participate join sign form http form gle amzrm9xfzmx2uzsaa must official discord http discord gg rdota2 contact first 40 player sign confirmed play signups placed waitlist potential substitute confirmed play notified 24h beforehand first 10 player waitlist also contacted informed may required replace someone must confirm available 40 player must confirm attendance hour first game day event player must available check 12pm 15pm utc reply 15pm utc replaced someone waitlist player waitlist 10 minute reply official link twitch http www twitch tv redditdota2 discord http discord gg rdota2 twitter http twitter com redditdota2 lang en youtube http www youtube com user redditdota2 previous game stats http www dotabuff com esports league 12318 r dota2 reddit cup\n",
      "-----------------------------------------------------------------------------------------------------------------------------\n",
      "business case mirana remodel\n",
      "-----------------------------------------------------------------------------------------------------------------------------\n",
      "chat script bannable want tell lane partner strategy want type every time learn python shit write script detected cheat\n",
      "-----------------------------------------------------------------------------------------------------------------------------\n",
      "happy new year firework removed\n",
      "-----------------------------------------------------------------------------------------------------------------------------\n",
      "cheater yes watch replay skywrath mage perspective hero casting spell even vision camera replay bug hacking match id 5765351776 hero skywrath mage\n",
      "-----------------------------------------------------------------------------------------------------------------------------\n",
      "10 year finally understand hi playing dota since beta also played dota allstars year ready tell community conviction matchmaking system playing smurf acc booster game matter team done ruin game experience 10 year tired game make devastated tilt much u see someone playing rank enemy cheater kill team lose ally cheater win game solo give satisfaction game realization finally 10 year playing ready say delete dota never gonna back seems dota gonna become vip game hundred smurfs nobody else online stats enhancing oppinion online falling deeper deeper glad ell u story also glad lot u suggest nice competitive online game smurfs booster\n",
      "-----------------------------------------------------------------------------------------------------------------------------\n",
      "23savage first 12k mmr removed\n",
      "-----------------------------------------------------------------------------------------------------------------------------\n",
      "got 50 neutral item year valve add 50 new neutral ancient creep next patch many new cool ability reward would make game lively refreshed 50 new neutral creep ancient cool new ability like creep teleport u random location creep disable item second hawk creep scout creativity limitless go lol route kill certain rare special ancient camp get buff atk mana regen status re etc maybe 10 chance spawn special creep give u special item super rare chance spawn mega roshan killing would change terrain game permanently like ground elevate give high groud advantange killing team mountain pop block certain path jungle area enemy team punishment\n",
      "-----------------------------------------------------------------------------------------------------------------------------\n",
      "dear dotabuff amp opendota long time user site first want say thank much data provide helpful see working working track stats could please request one feature upgrade somehow add time played specifically showing hour dota player typically play win amp loses thought night ago lost late night game late night must play poorer day would helpful track winning majority game losing majority game thanks much\n",
      "-----------------------------------------------------------------------------------------------------------------------------\n",
      "great confluence coming dota excited potential story content know valve writing ace hero dota great line really entertaining listen playing recently there talk big story event within dota great confluence make excited might get story content dota year year evolving story within dota would amazing imagine neutral item lore reason suddenly existing want know great confluence check slack video really interesting http youtu njt0gv573sm\n",
      "-----------------------------------------------------------------------------------------------------------------------------\n",
      "windranger suck\n",
      "-----------------------------------------------------------------------------------------------------------------------------\n",
      "cancelling ti battlepass money go online league great prize pool feel like easy opportunity valve try something new work still look great trying help community hold great game already ti\n",
      "-----------------------------------------------------------------------------------------------------------------------------\n",
      "invoker actually dr steven strange sorcerer shaky hand\n",
      "-----------------------------------------------------------------------------------------------------------------------------\n",
      "mason totally lost\n",
      "-----------------------------------------------------------------------------------------------------------------------------\n",
      "friend book odpixel http preview redd a2rr9sgp22k41 png width 3508 amp format png amp auto webp amp 8559a853676dac32447f6c9330f1c72919585bfc name owen davy odpixel friend usually call owen birthday 29th march believe love first sight nahhh favorite book read much spare time play dota course favorite movie show really play game dark netflix awesome favorite music artist matthew bellamy muse 10 best dish pizza chicken pesto green olive 11 wanna take photo sheever course greatest fear spider hate 13 happiest day life moving house sheever 14 desert island would take sheever computer internet 15 trait value people good vibe 16 pet one maybe get retire 17 favorite game except dota nier automaton red dead redemption guitar hero golden sun link awakening spiderman mario kart dd 18 country would like visit japan 19 change position would play dota usually play mid play support 20 would choose opponent 1v1 match kyle omegalul ez mid 21 favorite dota hero pudgggeeee 22 would someone care everything would need hero removed dota yeah remove techie 24 share room tournament sheever 25 long playing dota lose count think maybe year 26 best pair caster fogged noob 27 leave autograph 28 name event fill form weplay mad moon amazing event\n",
      "-----------------------------------------------------------------------------------------------------------------------------\n",
      "alliance v og seed caramelldansen http www twitch tv video 607025850 00h03m19s http www twitch tv video 607025850 00h03m19s\n",
      "-----------------------------------------------------------------------------------------------------------------------------\n",
      "diretide burning potato toaster c program file x86 steam steamapps common dota beta game dota panorama video diretide delete folder\n",
      "-----------------------------------------------------------------------------------------------------------------------------\n",
      "ranked game amp x200b http preview redd fc4sobe282k41 jpg width 1920 amp format pjpg amp auto webp amp b3b97c779306fd05e0b7b2ab5606fd1961e92603\n",
      "-----------------------------------------------------------------------------------------------------------------------------\n",
      "since ti year valve hide good stuff new hero new pve mode maybe even good hat covid suck as punk as bitch\n",
      "-----------------------------------------------------------------------------------------------------------------------------\n",
      "buff suggestion lifestealer since 28 made l dogshit carry even though buff 28a still feel viable carry pick suggest buff passive sec slow right click also applies dot effect based enemy current max hp would significant buff true old role anti tank thing going l reworked feast bat improved however proc based item nerfed innate damage skill horrible base damage think kind buff passive could make viable\n",
      "-----------------------------------------------------------------------------------------------------------------------------\n",
      "time one quick turbo match nevermind ugh\n",
      "-----------------------------------------------------------------------------------------------------------------------------\n",
      "day8 2020 bp 50million 5mill 25 v day nemestice bp 62500 people spec arcanum ca 9million according stratz com wallet voting work\n",
      "-----------------------------------------------------------------------------------------------------------------------------\n",
      "stealth 100\n",
      "-----------------------------------------------------------------------------------------------------------------------------\n",
      "extend sale bubdle battle pas allow u get extra one utterly unfair always known weekend thing worked hard save sold everything inventory banana price order buy time disrespect ok valve please fix\n",
      "-----------------------------------------------------------------------------------------------------------------------------\n",
      "counter techie scripters new year firework edition\n",
      "-----------------------------------------------------------------------------------------------------------------------------\n",
      "please give u ability bind directional move hotkey modifier already move quick move quick directional move feel like command would feel le clunky could simply bind mouse key like mouse3 simply click directional move mention already exists quick move option think anyone even asked ever\n",
      "-----------------------------------------------------------------------------------------------------------------------------\n",
      "packet loss 20 sea play packet loss 20 sea\n",
      "-----------------------------------------------------------------------------------------------------------------------------\n",
      "terrorblade 4k wallpaper without logo\n",
      "-----------------------------------------------------------------------------------------------------------------------------\n",
      "bullydog smurfing ranked sadkek\n",
      "-----------------------------------------------------------------------------------------------------------------------------\n",
      "petition make brainch 40gp dont think used enough incentivize make grabable tree free\n",
      "-----------------------------------------------------------------------------------------------------------------------------\n",
      "start 2020\n",
      "-----------------------------------------------------------------------------------------------------------------------------\n",
      "confirmed ana faceless void\n",
      "-----------------------------------------------------------------------------------------------------------------------------\n",
      "trying work exact mmr number rank medal im trying get correct mmr rank medal found http dota2 gamepedia com matchmaking seasonal_rankings bunch people another sub tell outdated info mmr number find relate medal star anyone help\n",
      "-----------------------------------------------------------------------------------------------------------------------------\n",
      "want show first item inscribed gem\n",
      "-----------------------------------------------------------------------------------------------------------------------------\n",
      "lukiluki yawar getting sniped\n",
      "-----------------------------------------------------------------------------------------------------------------------------\n",
      "dota top 10 best invoker rampage episode february 2020\n",
      "-----------------------------------------------------------------------------------------------------------------------------\n",
      "newest project\n",
      "-----------------------------------------------------------------------------------------------------------------------------\n",
      "ranged carry team fuck\n",
      "-----------------------------------------------------------------------------------------------------------------------------\n",
      "league ad dota2 thread paradoxon\n",
      "-----------------------------------------------------------------------------------------------------------------------------\n",
      "smooth af watch without sound\n",
      "-----------------------------------------------------------------------------------------------------------------------------\n",
      "really bad ancient team cm earthshaker slardar lifestealer dazzle mirana ul ld amp x200b last pick visage pick morphling game end loss 20 21 lane draw side lane completely destroyed couple teammate proceed blame picking visage reason lost pick bad think\n",
      "-----------------------------------------------------------------------------------------------------------------------------\n"
     ]
    }
   ],
   "source": [
    "# Explore dota2 posts that are incorrectly predicted to leagueoflegends\n",
    "\n",
    "for i in prediction_df[(prediction_df.y_test - prediction_df.y_pred) == -1]['X_test']:\n",
    "    print(i)\n",
    "    print('-'*125)"
   ]
  },
  {
   "cell_type": "code",
   "execution_count": 77,
   "id": "45a68ff6",
   "metadata": {
    "scrolled": true
   },
   "outputs": [
    {
     "name": "stdout",
     "output_type": "stream",
     "text": [
      "kassadin ban rate low played league looking stats op gg noticed kassadin ban rate super low happened used super high ban rate right\n",
      "------------------------------------------------------------------------------------------------------------------------------------------------------\n",
      "silver thresh pretty proud flay\n",
      "------------------------------------------------------------------------------------------------------------------------------------------------------\n",
      "champ select player actually game player kept asking go mid despite fact actually game enemy team either idea happened exactly confused af lol amp x200b http preview redd sp7gno7dffw61 png width 370 amp format png amp auto webp amp 4d8d0813c377af76c20e076bc6ad2e93b1b280c5\n",
      "------------------------------------------------------------------------------------------------------------------------------------------------------\n",
      "good tried whatnot sign link get first collectable purchase whatnot com invite shanhatch76\n",
      "------------------------------------------------------------------------------------------------------------------------------------------------------\n",
      "seraphine fan art anyone else hyped ahhh honestly excited come year cough anyone else seraphine main hehe jk unless\n",
      "------------------------------------------------------------------------------------------------------------------------------------------------------\n",
      "remilia first woman made lcs dead age\n",
      "------------------------------------------------------------------------------------------------------------------------------------------------------\n",
      "bot put utterly dirt\n",
      "------------------------------------------------------------------------------------------------------------------------------------------------------\n",
      "kill la caitlyn\n",
      "------------------------------------------------------------------------------------------------------------------------------------------------------\n",
      "ezreal need go back winrate champion currently free win completely unhinged actually need braindead lose ezreal convinced impossible lose ezreal assuming four lane ungodly behind champion need absolutely undoubtedly kneecapped nothing ezreal get 200 armor one shot squishies drain tank entire team champion actually disgusting picked banned nearly every single game\n",
      "------------------------------------------------------------------------------------------------------------------------------------------------------\n",
      "watching 2015 world really like natural zoomed camera removed\n",
      "------------------------------------------------------------------------------------------------------------------------------------------------------\n",
      "breachology 101 breaching sion\n",
      "------------------------------------------------------------------------------------------------------------------------------------------------------\n",
      "queue time ranked ridiculous tryna get placed queue minute getting match folk invariably back common thing league losing player\n",
      "------------------------------------------------------------------------------------------------------------------------------------------------------\n",
      "would count hostage taking champ select guy say anything champ select b5 top locked wukong b4 jungler locked jax teleport every assigned jungle played different role previous game client automatically change summoner spell smite know fact guy changed summoner teleport typed jax smite chat change summoner spell say anything reasonable thing dodged last moment possible left final countdown lobby last night tried dodge game still went saw change summoner spell pressed alt f4 screen darkened late basically always double tap f4 habit press alt f4 twice dodge basically hostage taking champ select knowing riot approach punishing player behavior like probably never punished say anything doubt record summoner spell champ select\n",
      "------------------------------------------------------------------------------------------------------------------------------------------------------\n",
      "runined 14 kda removed\n",
      "------------------------------------------------------------------------------------------------------------------------------------------------------\n",
      "2021 refund token going able claim removed\n",
      "------------------------------------------------------------------------------------------------------------------------------------------------------\n",
      "support carry useless saved team 1v3 push made triple kill saved getting ulted saved 5v5 defense never saw thank chat emote say thanks nothing time died got grabbed team abandoned retreating 3v3\n",
      "------------------------------------------------------------------------------------------------------------------------------------------------------\n",
      "playing adc 2020 like\n",
      "------------------------------------------------------------------------------------------------------------------------------------------------------\n",
      "video made feature tyler1 getting rekt\n",
      "------------------------------------------------------------------------------------------------------------------------------------------------------\n",
      "skin spotlight owned really curious skin spotlight youtube riot employee official riot channel\n",
      "------------------------------------------------------------------------------------------------------------------------------------------------------\n",
      "failclips exe see video\n",
      "------------------------------------------------------------------------------------------------------------------------------------------------------\n",
      "riven m paint\n",
      "------------------------------------------------------------------------------------------------------------------------------------------------------\n",
      "warning never back armordillo corner\n",
      "------------------------------------------------------------------------------------------------------------------------------------------------------\n",
      "summoners cup wrong team anyone noticed summoners rift summoners cup show drx logo instead damwon logo cup noticed na server regular draft hopefully riot fix\n",
      "------------------------------------------------------------------------------------------------------------------------------------------------------\n",
      "forever proudest camille triple low gold\n",
      "------------------------------------------------------------------------------------------------------------------------------------------------------\n",
      "aram need melee ranged variant biggest problem aram poke heavy wave clear champ discrepancy ranged melee character poke awful fun dodge low cooldown ability wave get deleted care build tank counter building tank fun dodging crap tiny map fun either top poke champ hate show every game caitlyn xerath lux sivir zoe swear melee could variant would need tank regen item map would amazing feeling duking enemy team center instead hiding turret waiting regen praying get hit ability combination turret hugging wave clearing boring thing ever seen thought picked aram fast paced action packed mode snooze fest team hide turret tl dr hate getting poked aram let play melee peace\n",
      "------------------------------------------------------------------------------------------------------------------------------------------------------\n",
      "new year game happy new year\n",
      "------------------------------------------------------------------------------------------------------------------------------------------------------\n",
      "think relate way came\n",
      "------------------------------------------------------------------------------------------------------------------------------------------------------\n",
      "\n",
      "------------------------------------------------------------------------------------------------------------------------------------------------------\n",
      "katarina rework concept rework stayed away specific number balancing tried update katarina kit fit better modern roster balance kink like shunpo non telegraphed instant blink took inspiration way katarina depicted various riot medium stay true character playstyle additionally thematics bit outdated tried bring snuff particularly critical assassin running around noxus bra check let know think open discussion rito pls get rid shunpo http preview redd yzw107fnjfk51 png width 1250 amp format png amp auto webp amp 6634db3ad03296aabea5d6916da3bf919b9e7498\n",
      "------------------------------------------------------------------------------------------------------------------------------------------------------\n",
      "bruiser top lane companion lane opponent heals worth rushing executioner enemy team shield worth getting serpent fang 3rd item piece advice help climb elo ladder\n",
      "------------------------------------------------------------------------------------------------------------------------------------------------------\n",
      "smurfs 65 wr diamond shitty mmr like every smurf see diamond shitty mmr winning streak yet mmr saw dude game 99 lp gained 15 last one guy 70 wr ranked 150 game mid diamond missing something\n",
      "------------------------------------------------------------------------------------------------------------------------------------------------------\n",
      "anyone know league legend come mobile removed\n",
      "------------------------------------------------------------------------------------------------------------------------------------------------------\n",
      "new kill la caitlyn skin removed\n",
      "------------------------------------------------------------------------------------------------------------------------------------------------------\n",
      "new year resolution play m23 first lol game hey fan league since discover word back 2014 last year struggle debt debt family depression anxiety lack social life care b took wrong place wrong people 2019 closing really good since start talk mom trying open gf depression also got first ever job promotion first thing purchase gaming pc hope get something cheap shitty graphic mine know maybe another subreddit f one else tell guy heard supportive league community want share guy achievement take eventually meet rift anyone need talk feel free dm tip recommendation one talk today happy new year everyone\n",
      "------------------------------------------------------------------------------------------------------------------------------------------------------\n",
      "stuck bronze feel struggle farm actually farming mean melee melee top garen farm 60ish 72 10 min ranged hit ten minute often two death around 30 farm massive level disadvantage recent game playing good leona still lose even get great game here op gg http euw op gg summoner champion username jackocroc\n",
      "------------------------------------------------------------------------------------------------------------------------------------------------------\n",
      "anyone else think game utter bullshit removed\n",
      "------------------------------------------------------------------------------------------------------------------------------------------------------\n",
      "cursed mid que amp x200b somehow managed start que bunch people mid obvious writing subreddit rule need least 100 character except title http preview redd bzpvdatbmzj41 png width 892 amp format png amp auto webp amp eb3eb1c189d3312a12bd240643516e90800992bb\n",
      "------------------------------------------------------------------------------------------------------------------------------------------------------\n",
      "idea give msi champion wild rift skin world champion pc lol skin removed\n",
      "------------------------------------------------------------------------------------------------------------------------------------------------------\n",
      "riot server today na\n",
      "------------------------------------------------------------------------------------------------------------------------------------------------------\n",
      "season challenger introduced removed\n",
      "------------------------------------------------------------------------------------------------------------------------------------------------------\n",
      "summoners edge new podcast removed\n",
      "------------------------------------------------------------------------------------------------------------------------------------------------------\n",
      "long take learn new champion wondering people experience learning champion feel like lose every game champion comfortable win 65 game riven main champ many game champion take play one skill capacity thanks\n",
      "------------------------------------------------------------------------------------------------------------------------------------------------------\n",
      "minute game 2020\n",
      "------------------------------------------------------------------------------------------------------------------------------------------------------\n",
      "ezreal r outplay living\n",
      "------------------------------------------------------------------------------------------------------------------------------------------------------\n",
      "league legend amateur post hi organizing amateur tournament july 1st amp x200b http preview redd 0q21o9h215851 png width 1290 amp format png amp auto webp amp 43fe82af7af69b0215b40bb309a9dc8a127f8a62 know http www tobeop com league legend amateur tournament op na server http www tobeop com league legend amateur tournament op na server team use post find one leaving info summoner name elo main role\n",
      "------------------------------------------------------------------------------------------------------------------------------------------------------\n",
      "yassuo prof getting silver hard challenger player cant get silver sheer amount troll afks feeder think say something state game low elo\n",
      "------------------------------------------------------------------------------------------------------------------------------------------------------\n",
      "yone receive skin lillia really understand riot game hope riot game lillia ornn kindred really sad\n",
      "------------------------------------------------------------------------------------------------------------------------------------------------------\n",
      "someone explain hell witnessed craziest penta seen\n",
      "------------------------------------------------------------------------------------------------------------------------------------------------------\n",
      "stop someone basing\n",
      "------------------------------------------------------------------------------------------------------------------------------------------------------\n",
      "duoeune removed\n",
      "------------------------------------------------------------------------------------------------------------------------------------------------------\n",
      "threading needle pyke enemy minion griefing\n",
      "------------------------------------------------------------------------------------------------------------------------------------------------------\n",
      "eu talent win eu master term na counterpart ever get scouted academy since fun talking import thought add two cent let say eu know friend massively talented talented fact pretty sure beat g2 one handed petty lec owner like one bit give deserved chance since eu simply apply one 17 open qualifier team good think qualify one 30 regional league probably shitty 3rd 4th tier league nobody scout 3rd tier league wanted want real deal well keep winning team nobody simply qualify next tier first tier national league league viewership league team scouting league play former future lec player fantasy keep going win eu master regional lec team acknowledge skill dont directly go lec still able keep fighting national league become popular obviously realistic idea mean dont need approval acknowledgement shitty lec team owner deserve minimum wage good enough want try nobody stop likely improve along way let say youre na best get nobody scouting ground anyone even watch university circuit twitch meme league honestly dont even know make name na team consider demovitation never going make unless regi think\n",
      "------------------------------------------------------------------------------------------------------------------------------------------------------\n",
      "friend bad couple day league meme\n",
      "------------------------------------------------------------------------------------------------------------------------------------------------------\n",
      "grinding honor fastest best way still hard carry ranked game shit enemy team chat lulz\n",
      "------------------------------------------------------------------------------------------------------------------------------------------------------\n",
      "one buy grievious wound clash\n",
      "------------------------------------------------------------------------------------------------------------------------------------------------------\n",
      "shouldnt lose lp afk guy played afks multiple game hasnt even gotten warning smurf account wont care got banned game played basically ran afked lose lp riot need implement system one teammate afk dont lose lp guy op gg http na op gg summoner username ferocious triton http na op gg summoner username ferocious triton\n",
      "------------------------------------------------------------------------------------------------------------------------------------------------------\n",
      "streaming removed\n",
      "------------------------------------------------------------------------------------------------------------------------------------------------------\n",
      "hate new year god damn much team bunch clown playing lol fun random troll pick new year enemy unironic genuine tryahrds\n",
      "------------------------------------------------------------------------------------------------------------------------------------------------------\n",
      "someone asked king rammus skin splashart removed\n",
      "------------------------------------------------------------------------------------------------------------------------------------------------------\n",
      "league tencent fun removed\n",
      "------------------------------------------------------------------------------------------------------------------------------------------------------\n",
      "riot missing kda evelynn skin hey guy anyone know report riot missing skin playing singapore server sure everyone know k daily mission giving kda evelynn skin free friend completed mission time got skin update get link google drive show proof still gotten skin please help already reported far nothing yet http drive google com drive folder 1vvz5 _pybk0fvccjcw8ydznpmul0v2yio usp sharing http drive google com drive folder 1vvz5_pybk0fvccjcw8ydznpmul0v2yio usp sharing\n",
      "------------------------------------------------------------------------------------------------------------------------------------------------------\n",
      "pbe preview battle academia 2021\n",
      "------------------------------------------------------------------------------------------------------------------------------------------------------\n",
      "control ward worst contol ward loser even use wan ward ward detect degeneratie traituris scum 75 gold know buy 75 dollar postiturs yeah high right high hate control ward good buy blade cisco instead good item bye\n",
      "------------------------------------------------------------------------------------------------------------------------------------------------------\n",
      "golden guardian v immortal lcs 2020 spring week post match discussion ggs win stats sec\n",
      "------------------------------------------------------------------------------------------------------------------------------------------------------\n",
      "best cassio na cassiopeia lol montage petrifying gaze short montage friend popin cassio http www youtube com watch v wrwzzsg1a6a http www youtube com watch v wrwzzsg1a6a\n",
      "------------------------------------------------------------------------------------------------------------------------------------------------------\n",
      "need one kid low elo hurry removed\n",
      "------------------------------------------------------------------------------------------------------------------------------------------------------\n",
      "captain flower return casting removed\n",
      "------------------------------------------------------------------------------------------------------------------------------------------------------\n",
      "need know name game sooooo latest video faker t1 faker youtube channel played game waiting champ select anyone know name first second video sylas gameplay\n",
      "------------------------------------------------------------------------------------------------------------------------------------------------------\n",
      "unexpected dragon steal removed\n",
      "------------------------------------------------------------------------------------------------------------------------------------------------------\n",
      "bug screen flickering allow interact client unless restart need help guy client randomly started flickering black actual client forced dodge ranked lobby due fact able interact client happened total three time actually quite worried queue case would occur anyone else problem go solve issue thanks advance http preview redd gy9bqcps8nk61 jpg width 1601 amp format pjpg amp auto webp amp e73624aeebe3e848012903664c0d7b99c6bebed1\n",
      "------------------------------------------------------------------------------------------------------------------------------------------------------\n",
      "fact demotion shield tier v terrible rewarding ranked experience way kicked tier e plat lp without demotion shield booted back 75 lp essentially forced win two game get back tier took one game take lp honestly prefer playing promos tier mean demotion shield rather back forth division weighted losing lp mean 25 lp fun anybody else agree\n",
      "------------------------------------------------------------------------------------------------------------------------------------------------------\n",
      "league legend community want thread toxic message received league legend chat hide summoner name player sent message\n",
      "------------------------------------------------------------------------------------------------------------------------------------------------------\n",
      "little offtopic guess im searching invite link discord server called ego accidentally left sure joined tbh\n",
      "------------------------------------------------------------------------------------------------------------------------------------------------------\n",
      "new patch note removed\n",
      "------------------------------------------------------------------------------------------------------------------------------------------------------\n",
      "make sense ezreal steal item role iceborne lizard runeglaive ludens also fact used kleptomancy game afterall thief aim antique high showerthought hope exaggerating something obvious native language sorry butchered grammar p stay clean hydrated peace\n",
      "------------------------------------------------------------------------------------------------------------------------------------------------------\n",
      "looking peep join party new year hi summoner making party peep play league tonight celebrate new year right fun playing game people ive never met wanna come hang discord play game drop ig add even hanging alone want peep talk happy new year everyone\n",
      "------------------------------------------------------------------------------------------------------------------------------------------------------\n",
      "going stuck silver forever removed\n",
      "------------------------------------------------------------------------------------------------------------------------------------------------------\n",
      "20 get im kinda pissed least got promoted wanted mastery token\n",
      "------------------------------------------------------------------------------------------------------------------------------------------------------\n",
      "sad news remilia first woman make lcs dy age 24\n",
      "------------------------------------------------------------------------------------------------------------------------------------------------------\n",
      "fanart happy new year rengo\n",
      "------------------------------------------------------------------------------------------------------------------------------------------------------\n",
      "point playing adc enemy team champion like ekko talon garen akali popular high damage champion get one shot ekko talon garen chase time kite 70 health already killed akali also one shotting buy guardian angle help every minute might well even participate team fight champion like simply wait appear proceed delete game faster blink eye matter hiding bush behind team tower get deleted\n",
      "------------------------------------------------------------------------------------------------------------------------------------------------------\n",
      "gangplank really versatile tobias fate absolute madlad know content creator maybe rune take optimal take lolz guess seen taking arcane comet sometimes dark harvest tried one make pretty strong make pretty squishy cuz build pure damage dusk blade instead triforce used taking grasp cuz procs gp q amazing give lot sustain lane pretty useful outscale opponent hard matchup seen taking fleet footwork cuz also heals every amazing think gp really versatile maybe kit combine pretty well lot primary rune maybe tobias fun ask versatility one main reason started playing gp ok take one suggestion gp main\n",
      "------------------------------------------------------------------------------------------------------------------------------------------------------\n",
      "jinxy aram always blast p\n",
      "------------------------------------------------------------------------------------------------------------------------------------------------------\n",
      "playoff proposal making spring split worthwhile keeping 2020 playoff format intact\n",
      "------------------------------------------------------------------------------------------------------------------------------------------------------\n",
      "academy player get good pay removed\n",
      "------------------------------------------------------------------------------------------------------------------------------------------------------\n",
      "battle academia yone caitlyn leona splash art\n",
      "------------------------------------------------------------------------------------------------------------------------------------------------------\n",
      "10 10 hook experiencing packet loss game stuff like happened\n",
      "------------------------------------------------------------------------------------------------------------------------------------------------------\n",
      "stream removed\n",
      "------------------------------------------------------------------------------------------------------------------------------------------------------\n",
      "community game welcoming removed\n",
      "------------------------------------------------------------------------------------------------------------------------------------------------------\n",
      "think shadow isle champ gonna appear ruined king game removed\n",
      "------------------------------------------------------------------------------------------------------------------------------------------------------\n",
      "lec lcs restarting see anything website thought ask heard january sometime\n",
      "------------------------------------------------------------------------------------------------------------------------------------------------------\n",
      "got message whenever try send message disappears anyone know\n",
      "------------------------------------------------------------------------------------------------------------------------------------------------------\n",
      "lcs seem boring watch season removed\n",
      "------------------------------------------------------------------------------------------------------------------------------------------------------\n",
      "lol item change greatest thing happened lol long time new champion added game league slowly introducing power creep game new power level become standard release something op released next update pokemon extreme example power creep whenever newer pokemons released old pokemons became weaker first riot decided introduce item change thought would another big power creep introduced game reading item theorycrafting different build think item way healthier improve lol meta point reasoning introduction grievous wound le overall sustain item sustain build removed time newer bruiser item feel way better modern use compared death dance healing every single bruiser build jungle enchantment removal give jungler access core item sooner making jungle itemization diverse healthy mythic item strong effect like invisibility dash balanced premium pricing mean none overtake meta like death dance lastly many player always building mythic item first mythic passive making 2nd 3rd even 4th item better never build rabadon infinity edge first item since get full value immediately lot good legendary item every stage game player ignore mythic item legendary item combo bruiser going steraks gargoyle titanic could go stridebreaker sell boot late game free item slot mindlessly rushing mythic item good unless moonstone support think future lot interesting build pop item set look promising\n",
      "------------------------------------------------------------------------------------------------------------------------------------------------------\n",
      "love everything holy turn 25 prestige token orange lot one token atime key fragment ability convert entire stack even like tech exist rito plz\n",
      "------------------------------------------------------------------------------------------------------------------------------------------------------\n",
      "ok hear senna top think would work jesus much fun honestly think people try sorry top lane main think work really well scale basically free kinda op rn though maybe thought\n",
      "------------------------------------------------------------------------------------------------------------------------------------------------------\n",
      "psa never surrender one team mate fed people seem give instantly losing general never seem pay attention team mate successful fed everyone actually play around fed successful team mate still win rough game even opposing enemy team way ahead\n",
      "------------------------------------------------------------------------------------------------------------------------------------------------------\n",
      "brand skillful brand thing removed\n",
      "------------------------------------------------------------------------------------------------------------------------------------------------------\n",
      "lcs lec really version kespa demacia cup preseason title stand right giant gap early november way til late january na eu fan team basically nothing na fan even worse since team always get eliminated early anyways kill please thanks star take day early december basically furthest thing real competitive event top player actually get participate china korea kespa demacia cup take big chunk dead time preseason providing team real competitive practice also giving fan something interesting watch bracket format allows team league participate including academy team korea think format would especially beneficial na eu bo3 bo5 experience far get see preview new roster tournament like could also include academy team na regional league team eu idk community opinion would personally love see riot something like next year\n",
      "------------------------------------------------------------------------------------------------------------------------------------------------------\n",
      "peak lol matchmaking losing smurf queue game winning wrong elo high mmr rank play game smurfs could literally avoid making lp mmr btw could literally avoid making lp mmr btw could literally avoid making lp mmr btw could literally avoid making lp mmr btw could literally avoid making lp mmr btw\n",
      "------------------------------------------------------------------------------------------------------------------------------------------------------\n",
      "yellow tint league game sure anyone else problem league related match screen tint yellow way turn back happened different pc\n",
      "------------------------------------------------------------------------------------------------------------------------------------------------------\n",
      "syndra op\n",
      "------------------------------------------------------------------------------------------------------------------------------------------------------\n",
      "guy tahm kench good top layer shen lover trying expand knowledge another tanky champ kinda feeling shen found tahm thing really know top laner almost never see\n",
      "------------------------------------------------------------------------------------------------------------------------------------------------------\n",
      "client showing enemy team people played v tft2 morning\n",
      "------------------------------------------------------------------------------------------------------------------------------------------------------\n",
      "one disgusting repulsive thing ever seen player behavior pbe playing pbe today encountered group four player named george floyd breathe bldontmatter derek chauvin amp x200b frankly point disappointed surprised people pbe particular act impunity riot made clear care little server actually shocked http preview redd wl3pwh26ggk51 png width 1045 amp format png amp auto webp amp e3d59ff3501bdbe7f51890703685814576d3bed8\n",
      "------------------------------------------------------------------------------------------------------------------------------------------------------\n",
      "answer community xin zhao mini rework dissapointing update change specified tentative expecting feedback also community begging week ago ir starting mini reworks outdated champion hell answer everyone read really bad negative reaction literally put ap ratio kit trashing like change made pair word could read shifting power champion aa statcheck playstyle w champ interactive change may good bad personally know turn shitting change ap ratio ridiculous discourages riot making mini reworks like change like sol one would understand even case\n",
      "------------------------------------------------------------------------------------------------------------------------------------------------------\n",
      "game performance worse every update removed\n",
      "------------------------------------------------------------------------------------------------------------------------------------------------------\n",
      "teemo double penta one game\n",
      "------------------------------------------------------------------------------------------------------------------------------------------------------\n",
      "okay lucian get kill\n",
      "------------------------------------------------------------------------------------------------------------------------------------------------------\n",
      "sett w one satisfying ability land\n",
      "------------------------------------------------------------------------------------------------------------------------------------------------------\n",
      "hecarim fucking broken rather new player dont see point character movement speed buff get start game slam tower wall tank every single hit like nothing v people maybe level insane every single time played drop 20 kill slaughter\n",
      "------------------------------------------------------------------------------------------------------------------------------------------------------\n",
      "hoping still relevant\n",
      "------------------------------------------------------------------------------------------------------------------------------------------------------\n",
      "please fix autoprotect priority hard carry win game removed\n",
      "------------------------------------------------------------------------------------------------------------------------------------------------------\n",
      "highlight league aram dad\n",
      "------------------------------------------------------------------------------------------------------------------------------------------------------\n",
      "brand hot\n",
      "------------------------------------------------------------------------------------------------------------------------------------------------------\n",
      "fun getting one shot cannon\n",
      "------------------------------------------------------------------------------------------------------------------------------------------------------\n",
      "event skin border prestige edition hey guy quick question recently got obsidian dragon sett prestige edition skin world event wonder unlock border world token replace prestige border unlockable border way nicer imo thank\n",
      "------------------------------------------------------------------------------------------------------------------------------------------------------\n",
      "new band world metal genre pentakill kpop genre k da rap genre true damage think would great create rock band world 2022 take place america think rock band fit well region sure correct wrong popular rock band like imagine dragon linkin park america right one two champion singing playing drum game skin instead dancing summon drum play guitar maybe piano maybe music keyboard think\n",
      "------------------------------------------------------------------------------------------------------------------------------------------------------\n",
      "dear riot thank dearest rito happy new year old friend awhile since last broken bread never strayed far thought decade come gradual close others celebrate upcoming year help reflect given may seem hard believe one point life bad game perfect made mistake bought wrong item fed opponent complete bona fide ape like ape first entered battlefield ranked thrust depth bronze pissed desperate first couple week climb hellish pit climb ranked mountain acknowledged league legend god life plan ranked game ranked game lose hellish lose every game chipping away sanity already broken ape like ape pushed away blame blamed teammate developer champion op champion weak internet list infinite ranked season continued hopeless stuck bottom pit forced look elegant silver rank reach eventually learned learned game learned outplay learned strategy pivotal victory learned grew rewarded game played video stream watched research gathered lp gained learning growing content awhile year rode line bronze silver knowledge escape bronze time time lacking raw talent stay silver matter much work put escape boosted monkey blood mad lad like riot heard call heard plea shed merciful light made champion op crafted champion goddamn strong even goddamn certified ape zoid manage climb slick blue hair beautiful cryptic smolder hot topic persona thank riot bottom heart thank aphelios simply turn netflix monitor turn brain coast way master like true league legend pro happy new year btw\n",
      "------------------------------------------------------------------------------------------------------------------------------------------------------\n",
      "brand new clueless hey guy decided try game whim dig idea gonna brutally honest clue anybody mind sharing learning game\n",
      "------------------------------------------------------------------------------------------------------------------------------------------------------\n",
      "picking jarvan almost feel like handicapping removed\n",
      "------------------------------------------------------------------------------------------------------------------------------------------------------\n",
      "account transfer removed\n",
      "------------------------------------------------------------------------------------------------------------------------------------------------------\n",
      "got outplayed mr 200 year\n",
      "------------------------------------------------------------------------------------------------------------------------------------------------------\n",
      "meme allowed\n",
      "------------------------------------------------------------------------------------------------------------------------------------------------------\n",
      "depth thought ability thought let say thresh quinn team summoner rift thresh threw lantern quinn shield bubble heated fight enemy champion let say quinn dashed towards enemy champion using e still protective bubble shield dashing enemy champion literally enemy face question since soul actively shielding bubble time impact would enemy champion dashing right e shield bubble theory collide enemy champion dashing would feel like hit shield perspective champion fighting quinn scenario would shield bubble make sort collision impact enemy champion upon dashing said enemy course asking gameplay perspective rather trying make sense lore perspective\n",
      "------------------------------------------------------------------------------------------------------------------------------------------------------\n",
      "lost count many account permabanned reporting work let anyone tell otherwise even echo chamber enthusiast nothing whine one punished game yes\n",
      "------------------------------------------------------------------------------------------------------------------------------------------------------\n",
      "silver pleb seeing belong silver http na op gg summoner username wandrinkwander really honestly pretty casual player played since s3 done much climb gold every end season like feedback work realistic possibility carry easier elo first think need work c bit greatest seem pretty 50 50 c range c per minute easily second would map awareness recently watched played plat diamond friend told awareness jungler movement extra important besides pretty lost else need done especially seeing game elo decided le 10 minute mark could get suggestion perspective thanks\n",
      "------------------------------------------------------------------------------------------------------------------------------------------------------\n",
      "canadian rp purchase charge pst 100 rp purchase cost 107 cad first thought digital subscription like spotify netflix disney plus get extra tax starting month man wrong today realized even game purchase league legend valorant etc tax added top charge visa card master card paypal p riot game store notified u change really canadian gamers better way purchasing rp transferring account another region buy ton rp transfer back maybe way better deal u buy lot rp valorant currency since add lemme know u think better deal thanks\n",
      "------------------------------------------------------------------------------------------------------------------------------------------------------\n",
      "na soloq macro better professional play macro\n",
      "------------------------------------------------------------------------------------------------------------------------------------------------------\n",
      "allowed amp x200b http preview redd c0otuvms2fw61 png width 1013 amp format png amp auto webp amp 40981da20e4ae503b8a4a873b74cdee07f9366cc almost 200 game recorded season win telling bot account made 200 lobby still banned small indie company cant detect type behavior issue ban blow mind chat moderation stricter\n",
      "------------------------------------------------------------------------------------------------------------------------------------------------------\n",
      "leona play peaked\n",
      "------------------------------------------------------------------------------------------------------------------------------------------------------\n",
      "riot need rework reporting system tryndamere team botted account inted admitted afked banned yet removed\n",
      "------------------------------------------------------------------------------------------------------------------------------------------------------\n",
      "lucky leona female champion survived multiple attempt getting killed\n",
      "------------------------------------------------------------------------------------------------------------------------------------------------------\n",
      "euw clash lfg megathread september 5th 6th euw lfg megathread thread euw region looking player another region click applicable link post hello everyone riot announced another clash event date september 5th 6th thread help find people play coming weekend split four different post divided region na euw eune post please include following information ign rank tier role many need optionally include champion pool main join discord would like find people http discord gg lol\n",
      "------------------------------------------------------------------------------------------------------------------------------------------------------\n",
      "unpopular opinion lol item change greatest thing happened lol long time removed\n",
      "------------------------------------------------------------------------------------------------------------------------------------------------------\n",
      "mac installation process removed\n",
      "------------------------------------------------------------------------------------------------------------------------------------------------------\n",
      "game mode start max level removed\n",
      "------------------------------------------------------------------------------------------------------------------------------------------------------\n",
      "new patch note sona rework removed\n",
      "------------------------------------------------------------------------------------------------------------------------------------------------------\n",
      "said he going int man legit said he going int post op gg http op gg thinking would funny please report something need banned actually inting lose lp dodging match teammate said going int http preview redd bg8mlk7ikzj41 png width 689 amp format png amp auto webp amp cbcb361bd46845ada4b5a5862876bac575c83be0 http preview redd 3eihbk7ikzj41 png width 356 amp format png amp auto webp amp 6d3fb33db4fcc34d9151acb67754398691ac4027 http preview redd q2gqkm7ikzj41 png width 349 amp format png amp auto webp amp 3c78bd3497e5548bae0d7c6fe4ef1f0b8f005fc0\n",
      "------------------------------------------------------------------------------------------------------------------------------------------------------\n",
      "worry 500 game stuck silver recently playing ranked game well still game mf team wrote 500 game hardstuck silver explains lot concerned lot first didnt realise played 500 ranked game second noticed quite improvement skill say since never close gold like 20 lp promos gold pretty confident skill mf told played 500 game im still silver next ranked game defocused basically went kayn top aatrox thinking statement mf said pretty much game ive playing since may looked account seemed kind place seem like lvl 39 player like maybe smurf unranked season imo seemed like play like played league since preseason believe played lot 2016 2017 still newbie played bit early 2018 2019 played fun came back try get gold higher also considering play league le thanks answer tl dr teammate told hardstuck silver know played 500 game teammate account seemed fishy defocused concerned skill keep playing league\n",
      "------------------------------------------------------------------------------------------------------------------------------------------------------\n",
      "100 academy v tl academy lac 2020 spring week post match discussion lac 2020 spring official page http nexus leagueoflegends com en u esports leaguepedia http lol gamepedia com na_academy_league 2020_season spring_season liquipedia http liquipedia net leagueoflegends academy_league north_america 2020 spring group_stage eventvods com http eventvods com featured lol utm_source reddit amp utm_medium subreddit amp utm_campaign post_match_threads new lol http lol gamepedia com new_to_league welcome tl academy 100 academy tla leaguepedia http lol gamepedia com team_liquid liquipedia http liquipedia net leagueoflegends team_liquid website http www teamliquidpro com twitter http twitter com teamliquidlol facebook http www facebook com teamliquidlol youtube http www youtube com user teamliquidnet subreddit http www reddit com r teamliquid 100a leaguepedia http lol gamepedia com 100_thieves liquipedia http liquipedia net leagueoflegends 100_thieves website http 100thieves com twitter http twitter com 100thieves facebook http www facebook com 100thieves youtube http www facebook com 100thieves subreddit http www reddit com r 100thieves match tla v 100a winner tl academy 26m ban ban g mt gold k mt kill mt tower b tla pantheon c pantheon ezreal c ezreal tahmkench c tahmkench jarvan iv c jarvaniv azir c azir none 100a ornn c ornn aphelios c aphelios senna c senna aatrox c aatrox soraka c soraka none tla v mt kill 100a jenkins gangplank c gangplank top sett c sett fakegod shernfire olaf c olaf jng trundle c trundle contractz yusui zoe c zoe mid syndra c syndra soligo tactical miss fortune c missfortune bot xayah c xayah prismal cao yuumi c yuumi sup nautilus c nautilus breezyyy thread created post match team http postmatch team\n",
      "------------------------------------------------------------------------------------------------------------------------------------------------------\n",
      "playing aram dad poro trolling\n",
      "------------------------------------------------------------------------------------------------------------------------------------------------------\n",
      "maokai jg maybe coming back feel return tank based jg role matter time maokai jg becomes thing maokai always one insanely cancerous champ strong must picked banned insanely oppressive kit maokai jg thing year whatever constant buff tank based focused item goal shift meta put tree triple flex role real plausible possibility top mid jg\n",
      "------------------------------------------------------------------------------------------------------------------------------------------------------\n",
      "looking ppl play removed\n",
      "------------------------------------------------------------------------------------------------------------------------------------------------------\n",
      "pick urf available play pbe server http twitter com glmarsi status 1256013817768624128 gt happy thursday friend gt urf yes pick urf available pbe go check fun always let u know think time binge pbe come live binge even\n",
      "------------------------------------------------------------------------------------------------------------------------------------------------------\n",
      "trying log requesting user id got email riot received email whilst trying recover username issue logging fyi im australia know received email amp x200b 계정이름 지원 아래에서 귀하의 이메일 주소에 연결된 계정을 확인하실 수 있습니다 이메일 주소 daaaannyzz gmail com mailto daaaannyzz gmail com 리그 오브 레전드 서비스 지역 내 라이엇 계정이름 pbe1 code gonna reveal amp x200b 현재 하나 이상의 한국 라이엇 계정을 보유하고 있습니다 한국 id 찾기 시스템을 이용해 해당 계정들을 복구해 주세요 http link riotgames com l click upn frhghcumwguz9ouhjjkddqjvzeukd6fpb9g4hzydlagxvrgtkawwlgzrb3febyjldm 2fg0 2bji4gmbarnhcorv6g 3d 3dobb2_cafvyc9rprvlau0zoffqwbul0zqlyomjgsuy6ddzs7wrbyhxdaa8sqxawvekyi0nydvqzyaf6upregzbn3dv7b4zvk 2buvi6heutkb9fqo0ggdytpkl0fqj 2bomldwx 2bdbdvtx9i4tbasfvqvpcovctdkrnwwfpas 2fadsbvys7v0nzw 2bl0p 2b1 2fqjy8rmtlo 2fird833lfutgbyqhsjh5lolqwa4ylf84xgtzjw51s9pp 2fr1w3geescp1qx6x9g2rj3lwcdapzq3pl1jcuaiarglfzkrdfzh095esowci2szxqj9lnts80jqswbht8 2bkfjcap5fsrr2ndiyms7qxvsxdgorok663bobbk287u0kdqyhwsvp5rn9ih8x2 2fomqcbcclkffh8xkeju09nywvj1wns3rbkokgeca7oszi1rhqezujrt5oo33fxy9ocr 2bem5ziqoolf75vlv5fhtjyum98qhz1hdzfcofj36htgkg9 2flkn6wk7hmkmxziu4czwxyxvnruf5nlfahewrjx8bscgmqpmy4xj2fuekmhnf23qeu7jiornjpx6a 2bmti 2f3w4nny21qkpcsohbr 2bymeidnjvuytpvgwz8cigil 2bmgfe5wzlrtphmu0cllx8lrymlxirui 2bsbuhc7yvpydnvrk2r 2be2grhdffk 2bip51q 2bhazut1cfvhzn 2fmbkd5rza6 2f9cy23wi1llal6on8syl0thdzaejrktkzho385m4o6f5wroukbjlhz 2b 2b8qvl2arrmbntevuhuaw 2f6piq5sjnpscjd8phe6qabgvqce1nvo 2b 2bllkjvlkelfyie91jxnl9leuhvamqdrq8akj3sgykcebf94azes6g2we515hypzsczvcnixxlif2qnsqzim5xmpztxr 2f8s2wzqqh7q0ckhqr7r9drwn09nfhx102niva 2bwfvjzznhajuf6htp2jpjnjhbnlfrui0n8d66pzd02bfj7th3rv8dmtjq0avxo6cwo 2bsm 3d amp x200b 감사합니다 라이엇 게임즈 드림\n",
      "------------------------------------------------------------------------------------------------------------------------------------------------------\n",
      "seraphine released ealier know huge discussion seraphine espacially release skin ultimate one quick disclaimer dont know anything champion designz long take etc however opinion seraphine released way earlier season may ask well peronally strange whole character overcomming struggle becoming better singer yet already know achives goal becomes member k da would liked riot instead released indie star someone isnt really popular yet could followed road success time would gotten secound skin lore show u journey world k da coming back riot could teased getting onto big stage eventually singing alongside k da accomplishing goal huge pop star obligatory excuse englsih first language\n",
      "------------------------------------------------------------------------------------------------------------------------------------------------------\n",
      "felt good actually expect damage\n",
      "------------------------------------------------------------------------------------------------------------------------------------------------------\n",
      "league legend season 2020 champion rewind removed\n",
      "------------------------------------------------------------------------------------------------------------------------------------------------------\n",
      "happy halloween drew spooky found footage fiddle amp x200b http twitter com vatsofgoop status 1322720191319597057 http preview redd 3ezu98qfejw51 jpg width 2344 amp format pjpg amp auto webp amp 8550a4ef0d8a263214079d1725c63b2516760ffa back another scare viewer beware liked last one much thought another let know think lot fun\n",
      "------------------------------------------------------------------------------------------------------------------------------------------------------\n",
      "able gift champie icon bug right able log thread saying moved loot hopefully bug move intentional decision fuck people pretty ridiculous move new player friend playing longer intentional\n",
      "------------------------------------------------------------------------------------------------------------------------------------------------------\n",
      "first game back league month took break becuase couldnt handle toxicity like everyone keep complaining litearlly 14 minute game right type score enemy top laner got solo killed opponent ireliea literally said game isnt winnable went afk jungle shit talked everyhone left game fucking 14 minute game bet fucking million dollar never get punished often probably get chat restricted typing trying get stop play game fuck still punish ban people fucking typing people like piece shit ruining actual game mute toxic negative people fucking asshole ruined game everyone 14 minute game someone died fuck system backwards as broken banning people type int er afk er game ruiner fucking run rampart\n",
      "------------------------------------------------------------------------------------------------------------------------------------------------------\n",
      "going one wondering next one gamemode going really missed playing 5v5 champ boy imagine yummi\n",
      "------------------------------------------------------------------------------------------------------------------------------------------------------\n",
      "recruiting d3 toplaners tournament na na lf d3 d1 toplaner finish competitive roster hi name zayfray owner nfg esports na based organization focused building player community competition professional setting possible requirement 16 established game knowledge diverse champ pool willingness learn strong communication w jungler amp x200b currently looking finish roster add new starter roster compliment player already roster weekly small tournament help build synergy prepare squad higher level tournament sound like something would interested please dm discord detail discord id zayfray 6305\n",
      "------------------------------------------------------------------------------------------------------------------------------------------------------\n",
      "top 10 league player 2019\n",
      "------------------------------------------------------------------------------------------------------------------------------------------------------\n",
      "invalid code hey trying reach riot avail purchased two lol gift card worth 10 electronics store australia message getting redeeming rps code valid region anyone faced issue yes please help thanks\n",
      "------------------------------------------------------------------------------------------------------------------------------------------------------\n",
      "top lec mids week amp x200b http preview redd pkdjnkjxiyj41 png width 4500 amp format png amp auto webp amp ecb822c1fdb52e8412f48c356ea418a5c060cd1f quick recap week mid lane perspective best worst\n",
      "------------------------------------------------------------------------------------------------------------------------------------------------------\n",
      "bard greatly struggling pre season reasonable buff make viable title say amp x200b bard currently sitting 52 win rate http lolalytics com lol bard build http lolalytics com lol bard build amp x200b auto range increased 500 550 amp x200b q cosmic binding ap scaling increased 65 100 amp x200b stun duration increased second 75 25 second amp x200b w caretaker shrine ap scaling increased 30 60 amp x200b heal increased 30 60 90 120 150 90 120 150 180 210 amp x200b new effect caretaker shrine longer need build power instant amp x200b e magical journey cooldown decreased 22 20 19 17 16 second 20 18 16 14 second amp x200b r tempered fate target range increased 3400 global\n",
      "------------------------------------------------------------------------------------------------------------------------------------------------------\n",
      "anyone feel like solo que game luck low elo removed\n",
      "------------------------------------------------------------------------------------------------------------------------------------------------------\n"
     ]
    }
   ],
   "source": [
    "# Explore leagueoflegends posts that are incorrectly predicted to dota2\n",
    "\n",
    "for i in prediction_df[(prediction_df.y_test - prediction_df.y_pred) == 1]['X_test']:\n",
    "    print(i)\n",
    "    print('-'*150)"
   ]
  },
  {
   "cell_type": "markdown",
   "id": "83cdb203",
   "metadata": {},
   "source": [
    "Comments on noth sets of incorrectly predicted posts:\n",
    "\n",
    "1. There seems to be a some aggressive lemmatisation and stemming which incorectly spell out the words like \"jungl\" instead of \"jungle\" and \"someth\" instead of \"something\" that I need to adjust in the future.\n",
    "2. The classifier was unable to associate dotabuff to dota2\n",
    "3. The classifier was unable to associate riot, the developer of the game to league of legends"
   ]
  },
  {
   "cell_type": "markdown",
   "id": "e181ccf3",
   "metadata": {},
   "source": [
    "# 5. Conclusion and Recommendations\n",
    "\n",
    "The Random Forest with CountVectorizer worked fairly well with an accuracy score of 74%.\n",
    "The Multinomial Naive Bayes with TfidfVectorizer worked well as well although it garnered a lower accuracy score of 72%.\n",
    "\n",
    "The results that we obtained are decent even though both subreddits were fairly similar. However, we can improve our models by including the following:\n",
    "\n",
    "1. Consider combining misspelled or alternately spelled words to a single representation (e.g. “cool”/”kewl”/”cooool”)\n",
    "2. Consider lemmatization (reduce words such as “am”, “are”, and “is” to a common form such as “be”)\n",
    "3. Tuning of parameters for random forest to get a better score.\n",
    "4. Consider either boosting or bagging to get a more optimal outcome."
   ]
  }
 ],
 "metadata": {
  "kernelspec": {
   "display_name": "Python 3",
   "language": "python",
   "name": "python3"
  },
  "language_info": {
   "codemirror_mode": {
    "name": "ipython",
    "version": 3
   },
   "file_extension": ".py",
   "mimetype": "text/x-python",
   "name": "python",
   "nbconvert_exporter": "python",
   "pygments_lexer": "ipython3",
   "version": "3.8.8"
  }
 },
 "nbformat": 4,
 "nbformat_minor": 5
}
